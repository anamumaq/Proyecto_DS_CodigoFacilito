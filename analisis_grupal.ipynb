{
 "cells": [
  {
   "cell_type": "code",
   "execution_count": null,
   "metadata": {},
   "outputs": [],
   "source": [
    "import pandas as pd\n",
    "import altair as alt\n",
    "import numpy as np"
   ]
  },
  {
   "cell_type": "code",
   "execution_count": null,
   "metadata": {},
   "outputs": [],
   "source": [
    "def extrae_drive(url):\n",
    "    edit = '/edit#gid='\n",
    "    export ='/export?format=xlsx&gid='\n",
    "    url = (url).replace(edit, export)\n",
    "    return url"
   ]
  },
  {
   "cell_type": "markdown",
   "metadata": {},
   "source": [
    "## Generando la Base principal\n",
    "* Se usara la Planilla y la base de cesados, esta sera filtrada segun las condiciones de la conclusion\n",
    "* En esta nueva base se empezara a agregar el resto de informacion para el proyecto"
   ]
  },
  {
   "cell_type": "code",
   "execution_count": null,
   "metadata": {},
   "outputs": [],
   "source": [
    "cesados = extrae_drive('https://docs.google.com/spreadsheets/d/1bO_T0lAQgjcpjFFNVAwiXd2obwRjJS3K/edit#gid=2050623625')\n",
    "cesados = pd.read_excel(\n",
    "    cesados,\n",
    "    usecols='E,I,O,P,S,T,W,X',\n",
    "    dtype = {'CODIGO':str}\n",
    ").rename(\n",
    "    columns = {\n",
    "        'Total o Temprana':'TIEMPO_CESE',\n",
    "        'Producto':'PRODUCTO',\n",
    "        'TIPO':'TIPO_CESE',\n",
    "        'MOTIVO PRIMARIO':'MOTIVO_CESE'\n",
    "    }\n",
    ")\n",
    "\n",
    "planilla = extrae_drive('https://docs.google.com/spreadsheets/d/1L094YBwj3BvobbXb4t3ahzpmL6gBSxgs/edit#gid=648976010')\n",
    "planilla = pd.read_excel(\n",
    "    planilla,\n",
    "    usecols='A,B,D:H',\n",
    "    dtype={'COD':str}\n",
    ").rename(\n",
    "    columns={\n",
    "        'COD':'CODIGO',\n",
    "        'REGION/DPTO':'REGION',\n",
    "        'DIVISION/GC':'DIVISION'\n",
    "\n",
    "    }\n",
    ")"
   ]
  },
  {
   "cell_type": "markdown",
   "metadata": {},
   "source": [
    "* Al aprecer hay colaboradores que cesaron mas de dos veces, es decir que ingresaron, cesaron, volvieron a ingresar y volvieron a cesar\n",
    "* Se tomara en cuenta este numero de ceses como una caracteristca (aunque son pocas las personas)\n",
    "* Eliminare los colaboradores duplicados considerando solo los ultimos ceses, pues son de los que se tendria data mas reciente\n",
    "* Genero la columna antiguedad definida como CESE menos INGRESO en meses"
   ]
  },
  {
   "cell_type": "code",
   "execution_count": null,
   "metadata": {},
   "outputs": [],
   "source": [
    "cesados.groupby(by = 'CODIGO', as_index=False).agg(n = ('CODIGO','count')).query('n>=2')"
   ]
  },
  {
   "cell_type": "code",
   "execution_count": null,
   "metadata": {},
   "outputs": [],
   "source": [
    "cesados = cesados.sort_values(\n",
    "    by = 'CESE',\n",
    "    ascending = False # de mayor a menor\n",
    ").drop_duplicates(\n",
    "    'CODIGO',\n",
    "    keep = 'first' # los mas recientes\n",
    ").iloc[:, [0,2,3,6,7]]"
   ]
  },
  {
   "cell_type": "code",
   "execution_count": null,
   "metadata": {},
   "outputs": [],
   "source": [
    "cesados['antiguedad_meses'] = (((cesados['CESE'] - cesados['INGRESO']).dt.days)/30).round(0)"
   ]
  },
  {
   "cell_type": "markdown",
   "metadata": {},
   "source": [
    "* Utilizo como base Planilla que tiene un registro de colabores cesados y activos\n",
    "* Elimino los duplicados pues, la planilla cuenta con registro de colaboradores por meses, me quedo solo con los mas recientes\n",
    "* Realizo los filtros para generar la base que quiero"
   ]
  },
  {
   "cell_type": "code",
   "execution_count": null,
   "metadata": {},
   "outputs": [],
   "source": [
    "planilla = planilla.drop_duplicates(\n",
    "    'CODIGO',\n",
    "    keep = 'last').iloc[:, 1:6] # no me interesa la fecha, solo los valores unicos del codigo"
   ]
  },
  {
   "cell_type": "code",
   "execution_count": null,
   "metadata": {},
   "outputs": [],
   "source": [
    "df = pd.merge(\n",
    "    planilla,\n",
    "    cesados,\n",
    "    on = 'CODIGO'\n",
    ").query('PRODUCTO == \"GRUPAL\"')"
   ]
  },
  {
   "cell_type": "markdown",
   "metadata": {},
   "source": [
    "* Genero una base para Grupal y Otra para invidual porque seran dos diferentes proyectos con caracteristicas diferentes\n",
    "* Empiezo a filtrar, Cargo, Tipo de cese, motivo y antiguedad"
   ]
  },
  {
   "cell_type": "code",
   "execution_count": null,
   "metadata": {},
   "outputs": [],
   "source": [
    "df = df[\n",
    "    (df['CARGO'].isin(['VENTA INDIVIDUAL', 'VENTA GRUPAL']))\n",
    "    & (df['TIPO_CESE'] == 'VOLUNTARIA')\n",
    "    & (df['MOTIVO_CESE'].isin(['Personal Eventual', 'No le Gusto el Trabajo']))\n",
    "    & (df['antiguedad_meses'] >= 9)]"
   ]
  },
  {
   "cell_type": "markdown",
   "metadata": {},
   "source": [
    "\n",
    "\n",
    "programa_mejora = extrae_drive('https://docs.google.com/spreadsheets/d/1CKFlLpx248yvZS0INAawAA5e8NC2qdvV/edit#gid=1510069928')\n",
    "memos = extrae_drive('https://docs.google.com/spreadsheets/d/1Q2pvICQWLAh8Rvou9FvH085KULXioDVK/edit#gid=238204385')\n",
    "vacaciones = extrae_drive('https://docs.google.com/spreadsheets/d/1riJOPN5KUwV1962wO6mjPL7PMgL2v3_s/edit#gid=800276956')\n",
    "descanso_medico = extrae_drive('https://docs.google.com/spreadsheets/d/1H_oENDjS0FyDNVmSg1199PrE6s8q6z7-/edit#gid=1138295584')\n",
    "bonos_venta_i = extrae_drive('https://docs.google.com/spreadsheets/d/1Vjh5S86c1r60L-CnuQB_m6JZPy223Z4p/edit#gid=100516943834575165411')\n",
    "bonos_venta_g = extrae_drive('https://docs.google.com/spreadsheets/d/1Vjh5S86c1r60L-CnuQB_m6JZPy223Z4p/edit#gid=100516943834575165411')\n",
    "desempeno = extrae_drive()\n",
    "reconocimientos = extrae_drive()\n",
    "hijxs = extrae_drive()\n",
    "datos_personales = extrae_drive()\n",
    "recategorizaciones = extrae_drive()\n",
    "cobertura_ofi = extrae_drive()\n",
    "antg_oficina = extrae_drive()\n",
    "gptw_oficina = extrae_drive()"
   ]
  }
 ],
 "metadata": {
  "language_info": {
   "name": "python"
  },
  "orig_nbformat": 4
 },
 "nbformat": 4,
 "nbformat_minor": 2
}
