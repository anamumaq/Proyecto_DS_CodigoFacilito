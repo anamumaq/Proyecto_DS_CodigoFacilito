{
 "cells": [
  {
   "cell_type": "code",
   "execution_count": 5,
   "metadata": {},
   "outputs": [],
   "source": [
    "import pandas as pd\n",
    "import altair as alt\n",
    "import numpy as np"
   ]
  },
  {
   "cell_type": "code",
   "execution_count": 6,
   "metadata": {},
   "outputs": [],
   "source": [
    "def extrae_drive(url):\n",
    "    edit = '/edit#gid='\n",
    "    export ='/export?format=xlsx&gid='\n",
    "    url = (url).replace(edit, export)\n",
    "    return url"
   ]
  },
  {
   "cell_type": "markdown",
   "metadata": {},
   "source": [
    "## Generando la Base principal\n",
    "* Se usara la base de **cesados** y la base **Planilla**, esta sera filtrada segun las condiciones de la conclusion\n",
    "* En esta nueva base se empezara a agregar el resto de informacion para el proyecto"
   ]
  },
  {
   "cell_type": "code",
   "execution_count": 7,
   "metadata": {},
   "outputs": [],
   "source": [
    "# Extrae Cesados y planilla\n",
    "cesados = extrae_drive('https://docs.google.com/spreadsheets/d/1bO_T0lAQgjcpjFFNVAwiXd2obwRjJS3K/edit#gid=2050623625')\n",
    "cesados = pd.read_excel(\n",
    "                cesados,\n",
    "                usecols='E,I,O,P,S,T,W,X'\n",
    "            ).rename(\n",
    "                columns = {\n",
    "                    'Total o Temprana':'TIEMPO_CESE',\n",
    "                    'Producto':'PRODUCTO',\n",
    "                    'TIPO':'TIPO_CESE',\n",
    "                    'MOTIVO PRIMARIO':'MOTIVO_CESE'}\n",
    "            )\n",
    "\n",
    "planilla = extrae_drive('https://docs.google.com/spreadsheets/d/1L094YBwj3BvobbXb4t3ahzpmL6gBSxgs/edit#gid=648976010')\n",
    "planilla = pd.read_excel(\n",
    "                planilla,\n",
    "                usecols='A,B,D:H'\n",
    "            ).rename(\n",
    "                columns={\n",
    "                    'COD':'CODIGO',\n",
    "                    'REGION/DPTO':'REGION',\n",
    "                    'DIVISION/GC':'DIVISION'    }\n",
    "            )"
   ]
  },
  {
   "cell_type": "markdown",
   "metadata": {},
   "source": [
    "* Al aprecer hay colaboradores que cesaron mas de dos veces, es decir que ingresaron, cesaron, volvieron a ingresar y volvieron a cesar\n",
    "* Se tomara en cuenta este numero de ceses como una caracteristca (aunque son pocas las personas) ***Revisar**\n",
    "* Eliminare los colaboradores duplicados considerando solo los ultimos ceses, pues son de los que se tendria data mas reciente\n",
    "* Genero la columna antiguedad definida como CESE menos INGRESO en meses"
   ]
  },
  {
   "cell_type": "code",
   "execution_count": 8,
   "metadata": {},
   "outputs": [
    {
     "data": {
      "text/html": [
       "<div>\n",
       "<style scoped>\n",
       "    .dataframe tbody tr th:only-of-type {\n",
       "        vertical-align: middle;\n",
       "    }\n",
       "\n",
       "    .dataframe tbody tr th {\n",
       "        vertical-align: top;\n",
       "    }\n",
       "\n",
       "    .dataframe thead th {\n",
       "        text-align: right;\n",
       "    }\n",
       "</style>\n",
       "<table border=\"1\" class=\"dataframe\">\n",
       "  <thead>\n",
       "    <tr style=\"text-align: right;\">\n",
       "      <th></th>\n",
       "      <th>CODIGO</th>\n",
       "      <th>n</th>\n",
       "    </tr>\n",
       "  </thead>\n",
       "  <tbody>\n",
       "    <tr>\n",
       "      <th>425</th>\n",
       "      <td>A22AAAAA34</td>\n",
       "      <td>2</td>\n",
       "    </tr>\n",
       "    <tr>\n",
       "      <th>535</th>\n",
       "      <td>A33AAAA149</td>\n",
       "      <td>2</td>\n",
       "    </tr>\n",
       "    <tr>\n",
       "      <th>580</th>\n",
       "      <td>A33AAAA21A</td>\n",
       "      <td>2</td>\n",
       "    </tr>\n",
       "    <tr>\n",
       "      <th>642</th>\n",
       "      <td>A34AAAAA55</td>\n",
       "      <td>2</td>\n",
       "    </tr>\n",
       "    <tr>\n",
       "      <th>688</th>\n",
       "      <td>A36AAAAA18</td>\n",
       "      <td>2</td>\n",
       "    </tr>\n",
       "    <tr>\n",
       "      <th>1151</th>\n",
       "      <td>A4AAAAA57A</td>\n",
       "      <td>2</td>\n",
       "    </tr>\n",
       "    <tr>\n",
       "      <th>1212</th>\n",
       "      <td>A4AAAAA742</td>\n",
       "      <td>2</td>\n",
       "    </tr>\n",
       "    <tr>\n",
       "      <th>1397</th>\n",
       "      <td>A57AAAAA17</td>\n",
       "      <td>2</td>\n",
       "    </tr>\n",
       "    <tr>\n",
       "      <th>1408</th>\n",
       "      <td>A57AAAAA37</td>\n",
       "      <td>2</td>\n",
       "    </tr>\n",
       "    <tr>\n",
       "      <th>1938</th>\n",
       "      <td>A84AAAAA56</td>\n",
       "      <td>2</td>\n",
       "    </tr>\n",
       "    <tr>\n",
       "      <th>1970</th>\n",
       "      <td>A85AAAAA4A</td>\n",
       "      <td>2</td>\n",
       "    </tr>\n",
       "    <tr>\n",
       "      <th>1984</th>\n",
       "      <td>A86AAAAAA3</td>\n",
       "      <td>2</td>\n",
       "    </tr>\n",
       "    <tr>\n",
       "      <th>2435</th>\n",
       "      <td>AA7AAA2485</td>\n",
       "      <td>2</td>\n",
       "    </tr>\n",
       "    <tr>\n",
       "      <th>2448</th>\n",
       "      <td>AA7AAA2763</td>\n",
       "      <td>2</td>\n",
       "    </tr>\n",
       "    <tr>\n",
       "      <th>2471</th>\n",
       "      <td>AA7AAA2AA1</td>\n",
       "      <td>2</td>\n",
       "    </tr>\n",
       "    <tr>\n",
       "      <th>2483</th>\n",
       "      <td>AA7AAA319A</td>\n",
       "      <td>2</td>\n",
       "    </tr>\n",
       "    <tr>\n",
       "      <th>2507</th>\n",
       "      <td>AA7AAA3363</td>\n",
       "      <td>2</td>\n",
       "    </tr>\n",
       "    <tr>\n",
       "      <th>2703</th>\n",
       "      <td>AA7AAA4731</td>\n",
       "      <td>2</td>\n",
       "    </tr>\n",
       "    <tr>\n",
       "      <th>2793</th>\n",
       "      <td>AA7AAA4A5A</td>\n",
       "      <td>2</td>\n",
       "    </tr>\n",
       "    <tr>\n",
       "      <th>3318</th>\n",
       "      <td>AA8AAA3A12</td>\n",
       "      <td>2</td>\n",
       "    </tr>\n",
       "  </tbody>\n",
       "</table>\n",
       "</div>"
      ],
      "text/plain": [
       "          CODIGO  n\n",
       "425   A22AAAAA34  2\n",
       "535   A33AAAA149  2\n",
       "580   A33AAAA21A  2\n",
       "642   A34AAAAA55  2\n",
       "688   A36AAAAA18  2\n",
       "1151  A4AAAAA57A  2\n",
       "1212  A4AAAAA742  2\n",
       "1397  A57AAAAA17  2\n",
       "1408  A57AAAAA37  2\n",
       "1938  A84AAAAA56  2\n",
       "1970  A85AAAAA4A  2\n",
       "1984  A86AAAAAA3  2\n",
       "2435  AA7AAA2485  2\n",
       "2448  AA7AAA2763  2\n",
       "2471  AA7AAA2AA1  2\n",
       "2483  AA7AAA319A  2\n",
       "2507  AA7AAA3363  2\n",
       "2703  AA7AAA4731  2\n",
       "2793  AA7AAA4A5A  2\n",
       "3318  AA8AAA3A12  2"
      ]
     },
     "execution_count": 8,
     "metadata": {},
     "output_type": "execute_result"
    }
   ],
   "source": [
    "# Colaboradores con mas de 2 ceses\n",
    "cesados.groupby(by = 'CODIGO', as_index=False).agg(n = ('CODIGO','count')).query('n>=2')"
   ]
  },
  {
   "cell_type": "code",
   "execution_count": 9,
   "metadata": {},
   "outputs": [],
   "source": [
    "cesados = cesados.sort_values(\n",
    "    by = 'CESE',\n",
    "    ascending = False # de mayor a menor\n",
    ").drop_duplicates(\n",
    "    'CODIGO',\n",
    "    keep = 'first' # los mas recientes\n",
    ").iloc[:, [0,2,3,6,7]] #solo selecciono las columnas que usare"
   ]
  },
  {
   "cell_type": "code",
   "execution_count": 10,
   "metadata": {},
   "outputs": [],
   "source": [
    "cesados['antiguedad_meses'] = (((cesados['CESE'] - cesados['INGRESO']).dt.days)/30).round(0) # Creo antiguedad"
   ]
  },
  {
   "cell_type": "markdown",
   "metadata": {},
   "source": [
    "* Utilizo como base Planilla que tiene un registro de colabores cesados y activos\n",
    "* Elimino los duplicados pues, la planilla cuenta con registro de colaboradores por meses, me quedo solo con los mas recientes\n",
    "* Realizo los filtros para generar la base que quiero"
   ]
  },
  {
   "cell_type": "code",
   "execution_count": 11,
   "metadata": {},
   "outputs": [],
   "source": [
    "planilla = planilla.drop_duplicates(\n",
    "    'CODIGO',\n",
    "    keep = 'last').iloc[:, 1:6] # no me interesa la fecha, solo los valores unicos del codigo"
   ]
  },
  {
   "cell_type": "code",
   "execution_count": 12,
   "metadata": {},
   "outputs": [],
   "source": [
    "df = pd.merge(\n",
    "    planilla,\n",
    "    cesados,\n",
    "    on = 'CODIGO',\n",
    "    how = 'left'\n",
    ").query('PRODUCTO == \"GRUPAL\"')"
   ]
  },
  {
   "cell_type": "markdown",
   "metadata": {},
   "source": [
    "* Genero una base para Grupal y Otra para invidual porque seran dos diferentes proyectos con caracteristicas diferentes\n",
    "* Empiezo a filtrar, Cargo, Tipo de cese, motivo y antiguedad\n",
    "    * Como uni la base de ceses con planilla se han generado vacios de los colaboradores activos, para ellos debo de tener cuidado en los filtros"
   ]
  },
  {
   "cell_type": "code",
   "execution_count": 13,
   "metadata": {},
   "outputs": [],
   "source": [
    "df = df[\n",
    "    (df['CARGO'] == 'VENTA GRUPAL')\n",
    "    & (df['TIPO_CESE'] != 'INVOLUNTARIA') #vacio o voluntaria\n",
    "    & (~df['MOTIVO_CESE'].isin(['Personal Eventual', 'No le Gusto el Trabajo'])) # los otros motivos o vacios\n",
    "    & ((df['antiguedad_meses'] >= 9) # quito los mayores a 9 meses\n",
    "    | (df['antiguedad_meses'].isna()))\n",
    "    ] # o que sean activos"
   ]
  },
  {
   "cell_type": "markdown",
   "metadata": {},
   "source": [
    "* Creo una nueva columna que clasifique si es activo o cesado, usando el TIPO_CESE como referencia\n",
    "* Reemplazo la fecha de los que no cesaron con la fecha de cierre, es decir el 01/01/2022\n",
    "* Selecciono solo las variables que usare:\n",
    "    * Ya no usare INGRESO porque necesito extraerno de otra base donde tenga el ingreso de los activos y cesados\n",
    "    * Ya no usare TIPO_CESE,  MOTIVO_CESE ya no competen en el analisis\n",
    "    * Ya no usare antiguedad_meses, pues generare una nueva"
   ]
  },
  {
   "cell_type": "code",
   "execution_count": 14,
   "metadata": {},
   "outputs": [],
   "source": [
    "df.loc[df['TIPO_CESE'] == 'VOLUNTARIA', 'Estado'] = 'CESADO'\n",
    "df.loc[df['TIPO_CESE'] != 'VOLUNTARIA', 'Estado'] = 'ACTIVO'\n",
    "df.loc[df['CESE'].isna(), 'CESE'] = '2022-01-01'\n",
    "\n",
    "df = df.iloc[:,[0,1,2,3,4,6,10]]"
   ]
  },
  {
   "cell_type": "markdown",
   "metadata": {},
   "source": [
    "* Esta es la base que usare como principal donde ire agregando la informacion de otras variables"
   ]
  },
  {
   "cell_type": "code",
   "execution_count": 15,
   "metadata": {},
   "outputs": [
    {
     "data": {
      "text/plain": [
       "CODIGO      0\n",
       "CARGO       0\n",
       "AGENCIA     0\n",
       "PRODUCTO    0\n",
       "REGION      0\n",
       "CESE        0\n",
       "Estado      0\n",
       "dtype: int64"
      ]
     },
     "execution_count": 15,
     "metadata": {},
     "output_type": "execute_result"
    }
   ],
   "source": [
    "df.isna().sum() #No tengo NAS hasta el mento"
   ]
  },
  {
   "cell_type": "markdown",
   "metadata": {},
   "source": [
    "* Es necesario ver si la base con la que vamos a continuar esta balanceada\n",
    "    *  Como se muestra tenemos **30% de Cesados y 70% de Activos**, por lo que podemos continuar con el analisis"
   ]
  },
  {
   "cell_type": "code",
   "execution_count": 16,
   "metadata": {},
   "outputs": [
    {
     "data": {
      "text/plain": [
       "0    0.641563\n",
       "1    0.358437\n",
       "Name: n, dtype: float64"
      ]
     },
     "execution_count": 16,
     "metadata": {},
     "output_type": "execute_result"
    }
   ],
   "source": [
    "df.groupby(\n",
    "    by = 'Estado',\n",
    "    as_index = False\n",
    ").agg(\n",
    "    n = ('CODIGO' , 'count')\n",
    ")['n'] / df.shape[0]"
   ]
  },
  {
   "cell_type": "markdown",
   "metadata": {},
   "source": [
    "## Agregando variables a la base principal"
   ]
  },
  {
   "cell_type": "markdown",
   "metadata": {},
   "source": [
    "### Datos personales\n",
    "* Una tabla con caracteristicias principales e importantes de los colaboradores\n",
    "    * Como se vio en los casos anteriores hay colaboradores con varias fechas de ingreso, es necesario hacer una limpieza de esto considerando solo los ultimos ingresos\n",
    "    * Cambio a inicio de mes la fecha de ingreso para tener un estandar"
   ]
  },
  {
   "cell_type": "code",
   "execution_count": 17,
   "metadata": {},
   "outputs": [],
   "source": [
    "datos_personales = extrae_drive('https://docs.google.com/spreadsheets/d/1ku5CfOhQBpML0gXkuRIIEDjqG0liPdKt/edit#gid=254224400')\n",
    "datos_personales = pd.read_excel(\n",
    "                        datos_personales,\n",
    "                        usecols = 'A, C:G'\n",
    "                    ).sort_values(\n",
    "                        by = 'INGRESO',\n",
    "                        ascending = False\n",
    "                    ).drop_duplicates(\n",
    "                        'CODIGO',\n",
    "                        keep = 'first')\n",
    "\n",
    "## Obteniendo la fecha inicial del mes en el ingreso    \n",
    "datos_personales['INGRESO'] = datos_personales['INGRESO'].to_numpy().astype('datetime64[M]')"
   ]
  },
  {
   "cell_type": "markdown",
   "metadata": {},
   "source": [
    "* Uno la tabla de los datos personales con el dataframe que se tiene hasta el momento\n",
    "* Hallo la antiguedad con el nuevo cruce y la edad en el cese\n"
   ]
  },
  {
   "cell_type": "code",
   "execution_count": 18,
   "metadata": {},
   "outputs": [],
   "source": [
    "df = pd.merge(\n",
    "        df,\n",
    "        datos_personales,\n",
    "        on = 'CODIGO',\n",
    "        how = 'left')"
   ]
  },
  {
   "cell_type": "code",
   "execution_count": 19,
   "metadata": {},
   "outputs": [],
   "source": [
    "# Hallando la antiguedad en la Fecha de cese y fecha ingreso\n",
    "df['antiguedad'] = (((df['CESE'] - df['INGRESO']).dt.days)/30).round(0) #meses\n",
    "df['edad'] = (((df['CESE'] - df['NACIMIENTO']).dt.days)/360).round(0) #anios"
   ]
  },
  {
   "cell_type": "markdown",
   "metadata": {},
   "source": [
    "* Encontre negativos en la diferencia de edad, esto debido a que hay personas que tienen una fecha de cese que es de su primer ingreso, y una fecha de segundo ingreso, pero a la fecha no cesan por segunda vez. Para solucionar esto, debo reemplazar la fecha cese por la fecha de cierre que estoy tomando (enero 2021) y pasar de Estado CESADO a ACTIVO.\n",
    "* Recalculo la columna antiguedad  para tener las nuevas antiguedades con los cambios de fecha\n"
   ]
  },
  {
   "cell_type": "code",
   "execution_count": 20,
   "metadata": {},
   "outputs": [
    {
     "data": {
      "text/html": [
       "<div>\n",
       "<style scoped>\n",
       "    .dataframe tbody tr th:only-of-type {\n",
       "        vertical-align: middle;\n",
       "    }\n",
       "\n",
       "    .dataframe tbody tr th {\n",
       "        vertical-align: top;\n",
       "    }\n",
       "\n",
       "    .dataframe thead th {\n",
       "        text-align: right;\n",
       "    }\n",
       "</style>\n",
       "<table border=\"1\" class=\"dataframe\">\n",
       "  <thead>\n",
       "    <tr style=\"text-align: right;\">\n",
       "      <th></th>\n",
       "      <th>CODIGO</th>\n",
       "      <th>CARGO</th>\n",
       "      <th>AGENCIA</th>\n",
       "      <th>PRODUCTO</th>\n",
       "      <th>REGION</th>\n",
       "      <th>CESE</th>\n",
       "      <th>Estado</th>\n",
       "      <th>INGRESO</th>\n",
       "      <th>NACIMIENTO</th>\n",
       "      <th>SEXO</th>\n",
       "      <th>Educacion</th>\n",
       "      <th>EC</th>\n",
       "      <th>antiguedad</th>\n",
       "      <th>edad</th>\n",
       "    </tr>\n",
       "  </thead>\n",
       "  <tbody>\n",
       "    <tr>\n",
       "      <th>117</th>\n",
       "      <td>A33AAAA163</td>\n",
       "      <td>VENTA GRUPAL</td>\n",
       "      <td>OFI CUSCO</td>\n",
       "      <td>GRUPAL</td>\n",
       "      <td>TERR SUR 2</td>\n",
       "      <td>2019-01-19</td>\n",
       "      <td>CESADO</td>\n",
       "      <td>2020-06-01</td>\n",
       "      <td>1993-11-21</td>\n",
       "      <td>F</td>\n",
       "      <td>GRADO DE BACHILLER</td>\n",
       "      <td>SOLTERO/A</td>\n",
       "      <td>-17.0</td>\n",
       "      <td>26.0</td>\n",
       "    </tr>\n",
       "    <tr>\n",
       "      <th>1376</th>\n",
       "      <td>AA8AAA2878</td>\n",
       "      <td>VENTA GRUPAL</td>\n",
       "      <td>OFI HUAYCAN</td>\n",
       "      <td>GRUPAL</td>\n",
       "      <td>TERR LIMA ESTE</td>\n",
       "      <td>2017-10-02</td>\n",
       "      <td>CESADO</td>\n",
       "      <td>2019-03-01</td>\n",
       "      <td>1994-10-07</td>\n",
       "      <td>F</td>\n",
       "      <td>TITULADO</td>\n",
       "      <td>CONCUBINATO / CONVIVIENTE</td>\n",
       "      <td>-17.0</td>\n",
       "      <td>23.0</td>\n",
       "    </tr>\n",
       "    <tr>\n",
       "      <th>1831</th>\n",
       "      <td>A11AAAAAA3</td>\n",
       "      <td>VENTA GRUPAL</td>\n",
       "      <td>OFI VENTANILLA</td>\n",
       "      <td>GRUPAL</td>\n",
       "      <td>TERR NORTE CHICO</td>\n",
       "      <td>2019-02-12</td>\n",
       "      <td>CESADO</td>\n",
       "      <td>2020-03-01</td>\n",
       "      <td>1993-08-20</td>\n",
       "      <td>F</td>\n",
       "      <td>EDUCACIÓN UNIVERSITARIA INCOMPLETA</td>\n",
       "      <td>SOLTERO/A</td>\n",
       "      <td>-13.0</td>\n",
       "      <td>26.0</td>\n",
       "    </tr>\n",
       "    <tr>\n",
       "      <th>1155</th>\n",
       "      <td>A4AAAAA135</td>\n",
       "      <td>VENTA GRUPAL</td>\n",
       "      <td>OFI PIURA</td>\n",
       "      <td>GRUPAL</td>\n",
       "      <td>TERR PIURA</td>\n",
       "      <td>2017-06-01</td>\n",
       "      <td>CESADO</td>\n",
       "      <td>2018-06-01</td>\n",
       "      <td>1993-04-01</td>\n",
       "      <td>F</td>\n",
       "      <td>GRADO DE BACHILLER</td>\n",
       "      <td>SOLTERO/A</td>\n",
       "      <td>-12.0</td>\n",
       "      <td>25.0</td>\n",
       "    </tr>\n",
       "    <tr>\n",
       "      <th>1402</th>\n",
       "      <td>AA7AAA5182</td>\n",
       "      <td>VENTA GRUPAL</td>\n",
       "      <td>OFI SANTA ROSA</td>\n",
       "      <td>GRUPAL</td>\n",
       "      <td>TERR SUR 2</td>\n",
       "      <td>2018-04-17</td>\n",
       "      <td>CESADO</td>\n",
       "      <td>2019-04-01</td>\n",
       "      <td>1992-08-17</td>\n",
       "      <td>F</td>\n",
       "      <td>EDUCACIÓN UNIVERSITARIA COMPLETA</td>\n",
       "      <td>SOLTERO/A</td>\n",
       "      <td>-12.0</td>\n",
       "      <td>26.0</td>\n",
       "    </tr>\n",
       "    <tr>\n",
       "      <th>1778</th>\n",
       "      <td>AA7AAA3443</td>\n",
       "      <td>VENTA GRUPAL</td>\n",
       "      <td>OFI CHINCHA</td>\n",
       "      <td>GRUPAL</td>\n",
       "      <td>TERR SUR CHICO</td>\n",
       "      <td>2018-12-31</td>\n",
       "      <td>CESADO</td>\n",
       "      <td>2020-01-01</td>\n",
       "      <td>1992-01-10</td>\n",
       "      <td>F</td>\n",
       "      <td>EDUCACIÓN UNIVERSITARIA COMPLETA</td>\n",
       "      <td>SOLTERO/A</td>\n",
       "      <td>-12.0</td>\n",
       "      <td>27.0</td>\n",
       "    </tr>\n",
       "    <tr>\n",
       "      <th>1830</th>\n",
       "      <td>A68AAAAA12</td>\n",
       "      <td>VENTA GRUPAL</td>\n",
       "      <td>OFI CASTILLA</td>\n",
       "      <td>GRUPAL</td>\n",
       "      <td>TERR PIURA</td>\n",
       "      <td>2019-03-31</td>\n",
       "      <td>CESADO</td>\n",
       "      <td>2020-03-01</td>\n",
       "      <td>1995-03-22</td>\n",
       "      <td>F</td>\n",
       "      <td>EDUCACIÓN UNIVERSITARIA COMPLETA</td>\n",
       "      <td>SOLTERO/A</td>\n",
       "      <td>-11.0</td>\n",
       "      <td>24.0</td>\n",
       "    </tr>\n",
       "  </tbody>\n",
       "</table>\n",
       "</div>"
      ],
      "text/plain": [
       "          CODIGO         CARGO         AGENCIA PRODUCTO            REGION  \\\n",
       "117   A33AAAA163  VENTA GRUPAL       OFI CUSCO   GRUPAL        TERR SUR 2   \n",
       "1376  AA8AAA2878  VENTA GRUPAL     OFI HUAYCAN   GRUPAL    TERR LIMA ESTE   \n",
       "1831  A11AAAAAA3  VENTA GRUPAL  OFI VENTANILLA   GRUPAL  TERR NORTE CHICO   \n",
       "1155  A4AAAAA135  VENTA GRUPAL       OFI PIURA   GRUPAL        TERR PIURA   \n",
       "1402  AA7AAA5182  VENTA GRUPAL  OFI SANTA ROSA   GRUPAL        TERR SUR 2   \n",
       "1778  AA7AAA3443  VENTA GRUPAL     OFI CHINCHA   GRUPAL    TERR SUR CHICO   \n",
       "1830  A68AAAAA12  VENTA GRUPAL    OFI CASTILLA   GRUPAL        TERR PIURA   \n",
       "\n",
       "           CESE  Estado    INGRESO NACIMIENTO SEXO  \\\n",
       "117  2019-01-19  CESADO 2020-06-01 1993-11-21    F   \n",
       "1376 2017-10-02  CESADO 2019-03-01 1994-10-07    F   \n",
       "1831 2019-02-12  CESADO 2020-03-01 1993-08-20    F   \n",
       "1155 2017-06-01  CESADO 2018-06-01 1993-04-01    F   \n",
       "1402 2018-04-17  CESADO 2019-04-01 1992-08-17    F   \n",
       "1778 2018-12-31  CESADO 2020-01-01 1992-01-10    F   \n",
       "1830 2019-03-31  CESADO 2020-03-01 1995-03-22    F   \n",
       "\n",
       "                               Educacion                         EC  \\\n",
       "117                   GRADO DE BACHILLER                  SOLTERO/A   \n",
       "1376                            TITULADO  CONCUBINATO / CONVIVIENTE   \n",
       "1831  EDUCACIÓN UNIVERSITARIA INCOMPLETA                  SOLTERO/A   \n",
       "1155                  GRADO DE BACHILLER                  SOLTERO/A   \n",
       "1402    EDUCACIÓN UNIVERSITARIA COMPLETA                  SOLTERO/A   \n",
       "1778    EDUCACIÓN UNIVERSITARIA COMPLETA                  SOLTERO/A   \n",
       "1830    EDUCACIÓN UNIVERSITARIA COMPLETA                  SOLTERO/A   \n",
       "\n",
       "      antiguedad  edad  \n",
       "117        -17.0  26.0  \n",
       "1376       -17.0  23.0  \n",
       "1831       -13.0  26.0  \n",
       "1155       -12.0  25.0  \n",
       "1402       -12.0  26.0  \n",
       "1778       -12.0  27.0  \n",
       "1830       -11.0  24.0  "
      ]
     },
     "execution_count": 20,
     "metadata": {},
     "output_type": "execute_result"
    }
   ],
   "source": [
    "df.query('antiguedad < 0').sort_values(by = 'antiguedad')#['CODIGO'].unique()"
   ]
  },
  {
   "cell_type": "code",
   "execution_count": 21,
   "metadata": {},
   "outputs": [],
   "source": [
    "cod = df.query('antiguedad < 0')['CODIGO'].unique()\n",
    "df.loc[df['CODIGO'].isin(cod), 'CESE'] = '2021-01-01'\n",
    "df.loc[df['CODIGO'].isin(cod), 'Estado'] = 'ACTIVO'\n",
    "df['antiguedad'] = (((df['CESE'] - df['INGRESO']).dt.days)/30).round(0) #meses"
   ]
  },
  {
   "cell_type": "markdown",
   "metadata": {},
   "source": [
    "### Bonos de Venta Grupal\n",
    "* Este valor diferencia el ingreso extra que tiene un colaborador de otro respecto a su desempeno, lo llamaremos RV por Remuneracion Variable\n",
    "* Tomare los valores promedio que genero un colaborador desde que esta en la empresa, pero con unas consideraciones\n",
    "    * Es importante tomar en cuenta el periodo covid donde las ventas y por lo tanto la remuneracion variable es atipica\n"
   ]
  },
  {
   "cell_type": "code",
   "execution_count": 22,
   "metadata": {},
   "outputs": [],
   "source": [
    "bonos_venta = extrae_drive('https://docs.google.com/spreadsheets/d/1POTE8j5SneZ0QSvmbtKL_t4hu2odWlTM/edit#gid=578896078')\n",
    "bonos_venta = pd.read_excel(\n",
    "                    bonos_venta,\n",
    "                    usecols = 'A, B, CE'\n",
    "                ).rename(\n",
    "                    columns = {\n",
    "                    'Codigo Trabajador': 'CODIGO',\n",
    "                    'RV TOTAL': 'RV'}\n",
    "                )"
   ]
  },
  {
   "cell_type": "markdown",
   "metadata": {},
   "source": [
    "* Como se ve, los periodos de marzo 2020 a octubre 2020 (inclusive) tienen valores muy bajos debido a la pandemia, por lo que para este analisis no lo tomaremos en cuenta, pues nos bajaria el promedio atipicamente"
   ]
  },
  {
   "cell_type": "code",
   "execution_count": 23,
   "metadata": {},
   "outputs": [
    {
     "data": {
      "text/html": [
       "\n",
       "<div id=\"altair-viz-91dd650b45af42bf810d5a0b718d5828\"></div>\n",
       "<script type=\"text/javascript\">\n",
       "  (function(spec, embedOpt){\n",
       "    let outputDiv = document.currentScript.previousElementSibling;\n",
       "    if (outputDiv.id !== \"altair-viz-91dd650b45af42bf810d5a0b718d5828\") {\n",
       "      outputDiv = document.getElementById(\"altair-viz-91dd650b45af42bf810d5a0b718d5828\");\n",
       "    }\n",
       "    const paths = {\n",
       "      \"vega\": \"https://cdn.jsdelivr.net/npm//vega@5?noext\",\n",
       "      \"vega-lib\": \"https://cdn.jsdelivr.net/npm//vega-lib?noext\",\n",
       "      \"vega-lite\": \"https://cdn.jsdelivr.net/npm//vega-lite@4.8.1?noext\",\n",
       "      \"vega-embed\": \"https://cdn.jsdelivr.net/npm//vega-embed@6?noext\",\n",
       "    };\n",
       "\n",
       "    function loadScript(lib) {\n",
       "      return new Promise(function(resolve, reject) {\n",
       "        var s = document.createElement('script');\n",
       "        s.src = paths[lib];\n",
       "        s.async = true;\n",
       "        s.onload = () => resolve(paths[lib]);\n",
       "        s.onerror = () => reject(`Error loading script: ${paths[lib]}`);\n",
       "        document.getElementsByTagName(\"head\")[0].appendChild(s);\n",
       "      });\n",
       "    }\n",
       "\n",
       "    function showError(err) {\n",
       "      outputDiv.innerHTML = `<div class=\"error\" style=\"color:red;\">${err}</div>`;\n",
       "      throw err;\n",
       "    }\n",
       "\n",
       "    function displayChart(vegaEmbed) {\n",
       "      vegaEmbed(outputDiv, spec, embedOpt)\n",
       "        .catch(err => showError(`Javascript Error: ${err.message}<br>This usually means there's a typo in your chart specification. See the javascript console for the full traceback.`));\n",
       "    }\n",
       "\n",
       "    if(typeof define === \"function\" && define.amd) {\n",
       "      requirejs.config({paths});\n",
       "      require([\"vega-embed\"], displayChart, err => showError(`Error loading script: ${err.message}`));\n",
       "    } else if (typeof vegaEmbed === \"function\") {\n",
       "      displayChart(vegaEmbed);\n",
       "    } else {\n",
       "      loadScript(\"vega\")\n",
       "        .then(() => loadScript(\"vega-lite\"))\n",
       "        .then(() => loadScript(\"vega-embed\"))\n",
       "        .catch(showError)\n",
       "        .then(() => displayChart(vegaEmbed));\n",
       "    }\n",
       "  })({\"config\": {\"view\": {\"continuousWidth\": 400, \"continuousHeight\": 300, \"strokeWidth\": 0}, \"axis\": {\"labelAngle\": 0, \"labelFontSize\": 13}, \"title\": {\"anchor\": \"start\", \"color\": \"#033E8C\", \"font\": \"courier\", \"fontSize\": 18}}, \"layer\": [{\"data\": {\"name\": \"data-6350d7bdcced631ff564e31f58ce8878\"}, \"mark\": {\"type\": \"line\", \"color\": \"#04328C\"}, \"encoding\": {\"x\": {\"type\": \"temporal\", \"field\": \"MES\", \"title\": null}, \"y\": {\"type\": \"quantitative\", \"axis\": null, \"field\": \"rv_total\", \"title\": null}}}, {\"data\": {\"name\": \"data-a7519f2ee099df4527092d1d9dd3cba1\"}, \"mark\": {\"type\": \"rule\", \"color\": \"red\", \"strokeWidth\": 2}, \"encoding\": {\"x\": {\"type\": \"temporal\", \"field\": \"MES\"}}}, {\"data\": {\"name\": \"data-072f9adb3e788f2fbb7fce029bd47e98\"}, \"mark\": {\"type\": \"rule\", \"color\": \"red\", \"strokeWidth\": 2}, \"encoding\": {\"x\": {\"type\": \"temporal\", \"field\": \"MES\"}}}], \"height\": 300, \"title\": \"RV total Historico\", \"width\": 700, \"$schema\": \"https://vega.github.io/schema/vega-lite/v4.8.1.json\", \"datasets\": {\"data-6350d7bdcced631ff564e31f58ce8878\": [{\"MES\": \"2018-01-01T00:00:00\", \"rv_total\": 3276613.28}, {\"MES\": \"2018-02-01T00:00:00\", \"rv_total\": 3835894.486}, {\"MES\": \"2018-03-01T00:00:00\", \"rv_total\": 4473677.052}, {\"MES\": \"2018-04-01T00:00:00\", \"rv_total\": 4288522.02}, {\"MES\": \"2018-05-01T00:00:00\", \"rv_total\": 5318386.36}, {\"MES\": \"2018-06-01T00:00:00\", \"rv_total\": 5252079.56}, {\"MES\": \"2018-07-01T00:00:00\", \"rv_total\": 5366136.288}, {\"MES\": \"2018-08-01T00:00:00\", \"rv_total\": 5300001.316}, {\"MES\": \"2018-09-01T00:00:00\", \"rv_total\": 5261423.768}, {\"MES\": \"2018-10-01T00:00:00\", \"rv_total\": 6727393.828}, {\"MES\": \"2018-11-01T00:00:00\", \"rv_total\": 6916769.66}, {\"MES\": \"2018-12-01T00:00:00\", \"rv_total\": 8445554.392}, {\"MES\": \"2019-01-01T00:00:00\", \"rv_total\": 4805886.632}, {\"MES\": \"2019-02-01T00:00:00\", \"rv_total\": 4210376.318}, {\"MES\": \"2019-03-01T00:00:00\", \"rv_total\": 4224806.11}, {\"MES\": \"2019-04-01T00:00:00\", \"rv_total\": 3991196.83}, {\"MES\": \"2019-05-01T00:00:00\", \"rv_total\": 4616401.008}, {\"MES\": \"2019-06-01T00:00:00\", \"rv_total\": 4056256.272}, {\"MES\": \"2019-07-01T00:00:00\", \"rv_total\": 4736662.632}, {\"MES\": \"2019-08-01T00:00:00\", \"rv_total\": 6305355.598}, {\"MES\": \"2019-09-01T00:00:00\", \"rv_total\": 6826839.586000001}, {\"MES\": \"2019-10-01T00:00:00\", \"rv_total\": 7715719.790000001}, {\"MES\": \"2019-11-01T00:00:00\", \"rv_total\": 7982865.680000001}, {\"MES\": \"2019-12-01T00:00:00\", \"rv_total\": 10307039.362000002}, {\"MES\": \"2020-01-01T00:00:00\", \"rv_total\": 6188444.354600001}, {\"MES\": \"2020-02-01T00:00:00\", \"rv_total\": 7857757.923600001}, {\"MES\": \"2020-03-01T00:00:00\", \"rv_total\": 3994994.2969000004}, {\"MES\": \"2020-04-01T00:00:00\", \"rv_total\": 78235.5785}, {\"MES\": \"2020-05-01T00:00:00\", \"rv_total\": 377800.0}, {\"MES\": \"2020-06-01T00:00:00\", \"rv_total\": 2499460.0}, {\"MES\": \"2020-07-01T00:00:00\", \"rv_total\": 1196183.752}, {\"MES\": \"2020-08-01T00:00:00\", \"rv_total\": 1048746.9472}, {\"MES\": \"2020-09-01T00:00:00\", \"rv_total\": 1791696.408}, {\"MES\": \"2020-10-01T00:00:00\", \"rv_total\": 4715681.88}, {\"MES\": \"2020-11-01T00:00:00\", \"rv_total\": 6753115.9120000005}, {\"MES\": \"2020-12-01T00:00:00\", \"rv_total\": 7679729.936}, {\"MES\": \"2021-01-01T00:00:00\", \"rv_total\": 6069231.153}, {\"MES\": \"2021-02-01T00:00:00\", \"rv_total\": 1910582.5920000002}, {\"MES\": \"2021-03-01T00:00:00\", \"rv_total\": 2809427.2600000002}, {\"MES\": \"2021-04-01T00:00:00\", \"rv_total\": 2461697.3902000003}, {\"MES\": \"2021-05-01T00:00:00\", \"rv_total\": 4580431.235800001}, {\"MES\": \"2021-06-01T00:00:00\", \"rv_total\": 6062779.928200001}, {\"MES\": \"2021-07-01T00:00:00\", \"rv_total\": 5705325.684}, {\"MES\": \"2021-08-01T00:00:00\", \"rv_total\": 5974442.995448781}, {\"MES\": \"2021-09-01T00:00:00\", \"rv_total\": 6435466.015202207}, {\"MES\": \"2021-10-01T00:00:00\", \"rv_total\": 6244409.721435283}, {\"MES\": \"2021-11-01T00:00:00\", \"rv_total\": 7807675.150962921}, {\"MES\": \"2021-12-01T00:00:00\", \"rv_total\": 7577530.106072835}], \"data-a7519f2ee099df4527092d1d9dd3cba1\": [{\"MES\": \"2020-03-01\"}], \"data-072f9adb3e788f2fbb7fce029bd47e98\": [{\"MES\": \"2020-10-01\"}]}}, {\"mode\": \"vega-lite\"});\n",
       "</script>"
      ],
      "text/plain": [
       "alt.LayerChart(...)"
      ]
     },
     "execution_count": 23,
     "metadata": {},
     "output_type": "execute_result"
    }
   ],
   "source": [
    "rv_agrup = bonos_venta.groupby(\n",
    "                by = 'MES',\n",
    "                as_index = False\n",
    "            ).agg(\n",
    "                rv_total = ('RV' , 'sum')\n",
    "            )\n",
    "\n",
    "principal = alt.Chart(\n",
    "    rv_agrup\n",
    ").mark_line(\n",
    "    color = '#04328C'\n",
    ").encode(\n",
    "    x = alt.X(\n",
    "        'MES:T',\n",
    "        title = None),\n",
    "    y = alt.Y(\n",
    "        'rv_total:Q',\n",
    "        title = None,\n",
    "        axis = None)\n",
    ")\n",
    "\n",
    "linea_i = alt.Chart(\n",
    "    pd.DataFrame({'MES': ['2020-03-01']})\n",
    ").mark_rule(\n",
    "    color = 'red',\n",
    "    strokeWidth = 2\n",
    ").encode(\n",
    "    x = 'MES:T')\n",
    "\n",
    "linea_f = alt.Chart(\n",
    "    pd.DataFrame({'MES': ['2020-10-01']})\n",
    ").mark_rule(\n",
    "    color = 'red',\n",
    "    strokeWidth = 2\n",
    ").encode(\n",
    "    x = 'MES:T')\n",
    "\n",
    "\n",
    "(principal + linea_i + linea_f).properties(\n",
    "    title = 'RV total Historico',\n",
    "    width = 700,\n",
    "    height = 300\n",
    ").configure_view(\n",
    "    strokeWidth = 0\n",
    " ).configure_axis(\n",
    "    labelFontSize = 13,\n",
    "    labelAngle = 0\n",
    " ).configure_title(\n",
    "    fontSize = 18,\n",
    "    font = 'courier',\n",
    "    color = '#033E8C',\n",
    "    anchor = 'start'\n",
    ")"
   ]
  },
  {
   "cell_type": "markdown",
   "metadata": {},
   "source": [
    "* Creando la nueva base segun los filtro considerados\n",
    "* Utilizaremos el rv promedio y la media pues estos varian mucho en algunos casos"
   ]
  },
  {
   "cell_type": "code",
   "execution_count": 24,
   "metadata": {},
   "outputs": [],
   "source": [
    "bonos_venta = bonos_venta.query(\n",
    "                'MES <= \"2020-03-01\" | MES >= \"2020-10-01\" '\n",
    "            ).groupby(\n",
    "                by = 'CODIGO',\n",
    "                as_index = False\n",
    "            ).agg(\n",
    "                rv_prom = ('RV', 'mean'),\n",
    "                rv_median = ('RV', 'median')\n",
    "            )"
   ]
  },
  {
   "cell_type": "code",
   "execution_count": 25,
   "metadata": {},
   "outputs": [
    {
     "data": {
      "text/plain": [
       "<bound method NDFrame.describe of           CODIGO      rv_prom    rv_median\n",
       "0     111AAAAA11  2180.899091  1881.308000\n",
       "1     111AAAAA12  1991.281653  1779.360000\n",
       "2     111AAAAA13  2147.702064  1337.237000\n",
       "3     111AAAAA14  2008.110987  1297.600000\n",
       "4     111AAAAA15  2312.259572  1710.335000\n",
       "...          ...          ...          ...\n",
       "3069  AA9AAAAAA4  2956.422095  1040.000000\n",
       "3070  AA9AAAAAA5  3205.058000  2279.300000\n",
       "3071  AA9AAAAAA6  4098.077304  1181.928000\n",
       "3072  AA9AAAAAA7  2258.831670  1620.294288\n",
       "3073  AA9AAAAAA9  4319.952185  2519.460000\n",
       "\n",
       "[3074 rows x 3 columns]>"
      ]
     },
     "execution_count": 25,
     "metadata": {},
     "output_type": "execute_result"
    }
   ],
   "source": [
    "bonos_venta.describe"
   ]
  },
  {
   "cell_type": "code",
   "execution_count": 26,
   "metadata": {},
   "outputs": [],
   "source": [
    "df = pd.merge(\n",
    "        df,\n",
    "        bonos_venta,\n",
    "        on = 'CODIGO',\n",
    "        how = 'left')"
   ]
  },
  {
   "cell_type": "markdown",
   "metadata": {},
   "source": [
    "* Se han encontrado 13 colaboradores que no estan en la base del RV, al parecer porque son reciente y no han generado un bono extra\n",
    "* Debido a que son pocos, se reemplazaran los null con el promedio del RV total"
   ]
  },
  {
   "cell_type": "code",
   "execution_count": 27,
   "metadata": {},
   "outputs": [],
   "source": [
    "df['rv_prom'] = df['rv_prom'].fillna(bonos_venta['rv_prom'].mean())\n",
    "df['rv_median'] = df['rv_median'].fillna(bonos_venta['rv_median'].mean())"
   ]
  },
  {
   "cell_type": "code",
   "execution_count": 28,
   "metadata": {},
   "outputs": [
    {
     "data": {
      "text/plain": [
       "CODIGO        0\n",
       "CARGO         0\n",
       "AGENCIA       0\n",
       "PRODUCTO      0\n",
       "REGION        0\n",
       "CESE          0\n",
       "Estado        0\n",
       "INGRESO       0\n",
       "NACIMIENTO    0\n",
       "SEXO          0\n",
       "Educacion     0\n",
       "EC            0\n",
       "antiguedad    0\n",
       "edad          0\n",
       "rv_prom       0\n",
       "rv_median     0\n",
       "dtype: int64"
      ]
     },
     "execution_count": 28,
     "metadata": {},
     "output_type": "execute_result"
    }
   ],
   "source": [
    "df.isna().sum()"
   ]
  },
  {
   "cell_type": "markdown",
   "metadata": {},
   "source": [
    "### Programa de Mejora\n",
    "* Analizando los colaboradores que estuvieron en el programa de mejora"
   ]
  },
  {
   "cell_type": "code",
   "execution_count": 29,
   "metadata": {},
   "outputs": [],
   "source": [
    "programa_mejora = extrae_drive('https://docs.google.com/spreadsheets/d/1CKFlLpx248yvZS0INAawAA5e8NC2qdvV/edit#gid=1510069928')\n",
    "programa_mejora = pd.read_excel(\n",
    "                    programa_mejora,\n",
    "                    usecols = 'C, F, Q'\n",
    "                ).rename(\n",
    "                    columns = {\n",
    "                    'CODIGO CFIS': 'CODIGO',\n",
    "                    'MOTIVO PRINCIPAL': 'MOTIVO_PM'}\n",
    "                ).query(\n",
    "                    'Cargo == \"VENTA GRUPAL\"'\n",
    "                )"
   ]
  },
  {
   "cell_type": "markdown",
   "metadata": {},
   "source": [
    "1. Hallo el numero de veces que el colaborador estuvo en el programa de mejoras, porque al parecer hay algunos colaboradores que tiene  mas de 3 veces en el programa\n",
    "2. El numero de veces que estuvo en el progrma de mejora segun el motivio"
   ]
  },
  {
   "cell_type": "code",
   "execution_count": 30,
   "metadata": {},
   "outputs": [],
   "source": [
    "pm_total = programa_mejora.groupby(\n",
    "                    by='CODIGO', as_index=False\n",
    "                ).agg(pm_total = ('CODIGO','count'))"
   ]
  },
  {
   "cell_type": "code",
   "execution_count": 31,
   "metadata": {},
   "outputs": [],
   "source": [
    "pm_motivos = pd.get_dummies(\n",
    "                programa_mejora,\n",
    "                columns = ['MOTIVO_PM']\n",
    "            ).groupby(\n",
    "                by = 'CODIGO', as_index = False\n",
    "            ).agg(\n",
    "                MOTIVO_PM_DESEMP = ('MOTIVO_PM_DESEMPEÑO','sum'),\n",
    "                MOTIVO_PM_DISCIPLINA = ('MOTIVO_PM_DISCIPLINA','sum')\n",
    "            )"
   ]
  },
  {
   "cell_type": "code",
   "execution_count": 32,
   "metadata": {},
   "outputs": [],
   "source": [
    "df = pd.merge(\n",
    "        df,\n",
    "        pm_total,\n",
    "        on = 'CODIGO',\n",
    "        how = 'left')"
   ]
  },
  {
   "cell_type": "code",
   "execution_count": 33,
   "metadata": {},
   "outputs": [],
   "source": [
    "df = pd.merge(\n",
    "        df,\n",
    "        pm_motivos,\n",
    "        on = 'CODIGO',\n",
    "        how = 'left')"
   ]
  },
  {
   "cell_type": "markdown",
   "metadata": {},
   "source": [
    "### Memos aplicados\n",
    "Dentro de la empresa se aplican memos cuando existe alguna falta, para este caso sabre cuantos memos tienen los colaboradores"
   ]
  },
  {
   "cell_type": "code",
   "execution_count": 39,
   "metadata": {},
   "outputs": [],
   "source": [
    "memos = extrae_drive('https://docs.google.com/spreadsheets/d/1Q2pvICQWLAh8Rvou9FvH085KULXioDVK/edit#gid=238204385')\n",
    "memos = pd.read_excel(\n",
    "                    memos,\n",
    "                    usecols = 'B, D'\n",
    "                ).rename(\n",
    "                    columns = {\n",
    "                    'CÓDIGO': 'CODIGO'}\n",
    "                ).query(\n",
    "                    'CARGO == \"VENTA GRUPAL\"'\n",
    "                )"
   ]
  },
  {
   "cell_type": "code",
   "execution_count": 41,
   "metadata": {},
   "outputs": [],
   "source": [
    "memos = memos.groupby(\n",
    "                by = 'CODIGO',\n",
    "                as_index = False\n",
    "            ).agg(\n",
    "                memos_total = ('CODIGO','count')\n",
    "            )"
   ]
  },
  {
   "cell_type": "code",
   "execution_count": 43,
   "metadata": {},
   "outputs": [],
   "source": [
    "df = pd.merge(\n",
    "        df,\n",
    "        memos,\n",
    "        on = 'CODIGO',\n",
    "        how = 'left')"
   ]
  },
  {
   "cell_type": "markdown",
   "metadata": {},
   "source": [
    "### Total de Hijos"
   ]
  },
  {
   "cell_type": "code",
   "execution_count": 46,
   "metadata": {},
   "outputs": [],
   "source": [
    "hijxs = extrae_drive('https://docs.google.com/spreadsheets/d/16lmjxH0f9sav7thbqeWGrdEsckr9Ia_u/edit#gid=1468377625')\n",
    "hijxs = pd.read_excel(\n",
    "                    hijxs,\n",
    "                    usecols = 'D, F'\n",
    "                ).rename(\n",
    "                    columns = {\n",
    "                    'COD CFIS': 'CODIGO'}\n",
    "                )"
   ]
  },
  {
   "cell_type": "code",
   "execution_count": 90,
   "metadata": {},
   "outputs": [],
   "source": [
    "hijxs['fecha_hoy'] = '2022-01-01'\n",
    "hijxs['fecha_hoy'] = hijxs['fecha_hoy'].astype('datetime64[M]')\n",
    "hijxs['edad'] = (((hijxs['fecha_hoy'] - hijxs['FECHA_NACIMIENTO']).dt.days)/360).round(0)"
   ]
  },
  {
   "cell_type": "code",
   "execution_count": 91,
   "metadata": {},
   "outputs": [],
   "source": [
    "hijxs = hijxs.query(\n",
    "                'edad <= 18'\n",
    "            ).groupby(\n",
    "                by = 'CODIGO',\n",
    "                as_index = False\n",
    "            ).agg(\n",
    "                hijxs = ('CODIGO','count')     \n",
    "            )"
   ]
  },
  {
   "cell_type": "code",
   "execution_count": 94,
   "metadata": {},
   "outputs": [],
   "source": [
    "df = pd.merge(\n",
    "        df,\n",
    "        hijxs,\n",
    "        on = 'CODIGO',\n",
    "        how = 'left')"
   ]
  },
  {
   "cell_type": "markdown",
   "metadata": {},
   "source": [
    "### Base de datos final\n"
   ]
  },
  {
   "cell_type": "code",
   "execution_count": 102,
   "metadata": {},
   "outputs": [
    {
     "name": "stdout",
     "output_type": "stream",
     "text": [
      "<class 'pandas.core.frame.DataFrame'>\n",
      "Int64Index: 2098 entries, 0 to 2097\n",
      "Data columns (total 21 columns):\n",
      " #   Column                Non-Null Count  Dtype         \n",
      "---  ------                --------------  -----         \n",
      " 0   CODIGO                2098 non-null   object        \n",
      " 1   CARGO                 2098 non-null   object        \n",
      " 2   AGENCIA               2098 non-null   object        \n",
      " 3   PRODUCTO              2098 non-null   object        \n",
      " 4   REGION                2098 non-null   object        \n",
      " 5   CESE                  2098 non-null   datetime64[ns]\n",
      " 6   Estado                2098 non-null   object        \n",
      " 7   INGRESO               2098 non-null   datetime64[ns]\n",
      " 8   NACIMIENTO            2098 non-null   datetime64[ns]\n",
      " 9   SEXO                  2098 non-null   object        \n",
      " 10  Educacion             2098 non-null   object        \n",
      " 11  EC                    2098 non-null   object        \n",
      " 12  antiguedad            2098 non-null   float64       \n",
      " 13  edad                  2098 non-null   float64       \n",
      " 14  rv_prom               2098 non-null   float64       \n",
      " 15  rv_median             2098 non-null   float64       \n",
      " 16  pm_total              2098 non-null   float64       \n",
      " 17  MOTIVO_PM_DESEMP      2098 non-null   float64       \n",
      " 18  MOTIVO_PM_DISCIPLINA  2098 non-null   float64       \n",
      " 19  memos_total           2098 non-null   float64       \n",
      " 20  hijxs                 2098 non-null   float64       \n",
      "dtypes: datetime64[ns](3), float64(9), object(9)\n",
      "memory usage: 360.6+ KB\n"
     ]
    }
   ],
   "source": [
    "df.info()"
   ]
  },
  {
   "cell_type": "code",
   "execution_count": 101,
   "metadata": {},
   "outputs": [],
   "source": [
    "# Reemplazando pm_total y motivos del programa de mejora vacios por 0\n",
    "df['pm_total'] = df['pm_total'].fillna(0)\n",
    "df['MOTIVO_PM_DESEMP'] = df['MOTIVO_PM_DESEMP'].fillna(0)\n",
    "df['MOTIVO_PM_DISCIPLINA'] = df['MOTIVO_PM_DISCIPLINA'].fillna(0)\n",
    "# Reemplazando con 0 los memos vacios\n",
    "df['memos_total'] = df['memos_total'].fillna(0)\n",
    "# Reemplazando con 0 los colaboradores sin hijxs\n",
    "df['hijxs'] = df['hijxs'].fillna(0)\n"
   ]
  },
  {
   "cell_type": "code",
   "execution_count": 112,
   "metadata": {},
   "outputs": [
    {
     "name": "stdout",
     "output_type": "stream",
     "text": [
      "Sexo: ['M' 'F']\n",
      "Estado Civil ['SOLTERO' 'CASADO' 'DIVORCIADO']\n",
      "Educacion ['Univ comp' 'Univ inc' 'Tec inc' 'Tec comp' 'Mestria' 'Sec']\n"
     ]
    }
   ],
   "source": [
    "print('Sexo:', df['SEXO'].unique())\n",
    "print('Estado Civil', df['EC'].unique())\n",
    "print('Educacion', df['Educacion'].unique())"
   ]
  },
  {
   "cell_type": "code",
   "execution_count": 111,
   "metadata": {},
   "outputs": [],
   "source": [
    "# Estandarizando Estado civil\n",
    "df.loc[df['EC']=='CONCUBINATO / CONVIVIENTE', 'EC'] = 'CASADO'\n",
    "df.loc[df['EC']=='SEPARADO', 'EC'] = 'DIVORCIADO'\n",
    "df.loc[df['EC']=='SOLTERO/A', 'EC'] = 'SOLTERO'\n",
    "\n",
    "# Estandarizando Educacion\n",
    "df.loc[df['Educacion']=='EDUCACIÓN UNIVERSITARIA COMPLETA', 'Educacion'] = 'Univ comp'\n",
    "df.loc[df['Educacion']=='EDUCACIÓN UNIVERSITARIA INCOMPLETA', 'Educacion'] = 'Univ inc'\n",
    "df.loc[df['Educacion']=='GRADO DE BACHILLER', 'Educacion'] = 'Univ comp'\n",
    "df.loc[df['Educacion']=='TITULADO', 'Educacion'] = 'Univ comp'\n",
    "df.loc[df['Educacion']=='EDUCACIÓN TÉCNICA INCOMPLETA', 'Educacion'] = 'Tec inc'\n",
    "df.loc[df['Educacion']=='EDUCACIÓN TÉCNICA COMPLETA', 'Educacion'] = 'Tec comp'\n",
    "df.loc[df['Educacion']=='EDUCACIÓN SUPERIOR (INSTITUTO SUPERIOR, ETC) INCOMPLETA', 'Educacion'] = 'Tec inc'\n",
    "df.loc[df['Educacion']=='EDUCACIÓN SUPERIOR (INSTITUTO SUPERIOR, ETC) COMPLETA', 'Educacion'] = 'Tec comp'\n",
    "df.loc[df['Educacion']=='ESTUDIOS DE MAESTRÍA INCOMPLETA', 'Educacion'] = 'Maestria'\n",
    "df.loc[df['Educacion']=='EDUCACIÓN SECUNDARIA COMPLETA', 'Educacion'] = 'Sec'"
   ]
  },
  {
   "cell_type": "code",
   "execution_count": 116,
   "metadata": {},
   "outputs": [
    {
     "data": {
      "text/html": [
       "<div>\n",
       "<style scoped>\n",
       "    .dataframe tbody tr th:only-of-type {\n",
       "        vertical-align: middle;\n",
       "    }\n",
       "\n",
       "    .dataframe tbody tr th {\n",
       "        vertical-align: top;\n",
       "    }\n",
       "\n",
       "    .dataframe thead th {\n",
       "        text-align: right;\n",
       "    }\n",
       "</style>\n",
       "<table border=\"1\" class=\"dataframe\">\n",
       "  <thead>\n",
       "    <tr style=\"text-align: right;\">\n",
       "      <th></th>\n",
       "      <th>F</th>\n",
       "      <th>M</th>\n",
       "    </tr>\n",
       "  </thead>\n",
       "  <tbody>\n",
       "    <tr>\n",
       "      <th>0</th>\n",
       "      <td>0</td>\n",
       "      <td>1</td>\n",
       "    </tr>\n",
       "    <tr>\n",
       "      <th>1</th>\n",
       "      <td>0</td>\n",
       "      <td>1</td>\n",
       "    </tr>\n",
       "    <tr>\n",
       "      <th>2</th>\n",
       "      <td>0</td>\n",
       "      <td>1</td>\n",
       "    </tr>\n",
       "    <tr>\n",
       "      <th>3</th>\n",
       "      <td>0</td>\n",
       "      <td>1</td>\n",
       "    </tr>\n",
       "    <tr>\n",
       "      <th>4</th>\n",
       "      <td>1</td>\n",
       "      <td>0</td>\n",
       "    </tr>\n",
       "    <tr>\n",
       "      <th>...</th>\n",
       "      <td>...</td>\n",
       "      <td>...</td>\n",
       "    </tr>\n",
       "    <tr>\n",
       "      <th>2093</th>\n",
       "      <td>1</td>\n",
       "      <td>0</td>\n",
       "    </tr>\n",
       "    <tr>\n",
       "      <th>2094</th>\n",
       "      <td>1</td>\n",
       "      <td>0</td>\n",
       "    </tr>\n",
       "    <tr>\n",
       "      <th>2095</th>\n",
       "      <td>1</td>\n",
       "      <td>0</td>\n",
       "    </tr>\n",
       "    <tr>\n",
       "      <th>2096</th>\n",
       "      <td>1</td>\n",
       "      <td>0</td>\n",
       "    </tr>\n",
       "    <tr>\n",
       "      <th>2097</th>\n",
       "      <td>1</td>\n",
       "      <td>0</td>\n",
       "    </tr>\n",
       "  </tbody>\n",
       "</table>\n",
       "<p>2098 rows × 2 columns</p>\n",
       "</div>"
      ],
      "text/plain": [
       "      F  M\n",
       "0     0  1\n",
       "1     0  1\n",
       "2     0  1\n",
       "3     0  1\n",
       "4     1  0\n",
       "...  .. ..\n",
       "2093  1  0\n",
       "2094  1  0\n",
       "2095  1  0\n",
       "2096  1  0\n",
       "2097  1  0\n",
       "\n",
       "[2098 rows x 2 columns]"
      ]
     },
     "execution_count": 116,
     "metadata": {},
     "output_type": "execute_result"
    }
   ],
   "source": [
    "pd.get_dummies(df['SEXO'])"
   ]
  },
  {
   "cell_type": "code",
   "execution_count": null,
   "metadata": {},
   "outputs": [],
   "source": []
  }
 ],
 "metadata": {
  "interpreter": {
   "hash": "f1d700fa1b1b82d30cc5721a422db1239f21bfed7e745009ba7cb431de82ad6d"
  },
  "kernelspec": {
   "display_name": "Python 3.10.1 64-bit",
   "language": "python",
   "name": "python3"
  },
  "language_info": {
   "codemirror_mode": {
    "name": "ipython",
    "version": 3
   },
   "file_extension": ".py",
   "mimetype": "text/x-python",
   "name": "python",
   "nbconvert_exporter": "python",
   "pygments_lexer": "ipython3",
   "version": "3.10.1"
  },
  "orig_nbformat": 4
 },
 "nbformat": 4,
 "nbformat_minor": 2
}
