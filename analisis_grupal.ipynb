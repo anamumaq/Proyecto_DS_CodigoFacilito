{
 "cells": [
  {
   "cell_type": "code",
   "execution_count": 1,
   "metadata": {},
   "outputs": [],
   "source": [
    "import pandas as pd\n",
    "import altair as alt\n",
    "import numpy as np"
   ]
  },
  {
   "cell_type": "code",
   "execution_count": 2,
   "metadata": {},
   "outputs": [],
   "source": [
    "def extrae_drive(url):\n",
    "    edit = '/edit#gid='\n",
    "    export ='/export?format=xlsx&gid='\n",
    "    url = (url).replace(edit, export)\n",
    "    return url"
   ]
  },
  {
   "cell_type": "markdown",
   "metadata": {},
   "source": [
    "## Generando la Base principal\n",
    "* Se usara la base de **cesados** y la base **Planilla**, esta sera filtrada segun las condiciones de la conclusion\n",
    "* En esta nueva base se empezara a agregar el resto de informacion para el proyecto"
   ]
  },
  {
   "cell_type": "code",
   "execution_count": 3,
   "metadata": {},
   "outputs": [],
   "source": [
    "cesados = extrae_drive('https://docs.google.com/spreadsheets/d/1bO_T0lAQgjcpjFFNVAwiXd2obwRjJS3K/edit#gid=2050623625')\n",
    "cesados = pd.read_excel(\n",
    "                cesados,\n",
    "                usecols='E,I,O,P,S,T,W,X'\n",
    "            ).rename(\n",
    "                columns = {\n",
    "                    'Total o Temprana':'TIEMPO_CESE',\n",
    "                    'Producto':'PRODUCTO',\n",
    "                    'TIPO':'TIPO_CESE',\n",
    "                    'MOTIVO PRIMARIO':'MOTIVO_CESE'}\n",
    "            )\n",
    "\n",
    "planilla = extrae_drive('https://docs.google.com/spreadsheets/d/1L094YBwj3BvobbXb4t3ahzpmL6gBSxgs/edit#gid=648976010')\n",
    "planilla = pd.read_excel(\n",
    "                planilla,\n",
    "                usecols='A,B,D:H'\n",
    "            ).rename(\n",
    "                columns={\n",
    "                    'COD':'CODIGO',\n",
    "                    'REGION/DPTO':'REGION',\n",
    "                    'DIVISION/GC':'DIVISION'    }\n",
    "            )"
   ]
  },
  {
   "cell_type": "markdown",
   "metadata": {},
   "source": [
    "* Al aprecer hay colaboradores que cesaron mas de dos veces, es decir que ingresaron, cesaron, volvieron a ingresar y volvieron a cesar\n",
    "* Se tomara en cuenta este numero de ceses como una caracteristca (aunque son pocas las personas) ***Revisar**\n",
    "* Eliminare los colaboradores duplicados considerando solo los ultimos ceses, pues son de los que se tendria data mas reciente\n",
    "* Genero la columna antiguedad definida como CESE menos INGRESO en meses"
   ]
  },
  {
   "cell_type": "code",
   "execution_count": 4,
   "metadata": {},
   "outputs": [
    {
     "data": {
      "text/html": [
       "<div>\n",
       "<style scoped>\n",
       "    .dataframe tbody tr th:only-of-type {\n",
       "        vertical-align: middle;\n",
       "    }\n",
       "\n",
       "    .dataframe tbody tr th {\n",
       "        vertical-align: top;\n",
       "    }\n",
       "\n",
       "    .dataframe thead th {\n",
       "        text-align: right;\n",
       "    }\n",
       "</style>\n",
       "<table border=\"1\" class=\"dataframe\">\n",
       "  <thead>\n",
       "    <tr style=\"text-align: right;\">\n",
       "      <th></th>\n",
       "      <th>CODIGO</th>\n",
       "      <th>n</th>\n",
       "    </tr>\n",
       "  </thead>\n",
       "  <tbody>\n",
       "    <tr>\n",
       "      <th>425</th>\n",
       "      <td>A22AAAAA34</td>\n",
       "      <td>2</td>\n",
       "    </tr>\n",
       "    <tr>\n",
       "      <th>535</th>\n",
       "      <td>A33AAAA149</td>\n",
       "      <td>2</td>\n",
       "    </tr>\n",
       "    <tr>\n",
       "      <th>580</th>\n",
       "      <td>A33AAAA21A</td>\n",
       "      <td>2</td>\n",
       "    </tr>\n",
       "    <tr>\n",
       "      <th>642</th>\n",
       "      <td>A34AAAAA55</td>\n",
       "      <td>2</td>\n",
       "    </tr>\n",
       "    <tr>\n",
       "      <th>688</th>\n",
       "      <td>A36AAAAA18</td>\n",
       "      <td>2</td>\n",
       "    </tr>\n",
       "    <tr>\n",
       "      <th>1151</th>\n",
       "      <td>A4AAAAA57A</td>\n",
       "      <td>2</td>\n",
       "    </tr>\n",
       "    <tr>\n",
       "      <th>1212</th>\n",
       "      <td>A4AAAAA742</td>\n",
       "      <td>2</td>\n",
       "    </tr>\n",
       "    <tr>\n",
       "      <th>1397</th>\n",
       "      <td>A57AAAAA17</td>\n",
       "      <td>2</td>\n",
       "    </tr>\n",
       "    <tr>\n",
       "      <th>1408</th>\n",
       "      <td>A57AAAAA37</td>\n",
       "      <td>2</td>\n",
       "    </tr>\n",
       "    <tr>\n",
       "      <th>1938</th>\n",
       "      <td>A84AAAAA56</td>\n",
       "      <td>2</td>\n",
       "    </tr>\n",
       "    <tr>\n",
       "      <th>1970</th>\n",
       "      <td>A85AAAAA4A</td>\n",
       "      <td>2</td>\n",
       "    </tr>\n",
       "    <tr>\n",
       "      <th>1984</th>\n",
       "      <td>A86AAAAAA3</td>\n",
       "      <td>2</td>\n",
       "    </tr>\n",
       "    <tr>\n",
       "      <th>2435</th>\n",
       "      <td>AA7AAA2485</td>\n",
       "      <td>2</td>\n",
       "    </tr>\n",
       "    <tr>\n",
       "      <th>2448</th>\n",
       "      <td>AA7AAA2763</td>\n",
       "      <td>2</td>\n",
       "    </tr>\n",
       "    <tr>\n",
       "      <th>2471</th>\n",
       "      <td>AA7AAA2AA1</td>\n",
       "      <td>2</td>\n",
       "    </tr>\n",
       "    <tr>\n",
       "      <th>2483</th>\n",
       "      <td>AA7AAA319A</td>\n",
       "      <td>2</td>\n",
       "    </tr>\n",
       "    <tr>\n",
       "      <th>2507</th>\n",
       "      <td>AA7AAA3363</td>\n",
       "      <td>2</td>\n",
       "    </tr>\n",
       "    <tr>\n",
       "      <th>2703</th>\n",
       "      <td>AA7AAA4731</td>\n",
       "      <td>2</td>\n",
       "    </tr>\n",
       "    <tr>\n",
       "      <th>2793</th>\n",
       "      <td>AA7AAA4A5A</td>\n",
       "      <td>2</td>\n",
       "    </tr>\n",
       "    <tr>\n",
       "      <th>3318</th>\n",
       "      <td>AA8AAA3A12</td>\n",
       "      <td>2</td>\n",
       "    </tr>\n",
       "  </tbody>\n",
       "</table>\n",
       "</div>"
      ],
      "text/plain": [
       "          CODIGO  n\n",
       "425   A22AAAAA34  2\n",
       "535   A33AAAA149  2\n",
       "580   A33AAAA21A  2\n",
       "642   A34AAAAA55  2\n",
       "688   A36AAAAA18  2\n",
       "1151  A4AAAAA57A  2\n",
       "1212  A4AAAAA742  2\n",
       "1397  A57AAAAA17  2\n",
       "1408  A57AAAAA37  2\n",
       "1938  A84AAAAA56  2\n",
       "1970  A85AAAAA4A  2\n",
       "1984  A86AAAAAA3  2\n",
       "2435  AA7AAA2485  2\n",
       "2448  AA7AAA2763  2\n",
       "2471  AA7AAA2AA1  2\n",
       "2483  AA7AAA319A  2\n",
       "2507  AA7AAA3363  2\n",
       "2703  AA7AAA4731  2\n",
       "2793  AA7AAA4A5A  2\n",
       "3318  AA8AAA3A12  2"
      ]
     },
     "execution_count": 4,
     "metadata": {},
     "output_type": "execute_result"
    }
   ],
   "source": [
    "# Colaboradores con mas de 2 ceses\n",
    "cesados.groupby(by = 'CODIGO', as_index=False).agg(n = ('CODIGO','count')).query('n>=2')"
   ]
  },
  {
   "cell_type": "code",
   "execution_count": 5,
   "metadata": {},
   "outputs": [],
   "source": [
    "cesados = cesados.sort_values(\n",
    "    by = 'CESE',\n",
    "    ascending = False # de mayor a menor\n",
    ").drop_duplicates(\n",
    "    'CODIGO',\n",
    "    keep = 'first' # los mas recientes\n",
    ").iloc[:, [0,2,3,6,7]] #solo selecciono las columnas que usare"
   ]
  },
  {
   "cell_type": "code",
   "execution_count": 6,
   "metadata": {},
   "outputs": [],
   "source": [
    "cesados['antiguedad_meses'] = (((cesados['CESE'] - cesados['INGRESO']).dt.days)/30).round(0) # Creo antiguedad"
   ]
  },
  {
   "cell_type": "markdown",
   "metadata": {},
   "source": [
    "* Utilizo como base Planilla que tiene un registro de colabores cesados y activos\n",
    "* Elimino los duplicados pues, la planilla cuenta con registro de colaboradores por meses, me quedo solo con los mas recientes\n",
    "* Realizo los filtros para generar la base que quiero"
   ]
  },
  {
   "cell_type": "code",
   "execution_count": 7,
   "metadata": {},
   "outputs": [],
   "source": [
    "planilla = planilla.drop_duplicates(\n",
    "    'CODIGO',\n",
    "    keep = 'last').iloc[:, 1:6] # no me interesa la fecha, solo los valores unicos del codigo"
   ]
  },
  {
   "cell_type": "code",
   "execution_count": 71,
   "metadata": {},
   "outputs": [],
   "source": [
    "df = pd.merge(\n",
    "    planilla,\n",
    "    cesados,\n",
    "    on = 'CODIGO',\n",
    "    how = 'left'\n",
    ").query('PRODUCTO == \"GRUPAL\"')"
   ]
  },
  {
   "cell_type": "markdown",
   "metadata": {},
   "source": [
    "* Genero una base para Grupal y Otra para invidual porque seran dos diferentes proyectos con caracteristicas diferentes\n",
    "* Empiezo a filtrar, Cargo, Tipo de cese, motivo y antiguedad\n",
    "    * Como uni la base de ceses con planilla se han generado vacios de los colaboradores activos, para ellos debo de tener cuidado en los filtros"
   ]
  },
  {
   "cell_type": "code",
   "execution_count": 72,
   "metadata": {},
   "outputs": [],
   "source": [
    "df = df[\n",
    "    (df['CARGO'].isin(['VENTA GRUPAL']))\n",
    "    & (df['TIPO_CESE'] != 'INVOLUNTARIA') #vacio o voluntaria\n",
    "    & (~df['MOTIVO_CESE'].isin(['Personal Eventual', 'No le Gusto el Trabajo'])) # los otros motivos o vacios\n",
    "    & (df['antiguedad_meses'] >= 9) # quito los mayores a 9 meses\n",
    "    | (df['antiguedad_meses'].isna())] # o que sean activos"
   ]
  },
  {
   "cell_type": "markdown",
   "metadata": {},
   "source": [
    "* Creo una nueva columna que clasifique si es activo o cesado, usando el TIPO_CESE como referencia\n",
    "* Reemplazo la fecha de los que no cesaron con la fecha de cierre, es decir el 01/01/2022\n",
    "* Selecciono solo las variables que usare:\n",
    "    * Ya no usare INGRESO porque necesito extraerno de otra base donde tenga el ingreso de los activos y cesados\n",
    "    * Ya no usare TIPO_CESE,  MOTIVO_CESE ya no competen en el analisis\n",
    "    * Ya no usare antiguedad_meses, pues generare una nueva"
   ]
  },
  {
   "cell_type": "code",
   "execution_count": 73,
   "metadata": {},
   "outputs": [],
   "source": [
    "df.loc[df['TIPO_CESE'] == 'VOLUNTARIA', 'Estado'] = 'CESADO'\n",
    "df.loc[df['TIPO_CESE'] != 'VOLUNTARIA', 'Estado'] = 'ACTIVO'\n",
    "df.loc[df['CESE'].isna(), 'CESE'] = '2022-01-01'\n",
    "df = df.iloc[:,[0,1,2,3,4,6,10]]"
   ]
  },
  {
   "cell_type": "markdown",
   "metadata": {},
   "source": [
    "* Esta es la base que usare como principal donde ire agregando la informacion de otras variables"
   ]
  },
  {
   "cell_type": "code",
   "execution_count": 76,
   "metadata": {},
   "outputs": [
    {
     "data": {
      "text/html": [
       "<div>\n",
       "<style scoped>\n",
       "    .dataframe tbody tr th:only-of-type {\n",
       "        vertical-align: middle;\n",
       "    }\n",
       "\n",
       "    .dataframe tbody tr th {\n",
       "        vertical-align: top;\n",
       "    }\n",
       "\n",
       "    .dataframe thead th {\n",
       "        text-align: right;\n",
       "    }\n",
       "</style>\n",
       "<table border=\"1\" class=\"dataframe\">\n",
       "  <thead>\n",
       "    <tr style=\"text-align: right;\">\n",
       "      <th></th>\n",
       "      <th>CODIGO</th>\n",
       "      <th>CARGO</th>\n",
       "      <th>AGENCIA</th>\n",
       "      <th>PRODUCTO</th>\n",
       "      <th>REGION</th>\n",
       "      <th>CESE</th>\n",
       "      <th>Estado</th>\n",
       "    </tr>\n",
       "  </thead>\n",
       "  <tbody>\n",
       "    <tr>\n",
       "      <th>5056</th>\n",
       "      <td>111AAAAA24</td>\n",
       "      <td>VENTA GRUPAL</td>\n",
       "      <td>OFI HUANUCO</td>\n",
       "      <td>GRUPAL</td>\n",
       "      <td>TERR CENTRO</td>\n",
       "      <td>2022-01-01</td>\n",
       "      <td>ACTIVO</td>\n",
       "    </tr>\n",
       "    <tr>\n",
       "      <th>846</th>\n",
       "      <td>AA8AAA3277</td>\n",
       "      <td>VENTA GRUPAL</td>\n",
       "      <td>OFI COMAS</td>\n",
       "      <td>GRUPAL</td>\n",
       "      <td>TERR LIMA NORTE</td>\n",
       "      <td>2019-05-31</td>\n",
       "      <td>CESADO</td>\n",
       "    </tr>\n",
       "    <tr>\n",
       "      <th>173</th>\n",
       "      <td>AA8AAA2877</td>\n",
       "      <td>VENTA GRUPAL</td>\n",
       "      <td>OFI CANTO GRANDE SJL</td>\n",
       "      <td>GRUPAL</td>\n",
       "      <td>TERR SAN JUAN</td>\n",
       "      <td>2018-05-20</td>\n",
       "      <td>CESADO</td>\n",
       "    </tr>\n",
       "    <tr>\n",
       "      <th>3359</th>\n",
       "      <td>A4AAAAA283</td>\n",
       "      <td>GACG</td>\n",
       "      <td>OFI SULLANA</td>\n",
       "      <td>GRUPAL</td>\n",
       "      <td>TERR NORTE 2</td>\n",
       "      <td>2022-01-01</td>\n",
       "      <td>ACTIVO</td>\n",
       "    </tr>\n",
       "    <tr>\n",
       "      <th>5137</th>\n",
       "      <td>A39AAAAA31</td>\n",
       "      <td>VENTA GRUPAL</td>\n",
       "      <td>OFI TRUJILLO NORTE</td>\n",
       "      <td>GRUPAL</td>\n",
       "      <td>TERR LA LIBERTAD</td>\n",
       "      <td>2022-01-01</td>\n",
       "      <td>ACTIVO</td>\n",
       "    </tr>\n",
       "  </tbody>\n",
       "</table>\n",
       "</div>"
      ],
      "text/plain": [
       "          CODIGO         CARGO               AGENCIA PRODUCTO  \\\n",
       "5056  111AAAAA24  VENTA GRUPAL           OFI HUANUCO   GRUPAL   \n",
       "846   AA8AAA3277  VENTA GRUPAL             OFI COMAS   GRUPAL   \n",
       "173   AA8AAA2877  VENTA GRUPAL  OFI CANTO GRANDE SJL   GRUPAL   \n",
       "3359  A4AAAAA283          GACG           OFI SULLANA   GRUPAL   \n",
       "5137  A39AAAAA31  VENTA GRUPAL    OFI TRUJILLO NORTE   GRUPAL   \n",
       "\n",
       "                REGION       CESE  Estado  \n",
       "5056       TERR CENTRO 2022-01-01  ACTIVO  \n",
       "846    TERR LIMA NORTE 2019-05-31  CESADO  \n",
       "173      TERR SAN JUAN 2018-05-20  CESADO  \n",
       "3359      TERR NORTE 2 2022-01-01  ACTIVO  \n",
       "5137  TERR LA LIBERTAD 2022-01-01  ACTIVO  "
      ]
     },
     "execution_count": 76,
     "metadata": {},
     "output_type": "execute_result"
    }
   ],
   "source": [
    "df.sample(5)"
   ]
  },
  {
   "cell_type": "code",
   "execution_count": 77,
   "metadata": {},
   "outputs": [
    {
     "data": {
      "text/plain": [
       "CODIGO      0\n",
       "CARGO       0\n",
       "AGENCIA     0\n",
       "PRODUCTO    0\n",
       "REGION      0\n",
       "CESE        0\n",
       "Estado      0\n",
       "dtype: int64"
      ]
     },
     "execution_count": 77,
     "metadata": {},
     "output_type": "execute_result"
    }
   ],
   "source": [
    "df.isna().sum() #No tengo NAS hasta el mento"
   ]
  },
  {
   "cell_type": "markdown",
   "metadata": {},
   "source": [
    "* Es necesario ver si la base con la que vamos a continuar esta balanceada\n",
    "    *  Como se muestra tenemos **30% de Cesados y 70% de Activos**, por lo que podemos continuar con el analisis"
   ]
  },
  {
   "cell_type": "code",
   "execution_count": 97,
   "metadata": {},
   "outputs": [
    {
     "data": {
      "text/plain": [
       "0    0.693061\n",
       "1    0.306939\n",
       "Name: n, dtype: float64"
      ]
     },
     "execution_count": 97,
     "metadata": {},
     "output_type": "execute_result"
    }
   ],
   "source": [
    "df.groupby(\n",
    "    by = 'Estado',\n",
    "    as_index = False\n",
    ").agg(\n",
    "    n = ('CODIGO' , 'count')\n",
    ")['n'] / df.shape[0]"
   ]
  },
  {
   "cell_type": "markdown",
   "metadata": {},
   "source": [
    "## Agregando variables a la base principal\n",
    "\n",
    "### Bonos de Venta Grupal\n",
    "* Este valor diferencia el ingreso que tiene un colaborador de otro, ya que tienen un sueldo base y comisiones\n",
    "* Dentro del calculo del bono existen varios tipos, en este caso se toma el tipo normal que es el estandar de calculo\n",
    "*  "
   ]
  },
  {
   "cell_type": "code",
   "execution_count": 104,
   "metadata": {},
   "outputs": [],
   "source": [
    "bonos_venta = extrae_drive('https://docs.google.com/spreadsheets/d/1POTE8j5SneZ0QSvmbtKL_t4hu2odWlTM/edit#gid=578896078')\n",
    "bonos_venta = pd.read_excel(\n",
    "                    bonos_venta,\n",
    "                    usecols = 'A, B, CE'\n",
    "                ).rename(\n",
    "                    columns = {\n",
    "                    'Codigo Trabajador': 'CODIGO',\n",
    "                    'RV TOTAL': 'RV'}\n",
    "                )"
   ]
  },
  {
   "cell_type": "code",
   "execution_count": 106,
   "metadata": {},
   "outputs": [
    {
     "data": {
      "text/html": [
       "<div>\n",
       "<style scoped>\n",
       "    .dataframe tbody tr th:only-of-type {\n",
       "        vertical-align: middle;\n",
       "    }\n",
       "\n",
       "    .dataframe tbody tr th {\n",
       "        vertical-align: top;\n",
       "    }\n",
       "\n",
       "    .dataframe thead th {\n",
       "        text-align: right;\n",
       "    }\n",
       "</style>\n",
       "<table border=\"1\" class=\"dataframe\">\n",
       "  <thead>\n",
       "    <tr style=\"text-align: right;\">\n",
       "      <th></th>\n",
       "      <th>MES</th>\n",
       "      <th>CODIGO</th>\n",
       "      <th>RV</th>\n",
       "    </tr>\n",
       "  </thead>\n",
       "  <tbody>\n",
       "    <tr>\n",
       "      <th>34175</th>\n",
       "      <td>2020-03-01</td>\n",
       "      <td>A53AAAAA27</td>\n",
       "      <td>717.288</td>\n",
       "    </tr>\n",
       "    <tr>\n",
       "      <th>61316</th>\n",
       "      <td>2021-09-01</td>\n",
       "      <td>1A3AAAAA25</td>\n",
       "      <td>2681.965</td>\n",
       "    </tr>\n",
       "    <tr>\n",
       "      <th>45770</th>\n",
       "      <td>2020-10-01</td>\n",
       "      <td>A4AAAAA767</td>\n",
       "      <td>9479.600</td>\n",
       "    </tr>\n",
       "    <tr>\n",
       "      <th>9191</th>\n",
       "      <td>2018-09-01</td>\n",
       "      <td>AA7AAA4338</td>\n",
       "      <td>480.000</td>\n",
       "    </tr>\n",
       "    <tr>\n",
       "      <th>9656</th>\n",
       "      <td>2018-09-01</td>\n",
       "      <td>A55AAAAAA1</td>\n",
       "      <td>4511.700</td>\n",
       "    </tr>\n",
       "  </tbody>\n",
       "</table>\n",
       "</div>"
      ],
      "text/plain": [
       "             MES      CODIGO        RV\n",
       "34175 2020-03-01  A53AAAAA27   717.288\n",
       "61316 2021-09-01  1A3AAAAA25  2681.965\n",
       "45770 2020-10-01  A4AAAAA767  9479.600\n",
       "9191  2018-09-01  AA7AAA4338   480.000\n",
       "9656  2018-09-01  A55AAAAAA1  4511.700"
      ]
     },
     "execution_count": 106,
     "metadata": {},
     "output_type": "execute_result"
    }
   ],
   "source": [
    "bonos_venta.sample(5)"
   ]
  },
  {
   "cell_type": "markdown",
   "metadata": {},
   "source": [
    "\n",
    "\n",
    "programa_mejora = extrae_drive('https://docs.google.com/spreadsheets/d/1CKFlLpx248yvZS0INAawAA5e8NC2qdvV/edit#gid=1510069928')\n",
    "memos = extrae_drive('https://docs.google.com/spreadsheets/d/1Q2pvICQWLAh8Rvou9FvH085KULXioDVK/edit#gid=238204385')\n",
    "vacaciones = extrae_drive('https://docs.google.com/spreadsheets/d/1riJOPN5KUwV1962wO6mjPL7PMgL2v3_s/edit#gid=800276956')\n",
    "descanso_medico = extrae_drive('https://docs.google.com/spreadsheets/d/1H_oENDjS0FyDNVmSg1199PrE6s8q6z7-/edit#gid=1138295584')\n",
    "bonos_venta_i = extrae_drive('https://docs.google.com/spreadsheets/d/1Vjh5S86c1r60L-CnuQB_m6JZPy223Z4p/edit#gid=100516943834575165411')\n",
    "\n",
    "desempeno = extrae_drive()\n",
    "reconocimientos = extrae_drive()\n",
    "hijxs = extrae_drive()\n",
    "datos_personales = extrae_drive()\n",
    "recategorizaciones = extrae_drive()\n",
    "cobertura_ofi = extrae_drive()\n",
    "antg_oficina = extrae_drive()\n",
    "gptw_oficina = extrae_drive()"
   ]
  }
 ],
 "metadata": {
  "interpreter": {
   "hash": "f1d700fa1b1b82d30cc5721a422db1239f21bfed7e745009ba7cb431de82ad6d"
  },
  "kernelspec": {
   "display_name": "Python 3.10.1 64-bit",
   "language": "python",
   "name": "python3"
  },
  "language_info": {
   "codemirror_mode": {
    "name": "ipython",
    "version": 3
   },
   "file_extension": ".py",
   "mimetype": "text/x-python",
   "name": "python",
   "nbconvert_exporter": "python",
   "pygments_lexer": "ipython3",
   "version": "3.10.1"
  },
  "orig_nbformat": 4
 },
 "nbformat": 4,
 "nbformat_minor": 2
}
