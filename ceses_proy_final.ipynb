{
 "cells": [
  {
   "cell_type": "markdown",
   "metadata": {},
   "source": [
    "# Proyecto Bootcamp DS - Codigo Facilito\n",
    "## Predicción y Analisis de Rotacion en una empresa bancaria\n",
    "### Indice\n",
    "0. Recolectando Data\n",
    "1. Contexto del problema\n",
    "2. Analisis Actual\n",
    "3. Featuring Engineering\n",
    "4. Modelado\n",
    "5. Evaluacion del modelo\n",
    "6. Resultados gráficos"
   ]
  },
  {
   "cell_type": "code",
   "execution_count": 1,
   "metadata": {},
   "outputs": [],
   "source": [
    "import pandas as pd\n",
    "import numpy as np\n",
    "import openpyxl \n",
    "import altair as alt"
   ]
  },
  {
   "cell_type": "markdown",
   "metadata": {},
   "source": [
    "* Obtengo Ceses de Entrrevistas de salida desde el 2017\n",
    "    * Con esto puedo ver que la mayor cantidad de ceses en nro de personas esta centradas en negocios Individual y Grupales  "
   ]
  },
  {
   "cell_type": "code",
   "execution_count": 2,
   "metadata": {},
   "outputs": [
    {
     "name": "stderr",
     "output_type": "stream",
     "text": [
      "C:\\Users\\Anna\\AppData\\Local\\Programs\\Python\\Python310\\lib\\site-packages\\openpyxl\\worksheet\\_reader.py:312: UserWarning: Data Validation extension is not supported and will be removed\n",
      "  warn(msg)\n"
     ]
    }
   ],
   "source": [
    "ceses = pd.read_excel(\n",
    "    'C:/Users/Anna/Documents/1. Compartamos Financiera/Database/Entrevistas de Salida.xlsx',\n",
    "    usecols='E,I,O,P,S,T,W,X',\n",
    "    dtype={'CODIGO':str})"
   ]
  },
  {
   "cell_type": "markdown",
   "metadata": {},
   "source": [
    "* Tranformaciones necesarias en el dataset\n",
    "    * Asumiendo que se quiere analizar solo la fuerza de ventas (invidual y grupal) por eso filtro solo estos para el analisis\n",
    "    * Solo utilizare ceses desde el 2018, porque el resto de la info es desde este ano, ademas por el evento de la mudanza donde hubieron muchos ceses atipicos\n",
    "    * Transformar a mes la fecha de cese porque es el intervalo que me interesa evaluar"
   ]
  },
  {
   "cell_type": "code",
   "execution_count": 3,
   "metadata": {},
   "outputs": [],
   "source": [
    "ceses['CESE'] = ceses['CESE'].to_numpy().astype('datetime64[M]')\n",
    "\n",
    "ceses = ceses[\n",
    "    (ceses['CESE']>= '2018-01-01') &\n",
    "    (ceses['Producto'].isin(['INDIVIDUAL', 'GRUPAL']))]"
   ]
  },
  {
   "cell_type": "markdown",
   "metadata": {},
   "source": [
    "* Quiero ver la cantidad de cesados por propoducto para darme una idea"
   ]
  },
  {
   "cell_type": "code",
   "execution_count": 4,
   "metadata": {},
   "outputs": [
    {
     "data": {
      "text/html": [
       "\n",
       "<div id=\"altair-viz-e1a069caaeee4f0d96c602e15d2d8d92\"></div>\n",
       "<script type=\"text/javascript\">\n",
       "  (function(spec, embedOpt){\n",
       "    let outputDiv = document.currentScript.previousElementSibling;\n",
       "    if (outputDiv.id !== \"altair-viz-e1a069caaeee4f0d96c602e15d2d8d92\") {\n",
       "      outputDiv = document.getElementById(\"altair-viz-e1a069caaeee4f0d96c602e15d2d8d92\");\n",
       "    }\n",
       "    const paths = {\n",
       "      \"vega\": \"https://cdn.jsdelivr.net/npm//vega@5?noext\",\n",
       "      \"vega-lib\": \"https://cdn.jsdelivr.net/npm//vega-lib?noext\",\n",
       "      \"vega-lite\": \"https://cdn.jsdelivr.net/npm//vega-lite@4.8.1?noext\",\n",
       "      \"vega-embed\": \"https://cdn.jsdelivr.net/npm//vega-embed@6?noext\",\n",
       "    };\n",
       "\n",
       "    function loadScript(lib) {\n",
       "      return new Promise(function(resolve, reject) {\n",
       "        var s = document.createElement('script');\n",
       "        s.src = paths[lib];\n",
       "        s.async = true;\n",
       "        s.onload = () => resolve(paths[lib]);\n",
       "        s.onerror = () => reject(`Error loading script: ${paths[lib]}`);\n",
       "        document.getElementsByTagName(\"head\")[0].appendChild(s);\n",
       "      });\n",
       "    }\n",
       "\n",
       "    function showError(err) {\n",
       "      outputDiv.innerHTML = `<div class=\"error\" style=\"color:red;\">${err}</div>`;\n",
       "      throw err;\n",
       "    }\n",
       "\n",
       "    function displayChart(vegaEmbed) {\n",
       "      vegaEmbed(outputDiv, spec, embedOpt)\n",
       "        .catch(err => showError(`Javascript Error: ${err.message}<br>This usually means there's a typo in your chart specification. See the javascript console for the full traceback.`));\n",
       "    }\n",
       "\n",
       "    if(typeof define === \"function\" && define.amd) {\n",
       "      requirejs.config({paths});\n",
       "      require([\"vega-embed\"], displayChart, err => showError(`Error loading script: ${err.message}`));\n",
       "    } else if (typeof vegaEmbed === \"function\") {\n",
       "      displayChart(vegaEmbed);\n",
       "    } else {\n",
       "      loadScript(\"vega\")\n",
       "        .then(() => loadScript(\"vega-lite\"))\n",
       "        .then(() => loadScript(\"vega-embed\"))\n",
       "        .catch(showError)\n",
       "        .then(() => displayChart(vegaEmbed));\n",
       "    }\n",
       "  })({\"config\": {\"view\": {\"continuousWidth\": 400, \"continuousHeight\": 300}}, \"data\": {\"name\": \"data-b64a291d0296c4a4c77503f13995593e\"}, \"mark\": \"bar\", \"encoding\": {\"color\": {\"type\": \"nominal\", \"field\": \"Producto\"}, \"x\": {\"type\": \"quantitative\", \"aggregate\": \"sum\", \"field\": \"cesados\"}, \"y\": {\"type\": \"nominal\", \"field\": \"CESE\", \"timeUnit\": \"year\"}}, \"$schema\": \"https://vega.github.io/schema/vega-lite/v4.8.1.json\", \"datasets\": {\"data-b64a291d0296c4a4c77503f13995593e\": [{\"Producto\": \"GRUPAL\", \"CESE\": \"2018-01-01T00:00:00\", \"cesados\": 27}, {\"Producto\": \"GRUPAL\", \"CESE\": \"2018-02-01T00:00:00\", \"cesados\": 31}, {\"Producto\": \"GRUPAL\", \"CESE\": \"2018-03-01T00:00:00\", \"cesados\": 29}, {\"Producto\": \"GRUPAL\", \"CESE\": \"2018-04-01T00:00:00\", \"cesados\": 45}, {\"Producto\": \"GRUPAL\", \"CESE\": \"2018-05-01T00:00:00\", \"cesados\": 33}, {\"Producto\": \"GRUPAL\", \"CESE\": \"2018-06-01T00:00:00\", \"cesados\": 28}, {\"Producto\": \"GRUPAL\", \"CESE\": \"2018-07-01T00:00:00\", \"cesados\": 16}, {\"Producto\": \"GRUPAL\", \"CESE\": \"2018-08-01T00:00:00\", \"cesados\": 28}, {\"Producto\": \"GRUPAL\", \"CESE\": \"2018-09-01T00:00:00\", \"cesados\": 32}, {\"Producto\": \"GRUPAL\", \"CESE\": \"2018-10-01T00:00:00\", \"cesados\": 29}, {\"Producto\": \"GRUPAL\", \"CESE\": \"2018-11-01T00:00:00\", \"cesados\": 24}, {\"Producto\": \"GRUPAL\", \"CESE\": \"2018-12-01T00:00:00\", \"cesados\": 30}, {\"Producto\": \"GRUPAL\", \"CESE\": \"2019-01-01T00:00:00\", \"cesados\": 55}, {\"Producto\": \"GRUPAL\", \"CESE\": \"2019-02-01T00:00:00\", \"cesados\": 53}, {\"Producto\": \"GRUPAL\", \"CESE\": \"2019-03-01T00:00:00\", \"cesados\": 62}, {\"Producto\": \"GRUPAL\", \"CESE\": \"2019-04-01T00:00:00\", \"cesados\": 41}, {\"Producto\": \"GRUPAL\", \"CESE\": \"2019-05-01T00:00:00\", \"cesados\": 57}, {\"Producto\": \"GRUPAL\", \"CESE\": \"2019-06-01T00:00:00\", \"cesados\": 45}, {\"Producto\": \"GRUPAL\", \"CESE\": \"2019-07-01T00:00:00\", \"cesados\": 67}, {\"Producto\": \"GRUPAL\", \"CESE\": \"2019-08-01T00:00:00\", \"cesados\": 53}, {\"Producto\": \"GRUPAL\", \"CESE\": \"2019-09-01T00:00:00\", \"cesados\": 42}, {\"Producto\": \"GRUPAL\", \"CESE\": \"2019-10-01T00:00:00\", \"cesados\": 47}, {\"Producto\": \"GRUPAL\", \"CESE\": \"2019-11-01T00:00:00\", \"cesados\": 46}, {\"Producto\": \"GRUPAL\", \"CESE\": \"2019-12-01T00:00:00\", \"cesados\": 50}, {\"Producto\": \"GRUPAL\", \"CESE\": \"2020-01-01T00:00:00\", \"cesados\": 71}, {\"Producto\": \"GRUPAL\", \"CESE\": \"2020-02-01T00:00:00\", \"cesados\": 53}, {\"Producto\": \"GRUPAL\", \"CESE\": \"2020-03-01T00:00:00\", \"cesados\": 44}, {\"Producto\": \"GRUPAL\", \"CESE\": \"2020-04-01T00:00:00\", \"cesados\": 10}, {\"Producto\": \"GRUPAL\", \"CESE\": \"2020-05-01T00:00:00\", \"cesados\": 10}, {\"Producto\": \"GRUPAL\", \"CESE\": \"2020-06-01T00:00:00\", \"cesados\": 30}, {\"Producto\": \"GRUPAL\", \"CESE\": \"2020-07-01T00:00:00\", \"cesados\": 25}, {\"Producto\": \"GRUPAL\", \"CESE\": \"2020-08-01T00:00:00\", \"cesados\": 27}, {\"Producto\": \"GRUPAL\", \"CESE\": \"2020-09-01T00:00:00\", \"cesados\": 46}, {\"Producto\": \"GRUPAL\", \"CESE\": \"2020-10-01T00:00:00\", \"cesados\": 36}, {\"Producto\": \"GRUPAL\", \"CESE\": \"2020-11-01T00:00:00\", \"cesados\": 35}, {\"Producto\": \"GRUPAL\", \"CESE\": \"2020-12-01T00:00:00\", \"cesados\": 41}, {\"Producto\": \"GRUPAL\", \"CESE\": \"2021-01-01T00:00:00\", \"cesados\": 32}, {\"Producto\": \"GRUPAL\", \"CESE\": \"2021-02-01T00:00:00\", \"cesados\": 46}, {\"Producto\": \"GRUPAL\", \"CESE\": \"2021-03-01T00:00:00\", \"cesados\": 55}, {\"Producto\": \"GRUPAL\", \"CESE\": \"2021-04-01T00:00:00\", \"cesados\": 56}, {\"Producto\": \"GRUPAL\", \"CESE\": \"2021-05-01T00:00:00\", \"cesados\": 45}, {\"Producto\": \"GRUPAL\", \"CESE\": \"2021-06-01T00:00:00\", \"cesados\": 34}, {\"Producto\": \"GRUPAL\", \"CESE\": \"2021-07-01T00:00:00\", \"cesados\": 26}, {\"Producto\": \"GRUPAL\", \"CESE\": \"2021-08-01T00:00:00\", \"cesados\": 29}, {\"Producto\": \"GRUPAL\", \"CESE\": \"2021-09-01T00:00:00\", \"cesados\": 41}, {\"Producto\": \"GRUPAL\", \"CESE\": \"2021-10-01T00:00:00\", \"cesados\": 25}, {\"Producto\": \"GRUPAL\", \"CESE\": \"2021-11-01T00:00:00\", \"cesados\": 28}, {\"Producto\": \"GRUPAL\", \"CESE\": \"2021-12-01T00:00:00\", \"cesados\": 34}, {\"Producto\": \"INDIVIDUAL\", \"CESE\": \"2018-01-01T00:00:00\", \"cesados\": 22}, {\"Producto\": \"INDIVIDUAL\", \"CESE\": \"2018-02-01T00:00:00\", \"cesados\": 11}, {\"Producto\": \"INDIVIDUAL\", \"CESE\": \"2018-03-01T00:00:00\", \"cesados\": 26}, {\"Producto\": \"INDIVIDUAL\", \"CESE\": \"2018-04-01T00:00:00\", \"cesados\": 33}, {\"Producto\": \"INDIVIDUAL\", \"CESE\": \"2018-05-01T00:00:00\", \"cesados\": 25}, {\"Producto\": \"INDIVIDUAL\", \"CESE\": \"2018-06-01T00:00:00\", \"cesados\": 18}, {\"Producto\": \"INDIVIDUAL\", \"CESE\": \"2018-07-01T00:00:00\", \"cesados\": 16}, {\"Producto\": \"INDIVIDUAL\", \"CESE\": \"2018-08-01T00:00:00\", \"cesados\": 20}, {\"Producto\": \"INDIVIDUAL\", \"CESE\": \"2018-09-01T00:00:00\", \"cesados\": 24}, {\"Producto\": \"INDIVIDUAL\", \"CESE\": \"2018-10-01T00:00:00\", \"cesados\": 29}, {\"Producto\": \"INDIVIDUAL\", \"CESE\": \"2018-11-01T00:00:00\", \"cesados\": 21}, {\"Producto\": \"INDIVIDUAL\", \"CESE\": \"2018-12-01T00:00:00\", \"cesados\": 24}, {\"Producto\": \"INDIVIDUAL\", \"CESE\": \"2019-01-01T00:00:00\", \"cesados\": 42}, {\"Producto\": \"INDIVIDUAL\", \"CESE\": \"2019-02-01T00:00:00\", \"cesados\": 32}, {\"Producto\": \"INDIVIDUAL\", \"CESE\": \"2019-03-01T00:00:00\", \"cesados\": 36}, {\"Producto\": \"INDIVIDUAL\", \"CESE\": \"2019-04-01T00:00:00\", \"cesados\": 36}, {\"Producto\": \"INDIVIDUAL\", \"CESE\": \"2019-05-01T00:00:00\", \"cesados\": 38}, {\"Producto\": \"INDIVIDUAL\", \"CESE\": \"2019-06-01T00:00:00\", \"cesados\": 31}, {\"Producto\": \"INDIVIDUAL\", \"CESE\": \"2019-07-01T00:00:00\", \"cesados\": 48}, {\"Producto\": \"INDIVIDUAL\", \"CESE\": \"2019-08-01T00:00:00\", \"cesados\": 33}, {\"Producto\": \"INDIVIDUAL\", \"CESE\": \"2019-09-01T00:00:00\", \"cesados\": 41}, {\"Producto\": \"INDIVIDUAL\", \"CESE\": \"2019-10-01T00:00:00\", \"cesados\": 44}, {\"Producto\": \"INDIVIDUAL\", \"CESE\": \"2019-11-01T00:00:00\", \"cesados\": 44}, {\"Producto\": \"INDIVIDUAL\", \"CESE\": \"2019-12-01T00:00:00\", \"cesados\": 22}, {\"Producto\": \"INDIVIDUAL\", \"CESE\": \"2020-01-01T00:00:00\", \"cesados\": 58}, {\"Producto\": \"INDIVIDUAL\", \"CESE\": \"2020-02-01T00:00:00\", \"cesados\": 51}, {\"Producto\": \"INDIVIDUAL\", \"CESE\": \"2020-03-01T00:00:00\", \"cesados\": 31}, {\"Producto\": \"INDIVIDUAL\", \"CESE\": \"2020-04-01T00:00:00\", \"cesados\": 7}, {\"Producto\": \"INDIVIDUAL\", \"CESE\": \"2020-05-01T00:00:00\", \"cesados\": 78}, {\"Producto\": \"INDIVIDUAL\", \"CESE\": \"2020-06-01T00:00:00\", \"cesados\": 19}, {\"Producto\": \"INDIVIDUAL\", \"CESE\": \"2020-07-01T00:00:00\", \"cesados\": 12}, {\"Producto\": \"INDIVIDUAL\", \"CESE\": \"2020-08-01T00:00:00\", \"cesados\": 12}, {\"Producto\": \"INDIVIDUAL\", \"CESE\": \"2020-09-01T00:00:00\", \"cesados\": 19}, {\"Producto\": \"INDIVIDUAL\", \"CESE\": \"2020-10-01T00:00:00\", \"cesados\": 24}, {\"Producto\": \"INDIVIDUAL\", \"CESE\": \"2020-11-01T00:00:00\", \"cesados\": 14}, {\"Producto\": \"INDIVIDUAL\", \"CESE\": \"2020-12-01T00:00:00\", \"cesados\": 17}, {\"Producto\": \"INDIVIDUAL\", \"CESE\": \"2021-01-01T00:00:00\", \"cesados\": 16}, {\"Producto\": \"INDIVIDUAL\", \"CESE\": \"2021-02-01T00:00:00\", \"cesados\": 21}, {\"Producto\": \"INDIVIDUAL\", \"CESE\": \"2021-03-01T00:00:00\", \"cesados\": 32}, {\"Producto\": \"INDIVIDUAL\", \"CESE\": \"2021-04-01T00:00:00\", \"cesados\": 25}, {\"Producto\": \"INDIVIDUAL\", \"CESE\": \"2021-05-01T00:00:00\", \"cesados\": 20}, {\"Producto\": \"INDIVIDUAL\", \"CESE\": \"2021-06-01T00:00:00\", \"cesados\": 24}, {\"Producto\": \"INDIVIDUAL\", \"CESE\": \"2021-07-01T00:00:00\", \"cesados\": 31}, {\"Producto\": \"INDIVIDUAL\", \"CESE\": \"2021-08-01T00:00:00\", \"cesados\": 26}, {\"Producto\": \"INDIVIDUAL\", \"CESE\": \"2021-09-01T00:00:00\", \"cesados\": 21}, {\"Producto\": \"INDIVIDUAL\", \"CESE\": \"2021-10-01T00:00:00\", \"cesados\": 23}, {\"Producto\": \"INDIVIDUAL\", \"CESE\": \"2021-11-01T00:00:00\", \"cesados\": 30}, {\"Producto\": \"INDIVIDUAL\", \"CESE\": \"2021-12-01T00:00:00\", \"cesados\": 26}]}}, {\"mode\": \"vega-lite\"});\n",
       "</script>"
      ],
      "text/plain": [
       "alt.Chart(...)"
      ]
     },
     "execution_count": 4,
     "metadata": {},
     "output_type": "execute_result"
    }
   ],
   "source": [
    "ceses_product = ceses.groupby(\n",
    "    by=['Producto','CESE'],\n",
    "    as_index = False\n",
    "    ).agg(\n",
    "        cesados = ('CODIGO', 'count')\n",
    "    )\n",
    "# plot por producto\n",
    "alt.Chart(ceses_product).mark_bar().encode(\n",
    "y = 'year(CESE):N',\n",
    "x = 'sum(cesados)',\n",
    "color = 'Producto'\n",
    ") #grupal e invidual por tener mas rotacion FV"
   ]
  },
  {
   "cell_type": "markdown",
   "metadata": {},
   "source": [
    "* Extraigo headcount historico para optener informacion de rotacion (cuanto representa esa cantida de ceses del total de peronas)\n",
    "* Tengo que hallar la rotacion mensual y acumulada la año\n",
    "* El headcount se tiene desde el 2018, no del 2017, sera necesario filtrar las entrevistas de salida (ademas del evento de la mudanza donde se disparan los ceses)"
   ]
  },
  {
   "cell_type": "code",
   "execution_count": 5,
   "metadata": {},
   "outputs": [],
   "source": [
    "# llamo al headcount\n",
    "headcount = pd.read_excel(\n",
    "    'C:/Users/Anna/Documents/1. Compartamos Financiera/Database/PERSONAL.xlsx',\n",
    "    usecols='A,B,D:H',\n",
    "    dtype={'COD':str})"
   ]
  },
  {
   "cell_type": "markdown",
   "metadata": {},
   "source": [
    "* Filtro individual y grupal que es lo que me interesa"
   ]
  },
  {
   "cell_type": "code",
   "execution_count": 6,
   "metadata": {},
   "outputs": [],
   "source": [
    "headcount = headcount[\n",
    "    headcount['PRODUCTO'].isin(['INDIVIDUAL', 'GRUPAL'])]"
   ]
  },
  {
   "cell_type": "markdown",
   "metadata": {},
   "source": [
    "* Agrupo el headcount para tenerlo por producto y por mes"
   ]
  },
  {
   "cell_type": "code",
   "execution_count": 7,
   "metadata": {},
   "outputs": [],
   "source": [
    "head_prod = headcount.groupby(\n",
    "    by=['MES','PRODUCTO'],\n",
    "    as_index = False).agg(real = ('COD', 'count'))"
   ]
  },
  {
   "cell_type": "markdown",
   "metadata": {},
   "source": [
    "* Join de Ceses y Headcount para hallar la rotacion\n",
    "    * Hallo la rotacion, multiplico por 100 y redondeo a 1\n",
    "    * transformo los meses a year para grupar y teneun total de la suma de meses"
   ]
  },
  {
   "cell_type": "code",
   "execution_count": 8,
   "metadata": {},
   "outputs": [],
   "source": [
    "rot_producto = pd.merge(\n",
    "    head_prod,\n",
    "    ceses_product,\n",
    "    left_on=['MES','PRODUCTO'],\n",
    "    right_on=['CESE','Producto'])\n",
    "\n",
    "rot_producto['rotacion'] = ((rot_producto['cesados'] / rot_producto['real'])*100).round(1)\n",
    "rot_producto['year'] = rot_producto['MES'].to_numpy().astype('datetime64[Y]')"
   ]
  },
  {
   "cell_type": "markdown",
   "metadata": {},
   "source": [
    "* Grafico la rotacion acumulada anual por producto\n",
    "    * Se ve que en grupal se tenia mayor rotacion\n",
    "    * Despues de pandemia las rotaciones han bajado"
   ]
  },
  {
   "cell_type": "code",
   "execution_count": 9,
   "metadata": {},
   "outputs": [
    {
     "data": {
      "text/html": [
       "\n",
       "<div id=\"altair-viz-9b7078508daf4ec1b606204a91815b18\"></div>\n",
       "<script type=\"text/javascript\">\n",
       "  (function(spec, embedOpt){\n",
       "    let outputDiv = document.currentScript.previousElementSibling;\n",
       "    if (outputDiv.id !== \"altair-viz-9b7078508daf4ec1b606204a91815b18\") {\n",
       "      outputDiv = document.getElementById(\"altair-viz-9b7078508daf4ec1b606204a91815b18\");\n",
       "    }\n",
       "    const paths = {\n",
       "      \"vega\": \"https://cdn.jsdelivr.net/npm//vega@5?noext\",\n",
       "      \"vega-lib\": \"https://cdn.jsdelivr.net/npm//vega-lib?noext\",\n",
       "      \"vega-lite\": \"https://cdn.jsdelivr.net/npm//vega-lite@4.8.1?noext\",\n",
       "      \"vega-embed\": \"https://cdn.jsdelivr.net/npm//vega-embed@6?noext\",\n",
       "    };\n",
       "\n",
       "    function loadScript(lib) {\n",
       "      return new Promise(function(resolve, reject) {\n",
       "        var s = document.createElement('script');\n",
       "        s.src = paths[lib];\n",
       "        s.async = true;\n",
       "        s.onload = () => resolve(paths[lib]);\n",
       "        s.onerror = () => reject(`Error loading script: ${paths[lib]}`);\n",
       "        document.getElementsByTagName(\"head\")[0].appendChild(s);\n",
       "      });\n",
       "    }\n",
       "\n",
       "    function showError(err) {\n",
       "      outputDiv.innerHTML = `<div class=\"error\" style=\"color:red;\">${err}</div>`;\n",
       "      throw err;\n",
       "    }\n",
       "\n",
       "    function displayChart(vegaEmbed) {\n",
       "      vegaEmbed(outputDiv, spec, embedOpt)\n",
       "        .catch(err => showError(`Javascript Error: ${err.message}<br>This usually means there's a typo in your chart specification. See the javascript console for the full traceback.`));\n",
       "    }\n",
       "\n",
       "    if(typeof define === \"function\" && define.amd) {\n",
       "      requirejs.config({paths});\n",
       "      require([\"vega-embed\"], displayChart, err => showError(`Error loading script: ${err.message}`));\n",
       "    } else if (typeof vegaEmbed === \"function\") {\n",
       "      displayChart(vegaEmbed);\n",
       "    } else {\n",
       "      loadScript(\"vega\")\n",
       "        .then(() => loadScript(\"vega-lite\"))\n",
       "        .then(() => loadScript(\"vega-embed\"))\n",
       "        .catch(showError)\n",
       "        .then(() => displayChart(vegaEmbed));\n",
       "    }\n",
       "  })({\"config\": {\"view\": {\"continuousWidth\": 400, \"continuousHeight\": 300}}, \"data\": {\"name\": \"data-de4c005ca3e3ea33e2e41a91c219ac8a\"}, \"facet\": {\"type\": \"nominal\", \"field\": \"PRODUCTO\"}, \"spec\": {\"layer\": [{\"mark\": \"bar\", \"encoding\": {\"x\": {\"type\": \"quantitative\", \"field\": \"rotacion\"}, \"y\": {\"type\": \"nominal\", \"field\": \"year\", \"timeUnit\": \"year\"}}}, {\"mark\": {\"type\": \"text\", \"align\": \"right\", \"color\": \"white\"}, \"encoding\": {\"text\": {\"type\": \"quantitative\", \"field\": \"rotacion\"}, \"x\": {\"type\": \"quantitative\", \"field\": \"rotacion\"}, \"y\": {\"type\": \"nominal\", \"field\": \"year\", \"timeUnit\": \"year\"}}}]}, \"columns\": 2, \"$schema\": \"https://vega.github.io/schema/vega-lite/v4.8.1.json\", \"datasets\": {\"data-de4c005ca3e3ea33e2e41a91c219ac8a\": [{\"year\": \"2018-01-01T00:00:00\", \"PRODUCTO\": \"GRUPAL\", \"rotacion\": 25.3}, {\"year\": \"2018-01-01T00:00:00\", \"PRODUCTO\": \"INDIVIDUAL\", \"rotacion\": 21.2}, {\"year\": \"2019-01-01T00:00:00\", \"PRODUCTO\": \"GRUPAL\", \"rotacion\": 34.9}, {\"year\": \"2019-01-01T00:00:00\", \"PRODUCTO\": \"INDIVIDUAL\", \"rotacion\": 29.5}, {\"year\": \"2020-01-01T00:00:00\", \"PRODUCTO\": \"GRUPAL\", \"rotacion\": 21.3}, {\"year\": \"2020-01-01T00:00:00\", \"PRODUCTO\": \"INDIVIDUAL\", \"rotacion\": 19.5}, {\"year\": \"2021-01-01T00:00:00\", \"PRODUCTO\": \"GRUPAL\", \"rotacion\": 24.9}, {\"year\": \"2021-01-01T00:00:00\", \"PRODUCTO\": \"INDIVIDUAL\", \"rotacion\": 18.1}]}}, {\"mode\": \"vega-lite\"});\n",
       "</script>"
      ],
      "text/plain": [
       "alt.FacetChart(...)"
      ]
     },
     "execution_count": 9,
     "metadata": {},
     "output_type": "execute_result"
    }
   ],
   "source": [
    "rot_producto = rot_producto.groupby(\n",
    "    by = ['year','PRODUCTO'],\n",
    "    as_index=False\n",
    "    ).agg(\n",
    "        rotacion = ('rotacion','sum')\n",
    ")\n",
    "\n",
    "barras = alt.Chart(rot_producto).mark_bar().encode(\n",
    "    y = 'year(year):N',\n",
    "    x = 'rotacion'\n",
    ")\n",
    "\n",
    "texto = barras.mark_text(\n",
    "    color = 'white',\n",
    "    align = 'right'\n",
    ").encode(\n",
    "    text = alt.Text(\n",
    "        'rotacion')\n",
    ")\n",
    "\n",
    "(barras+texto).facet(\n",
    "    'PRODUCTO',\n",
    "    columns = 2\n",
    ")"
   ]
  },
  {
   "cell_type": "markdown",
   "metadata": {},
   "source": [
    "* Es necesario saber que cargos de estos productos voy a tomar\n",
    "    * Ago un analisis de los cargos que tiene mayor rotacion"
   ]
  },
  {
   "cell_type": "code",
   "execution_count": 10,
   "metadata": {},
   "outputs": [],
   "source": [
    "## Ceses\n",
    "ceses_cargo = ceses.groupby(\n",
    "    by=['Producto', 'CARGO', 'CESE'],\n",
    "    as_index = False\n",
    "    ).agg(\n",
    "        cesados = ('CODIGO', 'count')\n",
    "    )\n",
    "## Headcount\n",
    "head_cargo = headcount.groupby(\n",
    "    by=['PRODUCTO', 'CARGO', 'MES'],\n",
    "    as_index = False\n",
    "    ).agg(\n",
    "        real = ('COD', 'count')\n",
    "    )\n",
    "## Join y rotacion\n",
    "rot_cargo = pd.merge(\n",
    "    head_cargo,\n",
    "    ceses_cargo,\n",
    "    left_on=['MES', 'PRODUCTO', 'CARGO'],\n",
    "    right_on=['CESE', 'Producto', 'CARGO'])\n",
    "\n",
    "rot_cargo['rotacion'] = np.where(\n",
    "    rot_cargo['real'] == 0,\n",
    "    0,\n",
    "    ((rot_cargo['cesados'] / rot_cargo['real'])*100).round(1)\n",
    "    )\n",
    "    \n",
    "rot_cargo['year'] = rot_cargo['MES'].to_numpy().astype('datetime64[Y]')"
   ]
  },
  {
   "cell_type": "markdown",
   "metadata": {},
   "source": [
    "* Analizo en cantidad de ceses cuantos hay por cargo en cada producto\n",
    "    * Resalta a simple vista Asesores de Credito"
   ]
  },
  {
   "cell_type": "code",
   "execution_count": 11,
   "metadata": {},
   "outputs": [
    {
     "data": {
      "text/html": [
       "\n",
       "<div id=\"altair-viz-fe7901e4825442cba77b59840546c8aa\"></div>\n",
       "<script type=\"text/javascript\">\n",
       "  (function(spec, embedOpt){\n",
       "    let outputDiv = document.currentScript.previousElementSibling;\n",
       "    if (outputDiv.id !== \"altair-viz-fe7901e4825442cba77b59840546c8aa\") {\n",
       "      outputDiv = document.getElementById(\"altair-viz-fe7901e4825442cba77b59840546c8aa\");\n",
       "    }\n",
       "    const paths = {\n",
       "      \"vega\": \"https://cdn.jsdelivr.net/npm//vega@5?noext\",\n",
       "      \"vega-lib\": \"https://cdn.jsdelivr.net/npm//vega-lib?noext\",\n",
       "      \"vega-lite\": \"https://cdn.jsdelivr.net/npm//vega-lite@4.8.1?noext\",\n",
       "      \"vega-embed\": \"https://cdn.jsdelivr.net/npm//vega-embed@6?noext\",\n",
       "    };\n",
       "\n",
       "    function loadScript(lib) {\n",
       "      return new Promise(function(resolve, reject) {\n",
       "        var s = document.createElement('script');\n",
       "        s.src = paths[lib];\n",
       "        s.async = true;\n",
       "        s.onload = () => resolve(paths[lib]);\n",
       "        s.onerror = () => reject(`Error loading script: ${paths[lib]}`);\n",
       "        document.getElementsByTagName(\"head\")[0].appendChild(s);\n",
       "      });\n",
       "    }\n",
       "\n",
       "    function showError(err) {\n",
       "      outputDiv.innerHTML = `<div class=\"error\" style=\"color:red;\">${err}</div>`;\n",
       "      throw err;\n",
       "    }\n",
       "\n",
       "    function displayChart(vegaEmbed) {\n",
       "      vegaEmbed(outputDiv, spec, embedOpt)\n",
       "        .catch(err => showError(`Javascript Error: ${err.message}<br>This usually means there's a typo in your chart specification. See the javascript console for the full traceback.`));\n",
       "    }\n",
       "\n",
       "    if(typeof define === \"function\" && define.amd) {\n",
       "      requirejs.config({paths});\n",
       "      require([\"vega-embed\"], displayChart, err => showError(`Error loading script: ${err.message}`));\n",
       "    } else if (typeof vegaEmbed === \"function\") {\n",
       "      displayChart(vegaEmbed);\n",
       "    } else {\n",
       "      loadScript(\"vega\")\n",
       "        .then(() => loadScript(\"vega-lite\"))\n",
       "        .then(() => loadScript(\"vega-embed\"))\n",
       "        .catch(showError)\n",
       "        .then(() => displayChart(vegaEmbed));\n",
       "    }\n",
       "  })({\"config\": {\"view\": {\"continuousWidth\": 400, \"continuousHeight\": 300}}, \"data\": {\"name\": \"data-cd008d076bca0ae2a660e0998aae7923\"}, \"mark\": \"bar\", \"encoding\": {\"color\": {\"type\": \"nominal\", \"field\": \"CARGO\", \"scale\": {\"scheme\": \"category20\"}}, \"column\": {\"type\": \"nominal\", \"field\": \"Producto\"}, \"x\": {\"type\": \"nominal\", \"field\": \"CESE\", \"timeUnit\": \"year\"}, \"y\": {\"type\": \"quantitative\", \"aggregate\": \"sum\", \"field\": \"cesados\"}}, \"$schema\": \"https://vega.github.io/schema/vega-lite/v4.8.1.json\", \"datasets\": {\"data-cd008d076bca0ae2a660e0998aae7923\": [{\"Producto\": \"GRUPAL\", \"CARGO\": \"ASESOR NEGOCIOS CREDITO GRUPAL\", \"CESE\": \"2018-01-01T00:00:00\", \"cesados\": 24}, {\"Producto\": \"GRUPAL\", \"CARGO\": \"ASESOR NEGOCIOS CREDITO GRUPAL\", \"CESE\": \"2018-02-01T00:00:00\", \"cesados\": 28}, {\"Producto\": \"GRUPAL\", \"CARGO\": \"ASESOR NEGOCIOS CREDITO GRUPAL\", \"CESE\": \"2018-03-01T00:00:00\", \"cesados\": 24}, {\"Producto\": \"GRUPAL\", \"CARGO\": \"ASESOR NEGOCIOS CREDITO GRUPAL\", \"CESE\": \"2018-04-01T00:00:00\", \"cesados\": 40}, {\"Producto\": \"GRUPAL\", \"CARGO\": \"ASESOR NEGOCIOS CREDITO GRUPAL\", \"CESE\": \"2018-05-01T00:00:00\", \"cesados\": 26}, {\"Producto\": \"GRUPAL\", \"CARGO\": \"ASESOR NEGOCIOS CREDITO GRUPAL\", \"CESE\": \"2018-06-01T00:00:00\", \"cesados\": 25}, {\"Producto\": \"GRUPAL\", \"CARGO\": \"ASESOR NEGOCIOS CREDITO GRUPAL\", \"CESE\": \"2018-07-01T00:00:00\", \"cesados\": 15}, {\"Producto\": \"GRUPAL\", \"CARGO\": \"ASESOR NEGOCIOS CREDITO GRUPAL\", \"CESE\": \"2018-08-01T00:00:00\", \"cesados\": 27}, {\"Producto\": \"GRUPAL\", \"CARGO\": \"ASESOR NEGOCIOS CREDITO GRUPAL\", \"CESE\": \"2018-09-01T00:00:00\", \"cesados\": 29}, {\"Producto\": \"GRUPAL\", \"CARGO\": \"ASESOR NEGOCIOS CREDITO GRUPAL\", \"CESE\": \"2018-10-01T00:00:00\", \"cesados\": 24}, {\"Producto\": \"GRUPAL\", \"CARGO\": \"ASESOR NEGOCIOS CREDITO GRUPAL\", \"CESE\": \"2018-11-01T00:00:00\", \"cesados\": 20}, {\"Producto\": \"GRUPAL\", \"CARGO\": \"ASESOR NEGOCIOS CREDITO GRUPAL\", \"CESE\": \"2018-12-01T00:00:00\", \"cesados\": 28}, {\"Producto\": \"GRUPAL\", \"CARGO\": \"ASESOR NEGOCIOS CREDITO GRUPAL\", \"CESE\": \"2019-01-01T00:00:00\", \"cesados\": 52}, {\"Producto\": \"GRUPAL\", \"CARGO\": \"ASESOR NEGOCIOS CREDITO GRUPAL\", \"CESE\": \"2019-02-01T00:00:00\", \"cesados\": 48}, {\"Producto\": \"GRUPAL\", \"CARGO\": \"ASESOR NEGOCIOS CREDITO GRUPAL\", \"CESE\": \"2019-03-01T00:00:00\", \"cesados\": 55}, {\"Producto\": \"GRUPAL\", \"CARGO\": \"ASESOR NEGOCIOS CREDITO GRUPAL\", \"CESE\": \"2019-04-01T00:00:00\", \"cesados\": 40}, {\"Producto\": \"GRUPAL\", \"CARGO\": \"ASESOR NEGOCIOS CREDITO GRUPAL\", \"CESE\": \"2019-05-01T00:00:00\", \"cesados\": 52}, {\"Producto\": \"GRUPAL\", \"CARGO\": \"ASESOR NEGOCIOS CREDITO GRUPAL\", \"CESE\": \"2019-06-01T00:00:00\", \"cesados\": 42}, {\"Producto\": \"GRUPAL\", \"CARGO\": \"ASESOR NEGOCIOS CREDITO GRUPAL\", \"CESE\": \"2019-07-01T00:00:00\", \"cesados\": 59}, {\"Producto\": \"GRUPAL\", \"CARGO\": \"ASESOR NEGOCIOS CREDITO GRUPAL\", \"CESE\": \"2019-08-01T00:00:00\", \"cesados\": 46}, {\"Producto\": \"GRUPAL\", \"CARGO\": \"ASESOR NEGOCIOS CREDITO GRUPAL\", \"CESE\": \"2019-09-01T00:00:00\", \"cesados\": 34}, {\"Producto\": \"GRUPAL\", \"CARGO\": \"ASESOR NEGOCIOS CREDITO GRUPAL\", \"CESE\": \"2019-10-01T00:00:00\", \"cesados\": 41}, {\"Producto\": \"GRUPAL\", \"CARGO\": \"ASESOR NEGOCIOS CREDITO GRUPAL\", \"CESE\": \"2019-11-01T00:00:00\", \"cesados\": 41}, {\"Producto\": \"GRUPAL\", \"CARGO\": \"ASESOR NEGOCIOS CREDITO GRUPAL\", \"CESE\": \"2019-12-01T00:00:00\", \"cesados\": 44}, {\"Producto\": \"GRUPAL\", \"CARGO\": \"ASESOR NEGOCIOS CREDITO GRUPAL\", \"CESE\": \"2020-01-01T00:00:00\", \"cesados\": 59}, {\"Producto\": \"GRUPAL\", \"CARGO\": \"ASESOR NEGOCIOS CREDITO GRUPAL\", \"CESE\": \"2020-02-01T00:00:00\", \"cesados\": 49}, {\"Producto\": \"GRUPAL\", \"CARGO\": \"ASESOR NEGOCIOS CREDITO GRUPAL\", \"CESE\": \"2020-03-01T00:00:00\", \"cesados\": 43}, {\"Producto\": \"GRUPAL\", \"CARGO\": \"ASESOR NEGOCIOS CREDITO GRUPAL\", \"CESE\": \"2020-04-01T00:00:00\", \"cesados\": 9}, {\"Producto\": \"GRUPAL\", \"CARGO\": \"ASESOR NEGOCIOS CREDITO GRUPAL\", \"CESE\": \"2020-05-01T00:00:00\", \"cesados\": 8}, {\"Producto\": \"GRUPAL\", \"CARGO\": \"ASESOR NEGOCIOS CREDITO GRUPAL\", \"CESE\": \"2020-06-01T00:00:00\", \"cesados\": 27}, {\"Producto\": \"GRUPAL\", \"CARGO\": \"ASESOR NEGOCIOS CREDITO GRUPAL\", \"CESE\": \"2020-07-01T00:00:00\", \"cesados\": 22}, {\"Producto\": \"GRUPAL\", \"CARGO\": \"ASESOR NEGOCIOS CREDITO GRUPAL\", \"CESE\": \"2020-08-01T00:00:00\", \"cesados\": 26}, {\"Producto\": \"GRUPAL\", \"CARGO\": \"ASESOR NEGOCIOS CREDITO GRUPAL\", \"CESE\": \"2020-09-01T00:00:00\", \"cesados\": 41}, {\"Producto\": \"GRUPAL\", \"CARGO\": \"ASESOR NEGOCIOS CREDITO GRUPAL\", \"CESE\": \"2020-10-01T00:00:00\", \"cesados\": 33}, {\"Producto\": \"GRUPAL\", \"CARGO\": \"ASESOR NEGOCIOS CREDITO GRUPAL\", \"CESE\": \"2020-11-01T00:00:00\", \"cesados\": 31}, {\"Producto\": \"GRUPAL\", \"CARGO\": \"ASESOR NEGOCIOS CREDITO GRUPAL\", \"CESE\": \"2020-12-01T00:00:00\", \"cesados\": 36}, {\"Producto\": \"GRUPAL\", \"CARGO\": \"ASESOR NEGOCIOS CREDITO GRUPAL\", \"CESE\": \"2021-01-01T00:00:00\", \"cesados\": 27}, {\"Producto\": \"GRUPAL\", \"CARGO\": \"ASESOR NEGOCIOS CREDITO GRUPAL\", \"CESE\": \"2021-02-01T00:00:00\", \"cesados\": 39}, {\"Producto\": \"GRUPAL\", \"CARGO\": \"ASESOR NEGOCIOS CREDITO GRUPAL\", \"CESE\": \"2021-03-01T00:00:00\", \"cesados\": 43}, {\"Producto\": \"GRUPAL\", \"CARGO\": \"ASESOR NEGOCIOS CREDITO GRUPAL\", \"CESE\": \"2021-04-01T00:00:00\", \"cesados\": 53}, {\"Producto\": \"GRUPAL\", \"CARGO\": \"ASESOR NEGOCIOS CREDITO GRUPAL\", \"CESE\": \"2021-05-01T00:00:00\", \"cesados\": 41}, {\"Producto\": \"GRUPAL\", \"CARGO\": \"ASESOR NEGOCIOS CREDITO GRUPAL\", \"CESE\": \"2021-06-01T00:00:00\", \"cesados\": 30}, {\"Producto\": \"GRUPAL\", \"CARGO\": \"ASESOR NEGOCIOS CREDITO GRUPAL\", \"CESE\": \"2021-07-01T00:00:00\", \"cesados\": 23}, {\"Producto\": \"GRUPAL\", \"CARGO\": \"ASESOR NEGOCIOS CREDITO GRUPAL\", \"CESE\": \"2021-08-01T00:00:00\", \"cesados\": 24}, {\"Producto\": \"GRUPAL\", \"CARGO\": \"ASESOR NEGOCIOS CREDITO GRUPAL\", \"CESE\": \"2021-09-01T00:00:00\", \"cesados\": 32}, {\"Producto\": \"GRUPAL\", \"CARGO\": \"ASESOR NEGOCIOS CREDITO GRUPAL\", \"CESE\": \"2021-10-01T00:00:00\", \"cesados\": 22}, {\"Producto\": \"GRUPAL\", \"CARGO\": \"ASESOR NEGOCIOS CREDITO GRUPAL\", \"CESE\": \"2021-11-01T00:00:00\", \"cesados\": 24}, {\"Producto\": \"GRUPAL\", \"CARGO\": \"ASESOR NEGOCIOS CREDITO GRUPAL\", \"CESE\": \"2021-12-01T00:00:00\", \"cesados\": 26}, {\"Producto\": \"GRUPAL\", \"CARGO\": \"GERENTE AGENCIA CREDITO GRUPAL\", \"CESE\": \"2018-03-01T00:00:00\", \"cesados\": 1}, {\"Producto\": \"GRUPAL\", \"CARGO\": \"GERENTE AGENCIA CREDITO GRUPAL\", \"CESE\": \"2018-04-01T00:00:00\", \"cesados\": 1}, {\"Producto\": \"GRUPAL\", \"CARGO\": \"GERENTE AGENCIA CREDITO GRUPAL\", \"CESE\": \"2018-06-01T00:00:00\", \"cesados\": 1}, {\"Producto\": \"GRUPAL\", \"CARGO\": \"GERENTE AGENCIA CREDITO GRUPAL\", \"CESE\": \"2018-10-01T00:00:00\", \"cesados\": 2}, {\"Producto\": \"GRUPAL\", \"CARGO\": \"GERENTE AGENCIA CREDITO GRUPAL\", \"CESE\": \"2018-12-01T00:00:00\", \"cesados\": 1}, {\"Producto\": \"GRUPAL\", \"CARGO\": \"GERENTE AGENCIA CREDITO GRUPAL\", \"CESE\": \"2019-01-01T00:00:00\", \"cesados\": 1}, {\"Producto\": \"GRUPAL\", \"CARGO\": \"GERENTE AGENCIA CREDITO GRUPAL\", \"CESE\": \"2019-02-01T00:00:00\", \"cesados\": 3}, {\"Producto\": \"GRUPAL\", \"CARGO\": \"GERENTE AGENCIA CREDITO GRUPAL\", \"CESE\": \"2019-04-01T00:00:00\", \"cesados\": 1}, {\"Producto\": \"GRUPAL\", \"CARGO\": \"GERENTE AGENCIA CREDITO GRUPAL\", \"CESE\": \"2019-07-01T00:00:00\", \"cesados\": 2}, {\"Producto\": \"GRUPAL\", \"CARGO\": \"GERENTE AGENCIA CREDITO GRUPAL\", \"CESE\": \"2019-08-01T00:00:00\", \"cesados\": 2}, {\"Producto\": \"GRUPAL\", \"CARGO\": \"GERENTE AGENCIA CREDITO GRUPAL\", \"CESE\": \"2019-09-01T00:00:00\", \"cesados\": 1}, {\"Producto\": \"GRUPAL\", \"CARGO\": \"GERENTE AGENCIA CREDITO GRUPAL\", \"CESE\": \"2019-10-01T00:00:00\", \"cesados\": 1}, {\"Producto\": \"GRUPAL\", \"CARGO\": \"GERENTE AGENCIA CREDITO GRUPAL\", \"CESE\": \"2019-11-01T00:00:00\", \"cesados\": 3}, {\"Producto\": \"GRUPAL\", \"CARGO\": \"GERENTE AGENCIA CREDITO GRUPAL\", \"CESE\": \"2019-12-01T00:00:00\", \"cesados\": 1}, {\"Producto\": \"GRUPAL\", \"CARGO\": \"GERENTE AGENCIA CREDITO GRUPAL\", \"CESE\": \"2020-01-01T00:00:00\", \"cesados\": 4}, {\"Producto\": \"GRUPAL\", \"CARGO\": \"GERENTE AGENCIA CREDITO GRUPAL\", \"CESE\": \"2020-02-01T00:00:00\", \"cesados\": 1}, {\"Producto\": \"GRUPAL\", \"CARGO\": \"GERENTE AGENCIA CREDITO GRUPAL\", \"CESE\": \"2020-03-01T00:00:00\", \"cesados\": 1}, {\"Producto\": \"GRUPAL\", \"CARGO\": \"GERENTE AGENCIA CREDITO GRUPAL\", \"CESE\": \"2020-06-01T00:00:00\", \"cesados\": 1}, {\"Producto\": \"GRUPAL\", \"CARGO\": \"GERENTE AGENCIA CREDITO GRUPAL\", \"CESE\": \"2020-08-01T00:00:00\", \"cesados\": 1}, {\"Producto\": \"GRUPAL\", \"CARGO\": \"GERENTE AGENCIA CREDITO GRUPAL\", \"CESE\": \"2020-09-01T00:00:00\", \"cesados\": 2}, {\"Producto\": \"GRUPAL\", \"CARGO\": \"GERENTE AGENCIA CREDITO GRUPAL\", \"CESE\": \"2020-11-01T00:00:00\", \"cesados\": 1}, {\"Producto\": \"GRUPAL\", \"CARGO\": \"GERENTE AGENCIA CREDITO GRUPAL\", \"CESE\": \"2020-12-01T00:00:00\", \"cesados\": 3}, {\"Producto\": \"GRUPAL\", \"CARGO\": \"GERENTE AGENCIA CREDITO GRUPAL\", \"CESE\": \"2021-05-01T00:00:00\", \"cesados\": 2}, {\"Producto\": \"GRUPAL\", \"CARGO\": \"GERENTE AGENCIA CREDITO GRUPAL\", \"CESE\": \"2021-08-01T00:00:00\", \"cesados\": 1}, {\"Producto\": \"GRUPAL\", \"CARGO\": \"GERENTE AGENCIA CREDITO GRUPAL\", \"CESE\": \"2021-09-01T00:00:00\", \"cesados\": 4}, {\"Producto\": \"GRUPAL\", \"CARGO\": \"GERENTE AGENCIA CREDITO GRUPAL\", \"CESE\": \"2021-10-01T00:00:00\", \"cesados\": 2}, {\"Producto\": \"GRUPAL\", \"CARGO\": \"GERENTE AGENCIA CREDITO GRUPAL\", \"CESE\": \"2021-12-01T00:00:00\", \"cesados\": 4}, {\"Producto\": \"GRUPAL\", \"CARGO\": \"GERENTE DIVISIONAL CREDITO GRUPAL\", \"CESE\": \"2018-09-01T00:00:00\", \"cesados\": 1}, {\"Producto\": \"GRUPAL\", \"CARGO\": \"GERENTE DIVISIONAL CREDITO GRUPAL\", \"CESE\": \"2019-03-01T00:00:00\", \"cesados\": 1}, {\"Producto\": \"GRUPAL\", \"CARGO\": \"GERENTE DIVISIONAL CREDITO GRUPAL\", \"CESE\": \"2019-12-01T00:00:00\", \"cesados\": 1}, {\"Producto\": \"GRUPAL\", \"CARGO\": \"GERENTE DIVISIONAL CREDITO GRUPAL\", \"CESE\": \"2021-12-01T00:00:00\", \"cesados\": 1}, {\"Producto\": \"GRUPAL\", \"CARGO\": \"GERENTE REGIONAL CREDITO GRUPAL\", \"CESE\": \"2018-05-01T00:00:00\", \"cesados\": 1}, {\"Producto\": \"GRUPAL\", \"CARGO\": \"GERENTE REGIONAL CREDITO GRUPAL\", \"CESE\": \"2018-11-01T00:00:00\", \"cesados\": 1}, {\"Producto\": \"GRUPAL\", \"CARGO\": \"GERENTE REGIONAL CREDITO GRUPAL\", \"CESE\": \"2019-09-01T00:00:00\", \"cesados\": 1}, {\"Producto\": \"GRUPAL\", \"CARGO\": \"GERENTE REGIONAL CREDITO GRUPAL\", \"CESE\": \"2019-10-01T00:00:00\", \"cesados\": 1}, {\"Producto\": \"GRUPAL\", \"CARGO\": \"GERENTE REGIONAL CREDITO GRUPAL\", \"CESE\": \"2019-11-01T00:00:00\", \"cesados\": 1}, {\"Producto\": \"GRUPAL\", \"CARGO\": \"GERENTE REGIONAL CREDITO GRUPAL\", \"CESE\": \"2020-12-01T00:00:00\", \"cesados\": 1}, {\"Producto\": \"GRUPAL\", \"CARGO\": \"GERENTE REGIONAL CREDITO GRUPAL\", \"CESE\": \"2021-03-01T00:00:00\", \"cesados\": 1}, {\"Producto\": \"GRUPAL\", \"CARGO\": \"GERENTE REGIONAL CREDITO GRUPAL\", \"CESE\": \"2021-05-01T00:00:00\", \"cesados\": 1}, {\"Producto\": \"GRUPAL\", \"CARGO\": \"GERENTE REGIONAL CREDITO GRUPAL\", \"CESE\": \"2021-10-01T00:00:00\", \"cesados\": 1}, {\"Producto\": \"GRUPAL\", \"CARGO\": \"JEFE CREDITO GRUPAL\", \"CESE\": \"2018-01-01T00:00:00\", \"cesados\": 3}, {\"Producto\": \"GRUPAL\", \"CARGO\": \"JEFE CREDITO GRUPAL\", \"CESE\": \"2018-02-01T00:00:00\", \"cesados\": 3}, {\"Producto\": \"GRUPAL\", \"CARGO\": \"JEFE CREDITO GRUPAL\", \"CESE\": \"2018-03-01T00:00:00\", \"cesados\": 4}, {\"Producto\": \"GRUPAL\", \"CARGO\": \"JEFE CREDITO GRUPAL\", \"CESE\": \"2018-04-01T00:00:00\", \"cesados\": 4}, {\"Producto\": \"GRUPAL\", \"CARGO\": \"JEFE CREDITO GRUPAL\", \"CESE\": \"2018-05-01T00:00:00\", \"cesados\": 6}, {\"Producto\": \"GRUPAL\", \"CARGO\": \"JEFE CREDITO GRUPAL\", \"CESE\": \"2018-06-01T00:00:00\", \"cesados\": 2}, {\"Producto\": \"GRUPAL\", \"CARGO\": \"JEFE CREDITO GRUPAL\", \"CESE\": \"2018-07-01T00:00:00\", \"cesados\": 1}, {\"Producto\": \"GRUPAL\", \"CARGO\": \"JEFE CREDITO GRUPAL\", \"CESE\": \"2018-08-01T00:00:00\", \"cesados\": 1}, {\"Producto\": \"GRUPAL\", \"CARGO\": \"JEFE CREDITO GRUPAL\", \"CESE\": \"2018-09-01T00:00:00\", \"cesados\": 2}, {\"Producto\": \"GRUPAL\", \"CARGO\": \"JEFE CREDITO GRUPAL\", \"CESE\": \"2018-10-01T00:00:00\", \"cesados\": 3}, {\"Producto\": \"GRUPAL\", \"CARGO\": \"JEFE CREDITO GRUPAL\", \"CESE\": \"2018-11-01T00:00:00\", \"cesados\": 3}, {\"Producto\": \"GRUPAL\", \"CARGO\": \"JEFE CREDITO GRUPAL\", \"CESE\": \"2018-12-01T00:00:00\", \"cesados\": 1}, {\"Producto\": \"GRUPAL\", \"CARGO\": \"JEFE CREDITO GRUPAL\", \"CESE\": \"2019-01-01T00:00:00\", \"cesados\": 2}, {\"Producto\": \"GRUPAL\", \"CARGO\": \"JEFE CREDITO GRUPAL\", \"CESE\": \"2019-02-01T00:00:00\", \"cesados\": 2}, {\"Producto\": \"GRUPAL\", \"CARGO\": \"JEFE CREDITO GRUPAL\", \"CESE\": \"2019-03-01T00:00:00\", \"cesados\": 6}, {\"Producto\": \"GRUPAL\", \"CARGO\": \"JEFE CREDITO GRUPAL\", \"CESE\": \"2019-05-01T00:00:00\", \"cesados\": 5}, {\"Producto\": \"GRUPAL\", \"CARGO\": \"JEFE CREDITO GRUPAL\", \"CESE\": \"2019-06-01T00:00:00\", \"cesados\": 3}, {\"Producto\": \"GRUPAL\", \"CARGO\": \"JEFE CREDITO GRUPAL\", \"CESE\": \"2019-07-01T00:00:00\", \"cesados\": 6}, {\"Producto\": \"GRUPAL\", \"CARGO\": \"JEFE CREDITO GRUPAL\", \"CESE\": \"2019-08-01T00:00:00\", \"cesados\": 5}, {\"Producto\": \"GRUPAL\", \"CARGO\": \"JEFE CREDITO GRUPAL\", \"CESE\": \"2019-09-01T00:00:00\", \"cesados\": 6}, {\"Producto\": \"GRUPAL\", \"CARGO\": \"JEFE CREDITO GRUPAL\", \"CESE\": \"2019-10-01T00:00:00\", \"cesados\": 4}, {\"Producto\": \"GRUPAL\", \"CARGO\": \"JEFE CREDITO GRUPAL\", \"CESE\": \"2019-11-01T00:00:00\", \"cesados\": 1}, {\"Producto\": \"GRUPAL\", \"CARGO\": \"JEFE CREDITO GRUPAL\", \"CESE\": \"2019-12-01T00:00:00\", \"cesados\": 4}, {\"Producto\": \"GRUPAL\", \"CARGO\": \"JEFE CREDITO GRUPAL\", \"CESE\": \"2020-01-01T00:00:00\", \"cesados\": 8}, {\"Producto\": \"GRUPAL\", \"CARGO\": \"JEFE CREDITO GRUPAL\", \"CESE\": \"2020-02-01T00:00:00\", \"cesados\": 3}, {\"Producto\": \"GRUPAL\", \"CARGO\": \"JEFE CREDITO GRUPAL\", \"CESE\": \"2020-04-01T00:00:00\", \"cesados\": 1}, {\"Producto\": \"GRUPAL\", \"CARGO\": \"JEFE CREDITO GRUPAL\", \"CESE\": \"2020-05-01T00:00:00\", \"cesados\": 2}, {\"Producto\": \"GRUPAL\", \"CARGO\": \"JEFE CREDITO GRUPAL\", \"CESE\": \"2020-06-01T00:00:00\", \"cesados\": 2}, {\"Producto\": \"GRUPAL\", \"CARGO\": \"JEFE CREDITO GRUPAL\", \"CESE\": \"2020-07-01T00:00:00\", \"cesados\": 3}, {\"Producto\": \"GRUPAL\", \"CARGO\": \"JEFE CREDITO GRUPAL\", \"CESE\": \"2020-09-01T00:00:00\", \"cesados\": 3}, {\"Producto\": \"GRUPAL\", \"CARGO\": \"JEFE CREDITO GRUPAL\", \"CESE\": \"2020-10-01T00:00:00\", \"cesados\": 3}, {\"Producto\": \"GRUPAL\", \"CARGO\": \"JEFE CREDITO GRUPAL\", \"CESE\": \"2020-11-01T00:00:00\", \"cesados\": 3}, {\"Producto\": \"GRUPAL\", \"CARGO\": \"JEFE CREDITO GRUPAL\", \"CESE\": \"2020-12-01T00:00:00\", \"cesados\": 1}, {\"Producto\": \"GRUPAL\", \"CARGO\": \"JEFE CREDITO GRUPAL\", \"CESE\": \"2021-01-01T00:00:00\", \"cesados\": 5}, {\"Producto\": \"GRUPAL\", \"CARGO\": \"JEFE CREDITO GRUPAL\", \"CESE\": \"2021-02-01T00:00:00\", \"cesados\": 7}, {\"Producto\": \"GRUPAL\", \"CARGO\": \"JEFE CREDITO GRUPAL\", \"CESE\": \"2021-03-01T00:00:00\", \"cesados\": 10}, {\"Producto\": \"GRUPAL\", \"CARGO\": \"JEFE CREDITO GRUPAL\", \"CESE\": \"2021-04-01T00:00:00\", \"cesados\": 3}, {\"Producto\": \"GRUPAL\", \"CARGO\": \"JEFE CREDITO GRUPAL\", \"CESE\": \"2021-05-01T00:00:00\", \"cesados\": 1}, {\"Producto\": \"GRUPAL\", \"CARGO\": \"JEFE CREDITO GRUPAL\", \"CESE\": \"2021-06-01T00:00:00\", \"cesados\": 4}, {\"Producto\": \"GRUPAL\", \"CARGO\": \"JEFE CREDITO GRUPAL\", \"CESE\": \"2021-07-01T00:00:00\", \"cesados\": 3}, {\"Producto\": \"GRUPAL\", \"CARGO\": \"JEFE CREDITO GRUPAL\", \"CESE\": \"2021-08-01T00:00:00\", \"cesados\": 4}, {\"Producto\": \"GRUPAL\", \"CARGO\": \"JEFE CREDITO GRUPAL\", \"CESE\": \"2021-09-01T00:00:00\", \"cesados\": 5}, {\"Producto\": \"GRUPAL\", \"CARGO\": \"JEFE CREDITO GRUPAL\", \"CESE\": \"2021-11-01T00:00:00\", \"cesados\": 4}, {\"Producto\": \"GRUPAL\", \"CARGO\": \"JEFE CREDITO GRUPAL\", \"CESE\": \"2021-12-01T00:00:00\", \"cesados\": 3}, {\"Producto\": \"GRUPAL\", \"CARGO\": \"SUBGERENTE AGENCIA CREDITO GRUPAL\", \"CESE\": \"2021-03-01T00:00:00\", \"cesados\": 1}, {\"Producto\": \"INDIVIDUAL\", \"CARGO\": \"ASESOR NEGOCIOS CREDITO INDIVIDUAL\", \"CESE\": \"2018-01-01T00:00:00\", \"cesados\": 15}, {\"Producto\": \"INDIVIDUAL\", \"CARGO\": \"ASESOR NEGOCIOS CREDITO INDIVIDUAL\", \"CESE\": \"2018-02-01T00:00:00\", \"cesados\": 6}, {\"Producto\": \"INDIVIDUAL\", \"CARGO\": \"ASESOR NEGOCIOS CREDITO INDIVIDUAL\", \"CESE\": \"2018-03-01T00:00:00\", \"cesados\": 18}, {\"Producto\": \"INDIVIDUAL\", \"CARGO\": \"ASESOR NEGOCIOS CREDITO INDIVIDUAL\", \"CESE\": \"2018-04-01T00:00:00\", \"cesados\": 28}, {\"Producto\": \"INDIVIDUAL\", \"CARGO\": \"ASESOR NEGOCIOS CREDITO INDIVIDUAL\", \"CESE\": \"2018-05-01T00:00:00\", \"cesados\": 16}, {\"Producto\": \"INDIVIDUAL\", \"CARGO\": \"ASESOR NEGOCIOS CREDITO INDIVIDUAL\", \"CESE\": \"2018-06-01T00:00:00\", \"cesados\": 14}, {\"Producto\": \"INDIVIDUAL\", \"CARGO\": \"ASESOR NEGOCIOS CREDITO INDIVIDUAL\", \"CESE\": \"2018-07-01T00:00:00\", \"cesados\": 14}, {\"Producto\": \"INDIVIDUAL\", \"CARGO\": \"ASESOR NEGOCIOS CREDITO INDIVIDUAL\", \"CESE\": \"2018-08-01T00:00:00\", \"cesados\": 14}, {\"Producto\": \"INDIVIDUAL\", \"CARGO\": \"ASESOR NEGOCIOS CREDITO INDIVIDUAL\", \"CESE\": \"2018-09-01T00:00:00\", \"cesados\": 15}, {\"Producto\": \"INDIVIDUAL\", \"CARGO\": \"ASESOR NEGOCIOS CREDITO INDIVIDUAL\", \"CESE\": \"2018-10-01T00:00:00\", \"cesados\": 18}, {\"Producto\": \"INDIVIDUAL\", \"CARGO\": \"ASESOR NEGOCIOS CREDITO INDIVIDUAL\", \"CESE\": \"2018-11-01T00:00:00\", \"cesados\": 15}, {\"Producto\": \"INDIVIDUAL\", \"CARGO\": \"ASESOR NEGOCIOS CREDITO INDIVIDUAL\", \"CESE\": \"2018-12-01T00:00:00\", \"cesados\": 21}, {\"Producto\": \"INDIVIDUAL\", \"CARGO\": \"ASESOR NEGOCIOS CREDITO INDIVIDUAL\", \"CESE\": \"2019-01-01T00:00:00\", \"cesados\": 31}, {\"Producto\": \"INDIVIDUAL\", \"CARGO\": \"ASESOR NEGOCIOS CREDITO INDIVIDUAL\", \"CESE\": \"2019-02-01T00:00:00\", \"cesados\": 24}, {\"Producto\": \"INDIVIDUAL\", \"CARGO\": \"ASESOR NEGOCIOS CREDITO INDIVIDUAL\", \"CESE\": \"2019-03-01T00:00:00\", \"cesados\": 27}, {\"Producto\": \"INDIVIDUAL\", \"CARGO\": \"ASESOR NEGOCIOS CREDITO INDIVIDUAL\", \"CESE\": \"2019-04-01T00:00:00\", \"cesados\": 27}, {\"Producto\": \"INDIVIDUAL\", \"CARGO\": \"ASESOR NEGOCIOS CREDITO INDIVIDUAL\", \"CESE\": \"2019-05-01T00:00:00\", \"cesados\": 34}, {\"Producto\": \"INDIVIDUAL\", \"CARGO\": \"ASESOR NEGOCIOS CREDITO INDIVIDUAL\", \"CESE\": \"2019-06-01T00:00:00\", \"cesados\": 24}, {\"Producto\": \"INDIVIDUAL\", \"CARGO\": \"ASESOR NEGOCIOS CREDITO INDIVIDUAL\", \"CESE\": \"2019-07-01T00:00:00\", \"cesados\": 37}, {\"Producto\": \"INDIVIDUAL\", \"CARGO\": \"ASESOR NEGOCIOS CREDITO INDIVIDUAL\", \"CESE\": \"2019-08-01T00:00:00\", \"cesados\": 22}, {\"Producto\": \"INDIVIDUAL\", \"CARGO\": \"ASESOR NEGOCIOS CREDITO INDIVIDUAL\", \"CESE\": \"2019-09-01T00:00:00\", \"cesados\": 32}, {\"Producto\": \"INDIVIDUAL\", \"CARGO\": \"ASESOR NEGOCIOS CREDITO INDIVIDUAL\", \"CESE\": \"2019-10-01T00:00:00\", \"cesados\": 34}, {\"Producto\": \"INDIVIDUAL\", \"CARGO\": \"ASESOR NEGOCIOS CREDITO INDIVIDUAL\", \"CESE\": \"2019-11-01T00:00:00\", \"cesados\": 29}, {\"Producto\": \"INDIVIDUAL\", \"CARGO\": \"ASESOR NEGOCIOS CREDITO INDIVIDUAL\", \"CESE\": \"2019-12-01T00:00:00\", \"cesados\": 14}, {\"Producto\": \"INDIVIDUAL\", \"CARGO\": \"ASESOR NEGOCIOS CREDITO INDIVIDUAL\", \"CESE\": \"2020-01-01T00:00:00\", \"cesados\": 45}, {\"Producto\": \"INDIVIDUAL\", \"CARGO\": \"ASESOR NEGOCIOS CREDITO INDIVIDUAL\", \"CESE\": \"2020-02-01T00:00:00\", \"cesados\": 37}, {\"Producto\": \"INDIVIDUAL\", \"CARGO\": \"ASESOR NEGOCIOS CREDITO INDIVIDUAL\", \"CESE\": \"2020-03-01T00:00:00\", \"cesados\": 18}, {\"Producto\": \"INDIVIDUAL\", \"CARGO\": \"ASESOR NEGOCIOS CREDITO INDIVIDUAL\", \"CESE\": \"2020-04-01T00:00:00\", \"cesados\": 2}, {\"Producto\": \"INDIVIDUAL\", \"CARGO\": \"ASESOR NEGOCIOS CREDITO INDIVIDUAL\", \"CESE\": \"2020-05-01T00:00:00\", \"cesados\": 2}, {\"Producto\": \"INDIVIDUAL\", \"CARGO\": \"ASESOR NEGOCIOS CREDITO INDIVIDUAL\", \"CESE\": \"2020-06-01T00:00:00\", \"cesados\": 7}, {\"Producto\": \"INDIVIDUAL\", \"CARGO\": \"ASESOR NEGOCIOS CREDITO INDIVIDUAL\", \"CESE\": \"2020-07-01T00:00:00\", \"cesados\": 8}, {\"Producto\": \"INDIVIDUAL\", \"CARGO\": \"ASESOR NEGOCIOS CREDITO INDIVIDUAL\", \"CESE\": \"2020-08-01T00:00:00\", \"cesados\": 8}, {\"Producto\": \"INDIVIDUAL\", \"CARGO\": \"ASESOR NEGOCIOS CREDITO INDIVIDUAL\", \"CESE\": \"2020-09-01T00:00:00\", \"cesados\": 13}, {\"Producto\": \"INDIVIDUAL\", \"CARGO\": \"ASESOR NEGOCIOS CREDITO INDIVIDUAL\", \"CESE\": \"2020-10-01T00:00:00\", \"cesados\": 14}, {\"Producto\": \"INDIVIDUAL\", \"CARGO\": \"ASESOR NEGOCIOS CREDITO INDIVIDUAL\", \"CESE\": \"2020-11-01T00:00:00\", \"cesados\": 9}, {\"Producto\": \"INDIVIDUAL\", \"CARGO\": \"ASESOR NEGOCIOS CREDITO INDIVIDUAL\", \"CESE\": \"2020-12-01T00:00:00\", \"cesados\": 14}, {\"Producto\": \"INDIVIDUAL\", \"CARGO\": \"ASESOR NEGOCIOS CREDITO INDIVIDUAL\", \"CESE\": \"2021-01-01T00:00:00\", \"cesados\": 10}, {\"Producto\": \"INDIVIDUAL\", \"CARGO\": \"ASESOR NEGOCIOS CREDITO INDIVIDUAL\", \"CESE\": \"2021-02-01T00:00:00\", \"cesados\": 14}, {\"Producto\": \"INDIVIDUAL\", \"CARGO\": \"ASESOR NEGOCIOS CREDITO INDIVIDUAL\", \"CESE\": \"2021-03-01T00:00:00\", \"cesados\": 22}, {\"Producto\": \"INDIVIDUAL\", \"CARGO\": \"ASESOR NEGOCIOS CREDITO INDIVIDUAL\", \"CESE\": \"2021-04-01T00:00:00\", \"cesados\": 22}, {\"Producto\": \"INDIVIDUAL\", \"CARGO\": \"ASESOR NEGOCIOS CREDITO INDIVIDUAL\", \"CESE\": \"2021-05-01T00:00:00\", \"cesados\": 16}, {\"Producto\": \"INDIVIDUAL\", \"CARGO\": \"ASESOR NEGOCIOS CREDITO INDIVIDUAL\", \"CESE\": \"2021-06-01T00:00:00\", \"cesados\": 15}, {\"Producto\": \"INDIVIDUAL\", \"CARGO\": \"ASESOR NEGOCIOS CREDITO INDIVIDUAL\", \"CESE\": \"2021-07-01T00:00:00\", \"cesados\": 5}, {\"Producto\": \"INDIVIDUAL\", \"CARGO\": \"ASESOR NEGOCIOS CREDITO INDIVIDUAL\", \"CESE\": \"2021-08-01T00:00:00\", \"cesados\": 16}, {\"Producto\": \"INDIVIDUAL\", \"CARGO\": \"ASESOR NEGOCIOS CREDITO INDIVIDUAL\", \"CESE\": \"2021-09-01T00:00:00\", \"cesados\": 16}, {\"Producto\": \"INDIVIDUAL\", \"CARGO\": \"ASESOR NEGOCIOS CREDITO INDIVIDUAL\", \"CESE\": \"2021-10-01T00:00:00\", \"cesados\": 20}, {\"Producto\": \"INDIVIDUAL\", \"CARGO\": \"ASESOR NEGOCIOS CREDITO INDIVIDUAL\", \"CESE\": \"2021-11-01T00:00:00\", \"cesados\": 20}, {\"Producto\": \"INDIVIDUAL\", \"CARGO\": \"ASESOR NEGOCIOS CREDITO INDIVIDUAL\", \"CESE\": \"2021-12-01T00:00:00\", \"cesados\": 17}, {\"Producto\": \"INDIVIDUAL\", \"CARGO\": \"ASESOR NEGOCIOS EN FORMACION\", \"CESE\": \"2019-12-01T00:00:00\", \"cesados\": 1}, {\"Producto\": \"INDIVIDUAL\", \"CARGO\": \"EJECUTIVO NEGOCIOS\", \"CESE\": \"2018-01-01T00:00:00\", \"cesados\": 6}, {\"Producto\": \"INDIVIDUAL\", \"CARGO\": \"EJECUTIVO NEGOCIOS\", \"CESE\": \"2018-02-01T00:00:00\", \"cesados\": 4}, {\"Producto\": \"INDIVIDUAL\", \"CARGO\": \"EJECUTIVO NEGOCIOS\", \"CESE\": \"2018-03-01T00:00:00\", \"cesados\": 7}, {\"Producto\": \"INDIVIDUAL\", \"CARGO\": \"EJECUTIVO NEGOCIOS\", \"CESE\": \"2018-04-01T00:00:00\", \"cesados\": 3}, {\"Producto\": \"INDIVIDUAL\", \"CARGO\": \"EJECUTIVO NEGOCIOS\", \"CESE\": \"2018-05-01T00:00:00\", \"cesados\": 8}, {\"Producto\": \"INDIVIDUAL\", \"CARGO\": \"EJECUTIVO NEGOCIOS\", \"CESE\": \"2018-06-01T00:00:00\", \"cesados\": 2}, {\"Producto\": \"INDIVIDUAL\", \"CARGO\": \"EJECUTIVO NEGOCIOS\", \"CESE\": \"2018-07-01T00:00:00\", \"cesados\": 1}, {\"Producto\": \"INDIVIDUAL\", \"CARGO\": \"EJECUTIVO NEGOCIOS\", \"CESE\": \"2018-08-01T00:00:00\", \"cesados\": 4}, {\"Producto\": \"INDIVIDUAL\", \"CARGO\": \"EJECUTIVO NEGOCIOS\", \"CESE\": \"2018-09-01T00:00:00\", \"cesados\": 6}, {\"Producto\": \"INDIVIDUAL\", \"CARGO\": \"EJECUTIVO NEGOCIOS\", \"CESE\": \"2018-10-01T00:00:00\", \"cesados\": 7}, {\"Producto\": \"INDIVIDUAL\", \"CARGO\": \"EJECUTIVO NEGOCIOS\", \"CESE\": \"2018-11-01T00:00:00\", \"cesados\": 4}, {\"Producto\": \"INDIVIDUAL\", \"CARGO\": \"EJECUTIVO NEGOCIOS\", \"CESE\": \"2018-12-01T00:00:00\", \"cesados\": 2}, {\"Producto\": \"INDIVIDUAL\", \"CARGO\": \"EJECUTIVO NEGOCIOS\", \"CESE\": \"2019-01-01T00:00:00\", \"cesados\": 10}, {\"Producto\": \"INDIVIDUAL\", \"CARGO\": \"EJECUTIVO NEGOCIOS\", \"CESE\": \"2019-02-01T00:00:00\", \"cesados\": 5}, {\"Producto\": \"INDIVIDUAL\", \"CARGO\": \"EJECUTIVO NEGOCIOS\", \"CESE\": \"2019-03-01T00:00:00\", \"cesados\": 3}, {\"Producto\": \"INDIVIDUAL\", \"CARGO\": \"EJECUTIVO NEGOCIOS\", \"CESE\": \"2019-04-01T00:00:00\", \"cesados\": 9}, {\"Producto\": \"INDIVIDUAL\", \"CARGO\": \"EJECUTIVO NEGOCIOS\", \"CESE\": \"2019-05-01T00:00:00\", \"cesados\": 3}, {\"Producto\": \"INDIVIDUAL\", \"CARGO\": \"EJECUTIVO NEGOCIOS\", \"CESE\": \"2019-06-01T00:00:00\", \"cesados\": 5}, {\"Producto\": \"INDIVIDUAL\", \"CARGO\": \"EJECUTIVO NEGOCIOS\", \"CESE\": \"2019-07-01T00:00:00\", \"cesados\": 9}, {\"Producto\": \"INDIVIDUAL\", \"CARGO\": \"EJECUTIVO NEGOCIOS\", \"CESE\": \"2019-08-01T00:00:00\", \"cesados\": 8}, {\"Producto\": \"INDIVIDUAL\", \"CARGO\": \"EJECUTIVO NEGOCIOS\", \"CESE\": \"2019-09-01T00:00:00\", \"cesados\": 8}, {\"Producto\": \"INDIVIDUAL\", \"CARGO\": \"EJECUTIVO NEGOCIOS\", \"CESE\": \"2019-10-01T00:00:00\", \"cesados\": 9}, {\"Producto\": \"INDIVIDUAL\", \"CARGO\": \"EJECUTIVO NEGOCIOS\", \"CESE\": \"2019-11-01T00:00:00\", \"cesados\": 13}, {\"Producto\": \"INDIVIDUAL\", \"CARGO\": \"EJECUTIVO NEGOCIOS\", \"CESE\": \"2019-12-01T00:00:00\", \"cesados\": 4}, {\"Producto\": \"INDIVIDUAL\", \"CARGO\": \"EJECUTIVO NEGOCIOS\", \"CESE\": \"2020-01-01T00:00:00\", \"cesados\": 12}, {\"Producto\": \"INDIVIDUAL\", \"CARGO\": \"EJECUTIVO NEGOCIOS\", \"CESE\": \"2020-02-01T00:00:00\", \"cesados\": 13}, {\"Producto\": \"INDIVIDUAL\", \"CARGO\": \"EJECUTIVO NEGOCIOS\", \"CESE\": \"2020-03-01T00:00:00\", \"cesados\": 8}, {\"Producto\": \"INDIVIDUAL\", \"CARGO\": \"EJECUTIVO NEGOCIOS\", \"CESE\": \"2020-04-01T00:00:00\", \"cesados\": 3}, {\"Producto\": \"INDIVIDUAL\", \"CARGO\": \"EJECUTIVO NEGOCIOS\", \"CESE\": \"2020-05-01T00:00:00\", \"cesados\": 76}, {\"Producto\": \"INDIVIDUAL\", \"CARGO\": \"EJECUTIVO NEGOCIOS\", \"CESE\": \"2020-06-01T00:00:00\", \"cesados\": 11}, {\"Producto\": \"INDIVIDUAL\", \"CARGO\": \"EJECUTIVO NEGOCIOS\", \"CESE\": \"2020-07-01T00:00:00\", \"cesados\": 4}, {\"Producto\": \"INDIVIDUAL\", \"CARGO\": \"EJECUTIVO NEGOCIOS\", \"CESE\": \"2020-08-01T00:00:00\", \"cesados\": 3}, {\"Producto\": \"INDIVIDUAL\", \"CARGO\": \"EJECUTIVO NEGOCIOS\", \"CESE\": \"2020-09-01T00:00:00\", \"cesados\": 6}, {\"Producto\": \"INDIVIDUAL\", \"CARGO\": \"EJECUTIVO NEGOCIOS\", \"CESE\": \"2020-10-01T00:00:00\", \"cesados\": 9}, {\"Producto\": \"INDIVIDUAL\", \"CARGO\": \"EJECUTIVO NEGOCIOS\", \"CESE\": \"2020-11-01T00:00:00\", \"cesados\": 3}, {\"Producto\": \"INDIVIDUAL\", \"CARGO\": \"EJECUTIVO NEGOCIOS\", \"CESE\": \"2020-12-01T00:00:00\", \"cesados\": 1}, {\"Producto\": \"INDIVIDUAL\", \"CARGO\": \"EJECUTIVO NEGOCIOS\", \"CESE\": \"2021-01-01T00:00:00\", \"cesados\": 5}, {\"Producto\": \"INDIVIDUAL\", \"CARGO\": \"EJECUTIVO NEGOCIOS\", \"CESE\": \"2021-02-01T00:00:00\", \"cesados\": 6}, {\"Producto\": \"INDIVIDUAL\", \"CARGO\": \"EJECUTIVO NEGOCIOS\", \"CESE\": \"2021-03-01T00:00:00\", \"cesados\": 8}, {\"Producto\": \"INDIVIDUAL\", \"CARGO\": \"EJECUTIVO NEGOCIOS\", \"CESE\": \"2021-04-01T00:00:00\", \"cesados\": 2}, {\"Producto\": \"INDIVIDUAL\", \"CARGO\": \"EJECUTIVO NEGOCIOS\", \"CESE\": \"2021-05-01T00:00:00\", \"cesados\": 3}, {\"Producto\": \"INDIVIDUAL\", \"CARGO\": \"EJECUTIVO NEGOCIOS\", \"CESE\": \"2021-06-01T00:00:00\", \"cesados\": 8}, {\"Producto\": \"INDIVIDUAL\", \"CARGO\": \"EJECUTIVO NEGOCIOS\", \"CESE\": \"2021-07-01T00:00:00\", \"cesados\": 4}, {\"Producto\": \"INDIVIDUAL\", \"CARGO\": \"EJECUTIVO NEGOCIOS\", \"CESE\": \"2021-08-01T00:00:00\", \"cesados\": 3}, {\"Producto\": \"INDIVIDUAL\", \"CARGO\": \"EJECUTIVO NEGOCIOS\", \"CESE\": \"2021-09-01T00:00:00\", \"cesados\": 3}, {\"Producto\": \"INDIVIDUAL\", \"CARGO\": \"EJECUTIVO NEGOCIOS\", \"CESE\": \"2021-10-01T00:00:00\", \"cesados\": 2}, {\"Producto\": \"INDIVIDUAL\", \"CARGO\": \"EJECUTIVO NEGOCIOS\", \"CESE\": \"2021-11-01T00:00:00\", \"cesados\": 6}, {\"Producto\": \"INDIVIDUAL\", \"CARGO\": \"EJECUTIVO NEGOCIOS\", \"CESE\": \"2021-12-01T00:00:00\", \"cesados\": 8}, {\"Producto\": \"INDIVIDUAL\", \"CARGO\": \"GERENTE AGENCIA CREDITO INDIVIDUAL\", \"CESE\": \"2018-04-01T00:00:00\", \"cesados\": 2}, {\"Producto\": \"INDIVIDUAL\", \"CARGO\": \"GERENTE AGENCIA CREDITO INDIVIDUAL\", \"CESE\": \"2018-08-01T00:00:00\", \"cesados\": 1}, {\"Producto\": \"INDIVIDUAL\", \"CARGO\": \"GERENTE AGENCIA CREDITO INDIVIDUAL\", \"CESE\": \"2018-11-01T00:00:00\", \"cesados\": 1}, {\"Producto\": \"INDIVIDUAL\", \"CARGO\": \"GERENTE AGENCIA CREDITO INDIVIDUAL\", \"CESE\": \"2019-01-01T00:00:00\", \"cesados\": 1}, {\"Producto\": \"INDIVIDUAL\", \"CARGO\": \"GERENTE AGENCIA CREDITO INDIVIDUAL\", \"CESE\": \"2019-02-01T00:00:00\", \"cesados\": 2}, {\"Producto\": \"INDIVIDUAL\", \"CARGO\": \"GERENTE AGENCIA CREDITO INDIVIDUAL\", \"CESE\": \"2019-03-01T00:00:00\", \"cesados\": 2}, {\"Producto\": \"INDIVIDUAL\", \"CARGO\": \"GERENTE AGENCIA CREDITO INDIVIDUAL\", \"CESE\": \"2019-06-01T00:00:00\", \"cesados\": 2}, {\"Producto\": \"INDIVIDUAL\", \"CARGO\": \"GERENTE AGENCIA CREDITO INDIVIDUAL\", \"CESE\": \"2019-07-01T00:00:00\", \"cesados\": 1}, {\"Producto\": \"INDIVIDUAL\", \"CARGO\": \"GERENTE AGENCIA CREDITO INDIVIDUAL\", \"CESE\": \"2019-08-01T00:00:00\", \"cesados\": 3}, {\"Producto\": \"INDIVIDUAL\", \"CARGO\": \"GERENTE AGENCIA CREDITO INDIVIDUAL\", \"CESE\": \"2019-09-01T00:00:00\", \"cesados\": 1}, {\"Producto\": \"INDIVIDUAL\", \"CARGO\": \"GERENTE AGENCIA CREDITO INDIVIDUAL\", \"CESE\": \"2019-10-01T00:00:00\", \"cesados\": 1}, {\"Producto\": \"INDIVIDUAL\", \"CARGO\": \"GERENTE AGENCIA CREDITO INDIVIDUAL\", \"CESE\": \"2019-11-01T00:00:00\", \"cesados\": 2}, {\"Producto\": \"INDIVIDUAL\", \"CARGO\": \"GERENTE AGENCIA CREDITO INDIVIDUAL\", \"CESE\": \"2019-12-01T00:00:00\", \"cesados\": 1}, {\"Producto\": \"INDIVIDUAL\", \"CARGO\": \"GERENTE AGENCIA CREDITO INDIVIDUAL\", \"CESE\": \"2020-03-01T00:00:00\", \"cesados\": 1}, {\"Producto\": \"INDIVIDUAL\", \"CARGO\": \"GERENTE AGENCIA CREDITO INDIVIDUAL\", \"CESE\": \"2020-04-01T00:00:00\", \"cesados\": 1}, {\"Producto\": \"INDIVIDUAL\", \"CARGO\": \"GERENTE AGENCIA CREDITO INDIVIDUAL\", \"CESE\": \"2020-08-01T00:00:00\", \"cesados\": 1}, {\"Producto\": \"INDIVIDUAL\", \"CARGO\": \"GERENTE AGENCIA CREDITO INDIVIDUAL\", \"CESE\": \"2021-03-01T00:00:00\", \"cesados\": 1}, {\"Producto\": \"INDIVIDUAL\", \"CARGO\": \"GERENTE AGENCIA CREDITO INDIVIDUAL\", \"CESE\": \"2021-05-01T00:00:00\", \"cesados\": 1}, {\"Producto\": \"INDIVIDUAL\", \"CARGO\": \"GERENTE AGENCIA CREDITO INDIVIDUAL\", \"CESE\": \"2021-09-01T00:00:00\", \"cesados\": 1}, {\"Producto\": \"INDIVIDUAL\", \"CARGO\": \"GERENTE AGENCIA CREDITO INDIVIDUAL\", \"CESE\": \"2021-11-01T00:00:00\", \"cesados\": 1}, {\"Producto\": \"INDIVIDUAL\", \"CARGO\": \"GERENTE DIVISIONAL CREDITO INDIVIDUAL\", \"CESE\": \"2018-02-01T00:00:00\", \"cesados\": 1}, {\"Producto\": \"INDIVIDUAL\", \"CARGO\": \"GERENTE DIVISIONAL CREDITO INDIVIDUAL\", \"CESE\": \"2021-08-01T00:00:00\", \"cesados\": 1}, {\"Producto\": \"INDIVIDUAL\", \"CARGO\": \"GERENTE REGIONAL CREDITO INDIVIDUAL\", \"CESE\": \"2018-05-01T00:00:00\", \"cesados\": 1}, {\"Producto\": \"INDIVIDUAL\", \"CARGO\": \"GERENTE REGIONAL CREDITO INDIVIDUAL\", \"CESE\": \"2019-03-01T00:00:00\", \"cesados\": 1}, {\"Producto\": \"INDIVIDUAL\", \"CARGO\": \"GERENTE REGIONAL CREDITO INDIVIDUAL\", \"CESE\": \"2021-07-01T00:00:00\", \"cesados\": 5}, {\"Producto\": \"INDIVIDUAL\", \"CARGO\": \"JEFE CREDITO INDIVIDUAL\", \"CESE\": \"2018-01-01T00:00:00\", \"cesados\": 1}, {\"Producto\": \"INDIVIDUAL\", \"CARGO\": \"JEFE CREDITO INDIVIDUAL\", \"CESE\": \"2018-03-01T00:00:00\", \"cesados\": 1}, {\"Producto\": \"INDIVIDUAL\", \"CARGO\": \"JEFE CREDITO INDIVIDUAL\", \"CESE\": \"2018-06-01T00:00:00\", \"cesados\": 2}, {\"Producto\": \"INDIVIDUAL\", \"CARGO\": \"JEFE CREDITO INDIVIDUAL\", \"CESE\": \"2018-07-01T00:00:00\", \"cesados\": 1}, {\"Producto\": \"INDIVIDUAL\", \"CARGO\": \"JEFE CREDITO INDIVIDUAL\", \"CESE\": \"2018-08-01T00:00:00\", \"cesados\": 1}, {\"Producto\": \"INDIVIDUAL\", \"CARGO\": \"JEFE CREDITO INDIVIDUAL\", \"CESE\": \"2018-09-01T00:00:00\", \"cesados\": 2}, {\"Producto\": \"INDIVIDUAL\", \"CARGO\": \"JEFE CREDITO INDIVIDUAL\", \"CESE\": \"2018-10-01T00:00:00\", \"cesados\": 3}, {\"Producto\": \"INDIVIDUAL\", \"CARGO\": \"JEFE CREDITO INDIVIDUAL\", \"CESE\": \"2018-11-01T00:00:00\", \"cesados\": 1}, {\"Producto\": \"INDIVIDUAL\", \"CARGO\": \"JEFE CREDITO INDIVIDUAL\", \"CESE\": \"2018-12-01T00:00:00\", \"cesados\": 1}, {\"Producto\": \"INDIVIDUAL\", \"CARGO\": \"JEFE CREDITO INDIVIDUAL\", \"CESE\": \"2019-02-01T00:00:00\", \"cesados\": 1}, {\"Producto\": \"INDIVIDUAL\", \"CARGO\": \"JEFE CREDITO INDIVIDUAL\", \"CESE\": \"2019-03-01T00:00:00\", \"cesados\": 3}, {\"Producto\": \"INDIVIDUAL\", \"CARGO\": \"JEFE CREDITO INDIVIDUAL\", \"CESE\": \"2019-05-01T00:00:00\", \"cesados\": 1}, {\"Producto\": \"INDIVIDUAL\", \"CARGO\": \"JEFE CREDITO INDIVIDUAL\", \"CESE\": \"2019-07-01T00:00:00\", \"cesados\": 1}, {\"Producto\": \"INDIVIDUAL\", \"CARGO\": \"JEFE CREDITO INDIVIDUAL\", \"CESE\": \"2019-12-01T00:00:00\", \"cesados\": 2}, {\"Producto\": \"INDIVIDUAL\", \"CARGO\": \"JEFE CREDITO INDIVIDUAL\", \"CESE\": \"2020-01-01T00:00:00\", \"cesados\": 1}, {\"Producto\": \"INDIVIDUAL\", \"CARGO\": \"JEFE CREDITO INDIVIDUAL\", \"CESE\": \"2020-02-01T00:00:00\", \"cesados\": 1}, {\"Producto\": \"INDIVIDUAL\", \"CARGO\": \"JEFE CREDITO INDIVIDUAL\", \"CESE\": \"2020-03-01T00:00:00\", \"cesados\": 4}, {\"Producto\": \"INDIVIDUAL\", \"CARGO\": \"JEFE CREDITO INDIVIDUAL\", \"CESE\": \"2020-04-01T00:00:00\", \"cesados\": 1}, {\"Producto\": \"INDIVIDUAL\", \"CARGO\": \"JEFE CREDITO INDIVIDUAL\", \"CESE\": \"2020-06-01T00:00:00\", \"cesados\": 1}, {\"Producto\": \"INDIVIDUAL\", \"CARGO\": \"JEFE CREDITO INDIVIDUAL\", \"CESE\": \"2020-10-01T00:00:00\", \"cesados\": 1}, {\"Producto\": \"INDIVIDUAL\", \"CARGO\": \"JEFE CREDITO INDIVIDUAL\", \"CESE\": \"2020-11-01T00:00:00\", \"cesados\": 2}, {\"Producto\": \"INDIVIDUAL\", \"CARGO\": \"JEFE CREDITO INDIVIDUAL\", \"CESE\": \"2020-12-01T00:00:00\", \"cesados\": 2}, {\"Producto\": \"INDIVIDUAL\", \"CARGO\": \"JEFE CREDITO INDIVIDUAL\", \"CESE\": \"2021-01-01T00:00:00\", \"cesados\": 1}, {\"Producto\": \"INDIVIDUAL\", \"CARGO\": \"JEFE CREDITO INDIVIDUAL\", \"CESE\": \"2021-02-01T00:00:00\", \"cesados\": 1}, {\"Producto\": \"INDIVIDUAL\", \"CARGO\": \"JEFE CREDITO INDIVIDUAL\", \"CESE\": \"2021-03-01T00:00:00\", \"cesados\": 1}, {\"Producto\": \"INDIVIDUAL\", \"CARGO\": \"JEFE CREDITO INDIVIDUAL\", \"CESE\": \"2021-04-01T00:00:00\", \"cesados\": 1}, {\"Producto\": \"INDIVIDUAL\", \"CARGO\": \"JEFE CREDITO INDIVIDUAL\", \"CESE\": \"2021-06-01T00:00:00\", \"cesados\": 1}, {\"Producto\": \"INDIVIDUAL\", \"CARGO\": \"JEFE CREDITO INDIVIDUAL\", \"CESE\": \"2021-07-01T00:00:00\", \"cesados\": 16}, {\"Producto\": \"INDIVIDUAL\", \"CARGO\": \"JEFE CREDITO INDIVIDUAL\", \"CESE\": \"2021-08-01T00:00:00\", \"cesados\": 6}, {\"Producto\": \"INDIVIDUAL\", \"CARGO\": \"JEFE CREDITO INDIVIDUAL\", \"CESE\": \"2021-10-01T00:00:00\", \"cesados\": 1}, {\"Producto\": \"INDIVIDUAL\", \"CARGO\": \"JEFE CREDITO INDIVIDUAL\", \"CESE\": \"2021-11-01T00:00:00\", \"cesados\": 3}, {\"Producto\": \"INDIVIDUAL\", \"CARGO\": \"JEFE CREDITO INDIVIDUAL\", \"CESE\": \"2021-12-01T00:00:00\", \"cesados\": 1}, {\"Producto\": \"INDIVIDUAL\", \"CARGO\": \"SUPERVISOR VENTAS\", \"CESE\": \"2018-09-01T00:00:00\", \"cesados\": 1}, {\"Producto\": \"INDIVIDUAL\", \"CARGO\": \"SUPERVISOR VENTAS\", \"CESE\": \"2018-10-01T00:00:00\", \"cesados\": 1}, {\"Producto\": \"INDIVIDUAL\", \"CARGO\": \"SUPERVISOR VENTAS\", \"CESE\": \"2021-07-01T00:00:00\", \"cesados\": 1}, {\"Producto\": \"INDIVIDUAL\", \"CARGO\": \"SUPERVISOR VENTAS\", \"CESE\": \"2021-09-01T00:00:00\", \"cesados\": 1}]}}, {\"mode\": \"vega-lite\"});\n",
       "</script>"
      ],
      "text/plain": [
       "alt.Chart(...)"
      ]
     },
     "execution_count": 11,
     "metadata": {},
     "output_type": "execute_result"
    }
   ],
   "source": [
    "alt.Chart(ceses_cargo).mark_bar().encode(\n",
    "x = 'year(CESE):N',\n",
    "y = 'sum(cesados):Q',\n",
    "color = alt.Color(\n",
    "    'CARGO:N',\n",
    "    scale= alt.Scale(scheme='category20')),\n",
    "column = 'Producto'\n",
    ")"
   ]
  },
  {
   "cell_type": "markdown",
   "metadata": {},
   "source": [
    "* Para verificar mi analisis hallo la rotacion anual acumulada por cargo - grupal\n",
    "    * Gerentes divisionales tiene mayor rotacion, pero como vimos antes tienen poca cantidad de personas\n",
    "    * Asesores de negocio son los segundos que tiene mayor rotacion y, como vimos antes, en cantidad de cesados son la mayoria de grupal"
   ]
  },
  {
   "cell_type": "code",
   "execution_count": 12,
   "metadata": {},
   "outputs": [
    {
     "data": {
      "text/html": [
       "\n",
       "<div id=\"altair-viz-7a9629ea68b246198bfff4c6da9c731f\"></div>\n",
       "<script type=\"text/javascript\">\n",
       "  (function(spec, embedOpt){\n",
       "    let outputDiv = document.currentScript.previousElementSibling;\n",
       "    if (outputDiv.id !== \"altair-viz-7a9629ea68b246198bfff4c6da9c731f\") {\n",
       "      outputDiv = document.getElementById(\"altair-viz-7a9629ea68b246198bfff4c6da9c731f\");\n",
       "    }\n",
       "    const paths = {\n",
       "      \"vega\": \"https://cdn.jsdelivr.net/npm//vega@5?noext\",\n",
       "      \"vega-lib\": \"https://cdn.jsdelivr.net/npm//vega-lib?noext\",\n",
       "      \"vega-lite\": \"https://cdn.jsdelivr.net/npm//vega-lite@4.8.1?noext\",\n",
       "      \"vega-embed\": \"https://cdn.jsdelivr.net/npm//vega-embed@6?noext\",\n",
       "    };\n",
       "\n",
       "    function loadScript(lib) {\n",
       "      return new Promise(function(resolve, reject) {\n",
       "        var s = document.createElement('script');\n",
       "        s.src = paths[lib];\n",
       "        s.async = true;\n",
       "        s.onload = () => resolve(paths[lib]);\n",
       "        s.onerror = () => reject(`Error loading script: ${paths[lib]}`);\n",
       "        document.getElementsByTagName(\"head\")[0].appendChild(s);\n",
       "      });\n",
       "    }\n",
       "\n",
       "    function showError(err) {\n",
       "      outputDiv.innerHTML = `<div class=\"error\" style=\"color:red;\">${err}</div>`;\n",
       "      throw err;\n",
       "    }\n",
       "\n",
       "    function displayChart(vegaEmbed) {\n",
       "      vegaEmbed(outputDiv, spec, embedOpt)\n",
       "        .catch(err => showError(`Javascript Error: ${err.message}<br>This usually means there's a typo in your chart specification. See the javascript console for the full traceback.`));\n",
       "    }\n",
       "\n",
       "    if(typeof define === \"function\" && define.amd) {\n",
       "      requirejs.config({paths});\n",
       "      require([\"vega-embed\"], displayChart, err => showError(`Error loading script: ${err.message}`));\n",
       "    } else if (typeof vegaEmbed === \"function\") {\n",
       "      displayChart(vegaEmbed);\n",
       "    } else {\n",
       "      loadScript(\"vega\")\n",
       "        .then(() => loadScript(\"vega-lite\"))\n",
       "        .then(() => loadScript(\"vega-embed\"))\n",
       "        .catch(showError)\n",
       "        .then(() => displayChart(vegaEmbed));\n",
       "    }\n",
       "  })({\"config\": {\"view\": {\"continuousWidth\": 400, \"continuousHeight\": 300}}, \"data\": {\"name\": \"data-e713b4581b8a410981e808dc05fccccb\"}, \"facet\": {\"type\": \"nominal\", \"field\": \"CARGO\"}, \"spec\": {\"layer\": [{\"mark\": \"bar\", \"encoding\": {\"x\": {\"type\": \"quantitative\", \"field\": \"rotacion\"}, \"y\": {\"type\": \"nominal\", \"field\": \"year\", \"timeUnit\": \"year\"}}}, {\"mark\": {\"type\": \"text\", \"align\": \"right\", \"color\": \"white\"}, \"encoding\": {\"text\": {\"type\": \"quantitative\", \"field\": \"rotacion\"}, \"x\": {\"type\": \"quantitative\", \"field\": \"rotacion\"}, \"y\": {\"type\": \"nominal\", \"field\": \"year\", \"timeUnit\": \"year\"}}}]}, \"columns\": 2, \"$schema\": \"https://vega.github.io/schema/vega-lite/v4.8.1.json\", \"datasets\": {\"data-e713b4581b8a410981e808dc05fccccb\": [{\"year\": \"2018-01-01T00:00:00\", \"PRODUCTO\": \"GRUPAL\", \"CARGO\": \"ASESOR NEGOCIOS CREDITO GRUPAL\", \"rotacion\": 27.4}, {\"year\": \"2018-01-01T00:00:00\", \"PRODUCTO\": \"GRUPAL\", \"CARGO\": \"GERENTE AGENCIA CREDITO GRUPAL\", \"rotacion\": 9.3}, {\"year\": \"2018-01-01T00:00:00\", \"PRODUCTO\": \"GRUPAL\", \"CARGO\": \"GERENTE DIVISIONAL CREDITO GRUPAL\", \"rotacion\": 50.0}, {\"year\": \"2018-01-01T00:00:00\", \"PRODUCTO\": \"GRUPAL\", \"CARGO\": \"GERENTE REGIONAL CREDITO GRUPAL\", \"rotacion\": 17.4}, {\"year\": \"2018-01-01T00:00:00\", \"PRODUCTO\": \"GRUPAL\", \"CARGO\": \"JEFE CREDITO GRUPAL\", \"rotacion\": 17.8}, {\"year\": \"2019-01-01T00:00:00\", \"PRODUCTO\": \"GRUPAL\", \"CARGO\": \"ASESOR NEGOCIOS CREDITO GRUPAL\", \"rotacion\": 38.800000000000004}, {\"year\": \"2019-01-01T00:00:00\", \"PRODUCTO\": \"GRUPAL\", \"CARGO\": \"GERENTE AGENCIA CREDITO GRUPAL\", \"rotacion\": 18.900000000000002}, {\"year\": \"2019-01-01T00:00:00\", \"PRODUCTO\": \"GRUPAL\", \"CARGO\": \"GERENTE DIVISIONAL CREDITO GRUPAL\", \"rotacion\": 83.3}, {\"year\": \"2019-01-01T00:00:00\", \"PRODUCTO\": \"GRUPAL\", \"CARGO\": \"GERENTE REGIONAL CREDITO GRUPAL\", \"rotacion\": 20.0}, {\"year\": \"2019-01-01T00:00:00\", \"PRODUCTO\": \"GRUPAL\", \"CARGO\": \"JEFE CREDITO GRUPAL\", \"rotacion\": 17.9}, {\"year\": \"2020-01-01T00:00:00\", \"PRODUCTO\": \"GRUPAL\", \"CARGO\": \"ASESOR NEGOCIOS CREDITO GRUPAL\", \"rotacion\": 23.8}, {\"year\": \"2020-01-01T00:00:00\", \"PRODUCTO\": \"GRUPAL\", \"CARGO\": \"GERENTE AGENCIA CREDITO GRUPAL\", \"rotacion\": 15.700000000000001}, {\"year\": \"2020-01-01T00:00:00\", \"PRODUCTO\": \"GRUPAL\", \"CARGO\": \"GERENTE REGIONAL CREDITO GRUPAL\", \"rotacion\": 5.9}, {\"year\": \"2020-01-01T00:00:00\", \"PRODUCTO\": \"GRUPAL\", \"CARGO\": \"JEFE CREDITO GRUPAL\", \"rotacion\": 10.1}, {\"year\": \"2021-01-01T00:00:00\", \"PRODUCTO\": \"GRUPAL\", \"CARGO\": \"ASESOR NEGOCIOS CREDITO GRUPAL\", \"rotacion\": 26.900000000000002}, {\"year\": \"2021-01-01T00:00:00\", \"PRODUCTO\": \"GRUPAL\", \"CARGO\": \"GERENTE AGENCIA CREDITO GRUPAL\", \"rotacion\": 15.7}, {\"year\": \"2021-01-01T00:00:00\", \"PRODUCTO\": \"GRUPAL\", \"CARGO\": \"GERENTE DIVISIONAL CREDITO GRUPAL\", \"rotacion\": 33.3}, {\"year\": \"2021-01-01T00:00:00\", \"PRODUCTO\": \"GRUPAL\", \"CARGO\": \"GERENTE REGIONAL CREDITO GRUPAL\", \"rotacion\": 18.6}, {\"year\": \"2021-01-01T00:00:00\", \"PRODUCTO\": \"GRUPAL\", \"CARGO\": \"JEFE CREDITO GRUPAL\", \"rotacion\": 18.1}, {\"year\": \"2021-01-01T00:00:00\", \"PRODUCTO\": \"GRUPAL\", \"CARGO\": \"SUBGERENTE AGENCIA CREDITO GRUPAL\", \"rotacion\": 16.7}]}}, {\"mode\": \"vega-lite\"});\n",
       "</script>"
      ],
      "text/plain": [
       "alt.FacetChart(...)"
      ]
     },
     "execution_count": 12,
     "metadata": {},
     "output_type": "execute_result"
    }
   ],
   "source": [
    "## group by anual GRUPAL\n",
    "rot_cargo_g = rot_cargo[\n",
    "    rot_cargo['PRODUCTO']=='GRUPAL'].groupby(\n",
    "        by = ['year', 'PRODUCTO', 'CARGO'],\n",
    "        as_index=False\n",
    "        ).agg(\n",
    "            rotacion = ('rotacion','sum')\n",
    "        )\n",
    "## Grafico\n",
    "barras = alt.Chart(rot_cargo_g).mark_bar().encode(\n",
    "    y = 'year(year):N',\n",
    "    x = 'rotacion:Q'\n",
    ")\n",
    "texto = barras.mark_text(\n",
    "    color = 'white',\n",
    "    align = 'right'\n",
    ").encode(\n",
    "    text = alt.Text(\n",
    "        'rotacion')\n",
    ")\n",
    "\n",
    "(barras+texto).facet(\n",
    "    'CARGO',\n",
    "    columns = 2\n",
    ")"
   ]
  },
  {
   "cell_type": "markdown",
   "metadata": {},
   "source": [
    "* Hallo la rotacion de cada cargo en el caso de INDIVIDUAL\n",
    "    * Se ve ue Gerentes Divisionales y Gerentes Regionales son los que tienen mas rotacion en algunos anos; sin embargo, estos cargos no representan mucho cese en cantidad\n",
    "    * Tambien esta el cargo de Asesor Negocios, este tiene una alta rotacion y en cantidad de colabores cesados es el que resalta mas"
   ]
  },
  {
   "cell_type": "code",
   "execution_count": 13,
   "metadata": {},
   "outputs": [
    {
     "data": {
      "text/html": [
       "\n",
       "<div id=\"altair-viz-ab59f8a7aed341e68cf030aaf9b76591\"></div>\n",
       "<script type=\"text/javascript\">\n",
       "  (function(spec, embedOpt){\n",
       "    let outputDiv = document.currentScript.previousElementSibling;\n",
       "    if (outputDiv.id !== \"altair-viz-ab59f8a7aed341e68cf030aaf9b76591\") {\n",
       "      outputDiv = document.getElementById(\"altair-viz-ab59f8a7aed341e68cf030aaf9b76591\");\n",
       "    }\n",
       "    const paths = {\n",
       "      \"vega\": \"https://cdn.jsdelivr.net/npm//vega@5?noext\",\n",
       "      \"vega-lib\": \"https://cdn.jsdelivr.net/npm//vega-lib?noext\",\n",
       "      \"vega-lite\": \"https://cdn.jsdelivr.net/npm//vega-lite@4.8.1?noext\",\n",
       "      \"vega-embed\": \"https://cdn.jsdelivr.net/npm//vega-embed@6?noext\",\n",
       "    };\n",
       "\n",
       "    function loadScript(lib) {\n",
       "      return new Promise(function(resolve, reject) {\n",
       "        var s = document.createElement('script');\n",
       "        s.src = paths[lib];\n",
       "        s.async = true;\n",
       "        s.onload = () => resolve(paths[lib]);\n",
       "        s.onerror = () => reject(`Error loading script: ${paths[lib]}`);\n",
       "        document.getElementsByTagName(\"head\")[0].appendChild(s);\n",
       "      });\n",
       "    }\n",
       "\n",
       "    function showError(err) {\n",
       "      outputDiv.innerHTML = `<div class=\"error\" style=\"color:red;\">${err}</div>`;\n",
       "      throw err;\n",
       "    }\n",
       "\n",
       "    function displayChart(vegaEmbed) {\n",
       "      vegaEmbed(outputDiv, spec, embedOpt)\n",
       "        .catch(err => showError(`Javascript Error: ${err.message}<br>This usually means there's a typo in your chart specification. See the javascript console for the full traceback.`));\n",
       "    }\n",
       "\n",
       "    if(typeof define === \"function\" && define.amd) {\n",
       "      requirejs.config({paths});\n",
       "      require([\"vega-embed\"], displayChart, err => showError(`Error loading script: ${err.message}`));\n",
       "    } else if (typeof vegaEmbed === \"function\") {\n",
       "      displayChart(vegaEmbed);\n",
       "    } else {\n",
       "      loadScript(\"vega\")\n",
       "        .then(() => loadScript(\"vega-lite\"))\n",
       "        .then(() => loadScript(\"vega-embed\"))\n",
       "        .catch(showError)\n",
       "        .then(() => displayChart(vegaEmbed));\n",
       "    }\n",
       "  })({\"config\": {\"view\": {\"continuousWidth\": 400, \"continuousHeight\": 300}}, \"data\": {\"name\": \"data-dcba8a4b2f67627cb2013ff6084d7e52\"}, \"facet\": {\"type\": \"nominal\", \"field\": \"CARGO\"}, \"spec\": {\"layer\": [{\"mark\": \"bar\", \"encoding\": {\"x\": {\"type\": \"quantitative\", \"field\": \"rotacion\"}, \"y\": {\"type\": \"nominal\", \"field\": \"year\", \"timeUnit\": \"year\"}}}, {\"mark\": {\"type\": \"text\", \"align\": \"right\", \"color\": \"white\"}, \"encoding\": {\"text\": {\"type\": \"quantitative\", \"field\": \"rotacion\"}, \"x\": {\"type\": \"quantitative\", \"field\": \"rotacion\"}, \"y\": {\"type\": \"nominal\", \"field\": \"year\", \"timeUnit\": \"year\"}}}]}, \"columns\": 2, \"$schema\": \"https://vega.github.io/schema/vega-lite/v4.8.1.json\", \"datasets\": {\"data-dcba8a4b2f67627cb2013ff6084d7e52\": [{\"year\": \"2018-01-01T00:00:00\", \"PRODUCTO\": \"INDIVIDUAL\", \"CARGO\": \"ASESOR NEGOCIOS CREDITO INDIVIDUAL\", \"rotacion\": 18.4}, {\"year\": \"2018-01-01T00:00:00\", \"PRODUCTO\": \"INDIVIDUAL\", \"CARGO\": \"GERENTE AGENCIA CREDITO INDIVIDUAL\", \"rotacion\": 8.0}, {\"year\": \"2018-01-01T00:00:00\", \"PRODUCTO\": \"INDIVIDUAL\", \"CARGO\": \"GERENTE DIVISIONAL CREDITO INDIVIDUAL\", \"rotacion\": 50.0}, {\"year\": \"2018-01-01T00:00:00\", \"PRODUCTO\": \"INDIVIDUAL\", \"CARGO\": \"GERENTE REGIONAL CREDITO INDIVIDUAL\", \"rotacion\": 9.1}, {\"year\": \"2018-01-01T00:00:00\", \"PRODUCTO\": \"INDIVIDUAL\", \"CARGO\": \"JEFE CREDITO INDIVIDUAL\", \"rotacion\": 8.6}, {\"year\": \"2019-01-01T00:00:00\", \"PRODUCTO\": \"INDIVIDUAL\", \"CARGO\": \"ASESOR NEGOCIOS CREDITO INDIVIDUAL\", \"rotacion\": 26.599999999999998}, {\"year\": \"2019-01-01T00:00:00\", \"PRODUCTO\": \"INDIVIDUAL\", \"CARGO\": \"GERENTE AGENCIA CREDITO INDIVIDUAL\", \"rotacion\": 26.099999999999998}, {\"year\": \"2019-01-01T00:00:00\", \"PRODUCTO\": \"INDIVIDUAL\", \"CARGO\": \"GERENTE REGIONAL CREDITO INDIVIDUAL\", \"rotacion\": 7.7}, {\"year\": \"2019-01-01T00:00:00\", \"PRODUCTO\": \"INDIVIDUAL\", \"CARGO\": \"JEFE CREDITO INDIVIDUAL\", \"rotacion\": 4.7}, {\"year\": \"2020-01-01T00:00:00\", \"PRODUCTO\": \"INDIVIDUAL\", \"CARGO\": \"ASESOR NEGOCIOS CREDITO INDIVIDUAL\", \"rotacion\": 12.0}, {\"year\": \"2020-01-01T00:00:00\", \"PRODUCTO\": \"INDIVIDUAL\", \"CARGO\": \"GERENTE AGENCIA CREDITO INDIVIDUAL\", \"rotacion\": 3.9000000000000004}, {\"year\": \"2020-01-01T00:00:00\", \"PRODUCTO\": \"INDIVIDUAL\", \"CARGO\": \"JEFE CREDITO INDIVIDUAL\", \"rotacion\": 6.5}, {\"year\": \"2021-01-01T00:00:00\", \"PRODUCTO\": \"INDIVIDUAL\", \"CARGO\": \"ASESOR NEGOCIOS CREDITO INDIVIDUAL\", \"rotacion\": 14.3}, {\"year\": \"2021-01-01T00:00:00\", \"PRODUCTO\": \"INDIVIDUAL\", \"CARGO\": \"GERENTE AGENCIA CREDITO INDIVIDUAL\", \"rotacion\": 5.5}, {\"year\": \"2021-01-01T00:00:00\", \"PRODUCTO\": \"INDIVIDUAL\", \"CARGO\": \"GERENTE DIVISIONAL CREDITO INDIVIDUAL\", \"rotacion\": 33.3}, {\"year\": \"2021-01-01T00:00:00\", \"PRODUCTO\": \"INDIVIDUAL\", \"CARGO\": \"GERENTE REGIONAL CREDITO INDIVIDUAL\", \"rotacion\": 38.5}, {\"year\": \"2021-01-01T00:00:00\", \"PRODUCTO\": \"INDIVIDUAL\", \"CARGO\": \"JEFE CREDITO INDIVIDUAL\", \"rotacion\": 17.5}]}}, {\"mode\": \"vega-lite\"});\n",
       "</script>"
      ],
      "text/plain": [
       "alt.FacetChart(...)"
      ]
     },
     "execution_count": 13,
     "metadata": {},
     "output_type": "execute_result"
    }
   ],
   "source": [
    "## group by anual INDIVIDUAL   \n",
    "rot_cargo_i = rot_cargo[\n",
    "    rot_cargo['PRODUCTO']=='INDIVIDUAL'].groupby(\n",
    "        by = ['year', 'PRODUCTO', 'CARGO'],\n",
    "        as_index=False\n",
    "        ).agg(\n",
    "            rotacion = ('rotacion','sum')\n",
    "        )\n",
    "## Grafico\n",
    "barras = alt.Chart(rot_cargo_i).mark_bar().encode(\n",
    "    y = 'year(year):N',\n",
    "    x = 'rotacion:Q'\n",
    ")\n",
    "texto = barras.mark_text(\n",
    "    color = 'white',\n",
    "    align = 'right'\n",
    ").encode(\n",
    "    text = alt.Text(\n",
    "        'rotacion')\n",
    ")\n",
    "\n",
    "(barras+texto).facet(\n",
    "    'CARGO',\n",
    "    columns = 2\n",
    ")"
   ]
  },
  {
   "cell_type": "markdown",
   "metadata": {},
   "source": [
    "* Analizando solo Asesor Negocios de Individual y Grupal\n",
    "* Empiezo analizar los tipos de Cese VOLUNTARIOS O INVOLUNTARIOS en general de todos los ano\n",
    "    * Siempre hay mas ceses voluntarios en ambos productos\n",
    "    * Los ceses involuntarios pueden deberse a un mal reclutamiento o definicion del perfil, mala capacitacion por mal desempeno o faltas cometidas (seria otro proyecto a parte)\n",
    "    * Los ceses voluntarios pueden ser por mejor oferta u otro tipo que no tenga que ver con su desempeno necesariamente (es el proyecto en el que nos vamos a enfocar)"
   ]
  },
  {
   "cell_type": "code",
   "execution_count": 14,
   "metadata": {},
   "outputs": [
    {
     "data": {
      "text/html": [
       "\n",
       "<div id=\"altair-viz-a087109659d347248fe6a210e4742454\"></div>\n",
       "<script type=\"text/javascript\">\n",
       "  (function(spec, embedOpt){\n",
       "    let outputDiv = document.currentScript.previousElementSibling;\n",
       "    if (outputDiv.id !== \"altair-viz-a087109659d347248fe6a210e4742454\") {\n",
       "      outputDiv = document.getElementById(\"altair-viz-a087109659d347248fe6a210e4742454\");\n",
       "    }\n",
       "    const paths = {\n",
       "      \"vega\": \"https://cdn.jsdelivr.net/npm//vega@5?noext\",\n",
       "      \"vega-lib\": \"https://cdn.jsdelivr.net/npm//vega-lib?noext\",\n",
       "      \"vega-lite\": \"https://cdn.jsdelivr.net/npm//vega-lite@4.8.1?noext\",\n",
       "      \"vega-embed\": \"https://cdn.jsdelivr.net/npm//vega-embed@6?noext\",\n",
       "    };\n",
       "\n",
       "    function loadScript(lib) {\n",
       "      return new Promise(function(resolve, reject) {\n",
       "        var s = document.createElement('script');\n",
       "        s.src = paths[lib];\n",
       "        s.async = true;\n",
       "        s.onload = () => resolve(paths[lib]);\n",
       "        s.onerror = () => reject(`Error loading script: ${paths[lib]}`);\n",
       "        document.getElementsByTagName(\"head\")[0].appendChild(s);\n",
       "      });\n",
       "    }\n",
       "\n",
       "    function showError(err) {\n",
       "      outputDiv.innerHTML = `<div class=\"error\" style=\"color:red;\">${err}</div>`;\n",
       "      throw err;\n",
       "    }\n",
       "\n",
       "    function displayChart(vegaEmbed) {\n",
       "      vegaEmbed(outputDiv, spec, embedOpt)\n",
       "        .catch(err => showError(`Javascript Error: ${err.message}<br>This usually means there's a typo in your chart specification. See the javascript console for the full traceback.`));\n",
       "    }\n",
       "\n",
       "    if(typeof define === \"function\" && define.amd) {\n",
       "      requirejs.config({paths});\n",
       "      require([\"vega-embed\"], displayChart, err => showError(`Error loading script: ${err.message}`));\n",
       "    } else if (typeof vegaEmbed === \"function\") {\n",
       "      displayChart(vegaEmbed);\n",
       "    } else {\n",
       "      loadScript(\"vega\")\n",
       "        .then(() => loadScript(\"vega-lite\"))\n",
       "        .then(() => loadScript(\"vega-embed\"))\n",
       "        .catch(showError)\n",
       "        .then(() => displayChart(vegaEmbed));\n",
       "    }\n",
       "  })({\"config\": {\"view\": {\"continuousWidth\": 400, \"continuousHeight\": 300}}, \"data\": {\"name\": \"data-fec536d097f1e90e521b7ff056f946ea\"}, \"mark\": \"bar\", \"encoding\": {\"color\": {\"type\": \"nominal\", \"field\": \"TIPO\"}, \"column\": {\"type\": \"nominal\", \"field\": \"Producto\"}, \"x\": {\"type\": \"nominal\", \"field\": \"CESE\", \"timeUnit\": \"year\"}, \"y\": {\"type\": \"quantitative\", \"aggregate\": \"sum\", \"field\": \"cesados\"}}, \"$schema\": \"https://vega.github.io/schema/vega-lite/v4.8.1.json\", \"datasets\": {\"data-fec536d097f1e90e521b7ff056f946ea\": [{\"CESE\": \"2018-01-01T00:00:00\", \"TIPO\": \"INVOLUNTARIA\", \"Producto\": \"GRUPAL\", \"cesados\": 5}, {\"CESE\": \"2018-01-01T00:00:00\", \"TIPO\": \"INVOLUNTARIA\", \"Producto\": \"INDIVIDUAL\", \"cesados\": 1}, {\"CESE\": \"2018-01-01T00:00:00\", \"TIPO\": \"VOLUNTARIA\", \"Producto\": \"GRUPAL\", \"cesados\": 19}, {\"CESE\": \"2018-01-01T00:00:00\", \"TIPO\": \"VOLUNTARIA\", \"Producto\": \"INDIVIDUAL\", \"cesados\": 14}, {\"CESE\": \"2018-02-01T00:00:00\", \"TIPO\": \"INVOLUNTARIA\", \"Producto\": \"GRUPAL\", \"cesados\": 5}, {\"CESE\": \"2018-02-01T00:00:00\", \"TIPO\": \"INVOLUNTARIA\", \"Producto\": \"INDIVIDUAL\", \"cesados\": 2}, {\"CESE\": \"2018-02-01T00:00:00\", \"TIPO\": \"VOLUNTARIA\", \"Producto\": \"GRUPAL\", \"cesados\": 23}, {\"CESE\": \"2018-02-01T00:00:00\", \"TIPO\": \"VOLUNTARIA\", \"Producto\": \"INDIVIDUAL\", \"cesados\": 4}, {\"CESE\": \"2018-03-01T00:00:00\", \"TIPO\": \"INVOLUNTARIA\", \"Producto\": \"GRUPAL\", \"cesados\": 6}, {\"CESE\": \"2018-03-01T00:00:00\", \"TIPO\": \"INVOLUNTARIA\", \"Producto\": \"INDIVIDUAL\", \"cesados\": 7}, {\"CESE\": \"2018-03-01T00:00:00\", \"TIPO\": \"VOLUNTARIA\", \"Producto\": \"GRUPAL\", \"cesados\": 18}, {\"CESE\": \"2018-03-01T00:00:00\", \"TIPO\": \"VOLUNTARIA\", \"Producto\": \"INDIVIDUAL\", \"cesados\": 11}, {\"CESE\": \"2018-04-01T00:00:00\", \"TIPO\": \"INVOLUNTARIA\", \"Producto\": \"GRUPAL\", \"cesados\": 17}, {\"CESE\": \"2018-04-01T00:00:00\", \"TIPO\": \"INVOLUNTARIA\", \"Producto\": \"INDIVIDUAL\", \"cesados\": 11}, {\"CESE\": \"2018-04-01T00:00:00\", \"TIPO\": \"VOLUNTARIA\", \"Producto\": \"GRUPAL\", \"cesados\": 23}, {\"CESE\": \"2018-04-01T00:00:00\", \"TIPO\": \"VOLUNTARIA\", \"Producto\": \"INDIVIDUAL\", \"cesados\": 17}, {\"CESE\": \"2018-05-01T00:00:00\", \"TIPO\": \"INVOLUNTARIA\", \"Producto\": \"GRUPAL\", \"cesados\": 7}, {\"CESE\": \"2018-05-01T00:00:00\", \"TIPO\": \"INVOLUNTARIA\", \"Producto\": \"INDIVIDUAL\", \"cesados\": 8}, {\"CESE\": \"2018-05-01T00:00:00\", \"TIPO\": \"VOLUNTARIA\", \"Producto\": \"GRUPAL\", \"cesados\": 19}, {\"CESE\": \"2018-05-01T00:00:00\", \"TIPO\": \"VOLUNTARIA\", \"Producto\": \"INDIVIDUAL\", \"cesados\": 8}, {\"CESE\": \"2018-06-01T00:00:00\", \"TIPO\": \"INVOLUNTARIA\", \"Producto\": \"GRUPAL\", \"cesados\": 12}, {\"CESE\": \"2018-06-01T00:00:00\", \"TIPO\": \"INVOLUNTARIA\", \"Producto\": \"INDIVIDUAL\", \"cesados\": 8}, {\"CESE\": \"2018-06-01T00:00:00\", \"TIPO\": \"VOLUNTARIA\", \"Producto\": \"GRUPAL\", \"cesados\": 13}, {\"CESE\": \"2018-06-01T00:00:00\", \"TIPO\": \"VOLUNTARIA\", \"Producto\": \"INDIVIDUAL\", \"cesados\": 6}, {\"CESE\": \"2018-07-01T00:00:00\", \"TIPO\": \"INVOLUNTARIA\", \"Producto\": \"GRUPAL\", \"cesados\": 3}, {\"CESE\": \"2018-07-01T00:00:00\", \"TIPO\": \"INVOLUNTARIA\", \"Producto\": \"INDIVIDUAL\", \"cesados\": 3}, {\"CESE\": \"2018-07-01T00:00:00\", \"TIPO\": \"VOLUNTARIA\", \"Producto\": \"GRUPAL\", \"cesados\": 12}, {\"CESE\": \"2018-07-01T00:00:00\", \"TIPO\": \"VOLUNTARIA\", \"Producto\": \"INDIVIDUAL\", \"cesados\": 11}, {\"CESE\": \"2018-08-01T00:00:00\", \"TIPO\": \"INVOLUNTARIA\", \"Producto\": \"GRUPAL\", \"cesados\": 6}, {\"CESE\": \"2018-08-01T00:00:00\", \"TIPO\": \"VOLUNTARIA\", \"Producto\": \"GRUPAL\", \"cesados\": 21}, {\"CESE\": \"2018-08-01T00:00:00\", \"TIPO\": \"VOLUNTARIA\", \"Producto\": \"INDIVIDUAL\", \"cesados\": 14}, {\"CESE\": \"2018-09-01T00:00:00\", \"TIPO\": \"INVOLUNTARIA\", \"Producto\": \"GRUPAL\", \"cesados\": 10}, {\"CESE\": \"2018-09-01T00:00:00\", \"TIPO\": \"INVOLUNTARIA\", \"Producto\": \"INDIVIDUAL\", \"cesados\": 6}, {\"CESE\": \"2018-09-01T00:00:00\", \"TIPO\": \"VOLUNTARIA\", \"Producto\": \"GRUPAL\", \"cesados\": 19}, {\"CESE\": \"2018-09-01T00:00:00\", \"TIPO\": \"VOLUNTARIA\", \"Producto\": \"INDIVIDUAL\", \"cesados\": 9}, {\"CESE\": \"2018-10-01T00:00:00\", \"TIPO\": \"INVOLUNTARIA\", \"Producto\": \"GRUPAL\", \"cesados\": 5}, {\"CESE\": \"2018-10-01T00:00:00\", \"TIPO\": \"INVOLUNTARIA\", \"Producto\": \"INDIVIDUAL\", \"cesados\": 5}, {\"CESE\": \"2018-10-01T00:00:00\", \"TIPO\": \"VOLUNTARIA\", \"Producto\": \"GRUPAL\", \"cesados\": 19}, {\"CESE\": \"2018-10-01T00:00:00\", \"TIPO\": \"VOLUNTARIA\", \"Producto\": \"INDIVIDUAL\", \"cesados\": 13}, {\"CESE\": \"2018-11-01T00:00:00\", \"TIPO\": \"INVOLUNTARIA\", \"Producto\": \"GRUPAL\", \"cesados\": 6}, {\"CESE\": \"2018-11-01T00:00:00\", \"TIPO\": \"INVOLUNTARIA\", \"Producto\": \"INDIVIDUAL\", \"cesados\": 5}, {\"CESE\": \"2018-11-01T00:00:00\", \"TIPO\": \"VOLUNTARIA\", \"Producto\": \"GRUPAL\", \"cesados\": 14}, {\"CESE\": \"2018-11-01T00:00:00\", \"TIPO\": \"VOLUNTARIA\", \"Producto\": \"INDIVIDUAL\", \"cesados\": 10}, {\"CESE\": \"2018-12-01T00:00:00\", \"TIPO\": \"INVOLUNTARIA\", \"Producto\": \"GRUPAL\", \"cesados\": 8}, {\"CESE\": \"2018-12-01T00:00:00\", \"TIPO\": \"INVOLUNTARIA\", \"Producto\": \"INDIVIDUAL\", \"cesados\": 13}, {\"CESE\": \"2018-12-01T00:00:00\", \"TIPO\": \"VOLUNTARIA\", \"Producto\": \"GRUPAL\", \"cesados\": 20}, {\"CESE\": \"2018-12-01T00:00:00\", \"TIPO\": \"VOLUNTARIA\", \"Producto\": \"INDIVIDUAL\", \"cesados\": 8}, {\"CESE\": \"2019-01-01T00:00:00\", \"TIPO\": \"INVOLUNTARIA\", \"Producto\": \"GRUPAL\", \"cesados\": 14}, {\"CESE\": \"2019-01-01T00:00:00\", \"TIPO\": \"INVOLUNTARIA\", \"Producto\": \"INDIVIDUAL\", \"cesados\": 9}, {\"CESE\": \"2019-01-01T00:00:00\", \"TIPO\": \"VOLUNTARIA\", \"Producto\": \"GRUPAL\", \"cesados\": 38}, {\"CESE\": \"2019-01-01T00:00:00\", \"TIPO\": \"VOLUNTARIA\", \"Producto\": \"INDIVIDUAL\", \"cesados\": 22}, {\"CESE\": \"2019-02-01T00:00:00\", \"TIPO\": \"INVOLUNTARIA\", \"Producto\": \"GRUPAL\", \"cesados\": 8}, {\"CESE\": \"2019-02-01T00:00:00\", \"TIPO\": \"INVOLUNTARIA\", \"Producto\": \"INDIVIDUAL\", \"cesados\": 7}, {\"CESE\": \"2019-02-01T00:00:00\", \"TIPO\": \"VOLUNTARIA\", \"Producto\": \"GRUPAL\", \"cesados\": 40}, {\"CESE\": \"2019-02-01T00:00:00\", \"TIPO\": \"VOLUNTARIA\", \"Producto\": \"INDIVIDUAL\", \"cesados\": 17}, {\"CESE\": \"2019-03-01T00:00:00\", \"TIPO\": \"INVOLUNTARIA\", \"Producto\": \"GRUPAL\", \"cesados\": 12}, {\"CESE\": \"2019-03-01T00:00:00\", \"TIPO\": \"INVOLUNTARIA\", \"Producto\": \"INDIVIDUAL\", \"cesados\": 10}, {\"CESE\": \"2019-03-01T00:00:00\", \"TIPO\": \"VOLUNTARIA\", \"Producto\": \"GRUPAL\", \"cesados\": 43}, {\"CESE\": \"2019-03-01T00:00:00\", \"TIPO\": \"VOLUNTARIA\", \"Producto\": \"INDIVIDUAL\", \"cesados\": 17}, {\"CESE\": \"2019-04-01T00:00:00\", \"TIPO\": \"INVOLUNTARIA\", \"Producto\": \"GRUPAL\", \"cesados\": 13}, {\"CESE\": \"2019-04-01T00:00:00\", \"TIPO\": \"INVOLUNTARIA\", \"Producto\": \"INDIVIDUAL\", \"cesados\": 9}, {\"CESE\": \"2019-04-01T00:00:00\", \"TIPO\": \"VOLUNTARIA\", \"Producto\": \"GRUPAL\", \"cesados\": 27}, {\"CESE\": \"2019-04-01T00:00:00\", \"TIPO\": \"VOLUNTARIA\", \"Producto\": \"INDIVIDUAL\", \"cesados\": 18}, {\"CESE\": \"2019-05-01T00:00:00\", \"TIPO\": \"INVOLUNTARIA\", \"Producto\": \"GRUPAL\", \"cesados\": 18}, {\"CESE\": \"2019-05-01T00:00:00\", \"TIPO\": \"INVOLUNTARIA\", \"Producto\": \"INDIVIDUAL\", \"cesados\": 7}, {\"CESE\": \"2019-05-01T00:00:00\", \"TIPO\": \"VOLUNTARIA\", \"Producto\": \"GRUPAL\", \"cesados\": 34}, {\"CESE\": \"2019-05-01T00:00:00\", \"TIPO\": \"VOLUNTARIA\", \"Producto\": \"INDIVIDUAL\", \"cesados\": 27}, {\"CESE\": \"2019-06-01T00:00:00\", \"TIPO\": \"INVOLUNTARIA\", \"Producto\": \"GRUPAL\", \"cesados\": 8}, {\"CESE\": \"2019-06-01T00:00:00\", \"TIPO\": \"INVOLUNTARIA\", \"Producto\": \"INDIVIDUAL\", \"cesados\": 8}, {\"CESE\": \"2019-06-01T00:00:00\", \"TIPO\": \"VOLUNTARIA\", \"Producto\": \"GRUPAL\", \"cesados\": 34}, {\"CESE\": \"2019-06-01T00:00:00\", \"TIPO\": \"VOLUNTARIA\", \"Producto\": \"INDIVIDUAL\", \"cesados\": 16}, {\"CESE\": \"2019-07-01T00:00:00\", \"TIPO\": \"INVOLUNTARIA\", \"Producto\": \"GRUPAL\", \"cesados\": 15}, {\"CESE\": \"2019-07-01T00:00:00\", \"TIPO\": \"INVOLUNTARIA\", \"Producto\": \"INDIVIDUAL\", \"cesados\": 12}, {\"CESE\": \"2019-07-01T00:00:00\", \"TIPO\": \"VOLUNTARIA\", \"Producto\": \"GRUPAL\", \"cesados\": 44}, {\"CESE\": \"2019-07-01T00:00:00\", \"TIPO\": \"VOLUNTARIA\", \"Producto\": \"INDIVIDUAL\", \"cesados\": 25}, {\"CESE\": \"2019-08-01T00:00:00\", \"TIPO\": \"INVOLUNTARIA\", \"Producto\": \"GRUPAL\", \"cesados\": 11}, {\"CESE\": \"2019-08-01T00:00:00\", \"TIPO\": \"INVOLUNTARIA\", \"Producto\": \"INDIVIDUAL\", \"cesados\": 11}, {\"CESE\": \"2019-08-01T00:00:00\", \"TIPO\": \"VOLUNTARIA\", \"Producto\": \"GRUPAL\", \"cesados\": 35}, {\"CESE\": \"2019-08-01T00:00:00\", \"TIPO\": \"VOLUNTARIA\", \"Producto\": \"INDIVIDUAL\", \"cesados\": 11}, {\"CESE\": \"2019-09-01T00:00:00\", \"TIPO\": \"INVOLUNTARIA\", \"Producto\": \"GRUPAL\", \"cesados\": 13}, {\"CESE\": \"2019-09-01T00:00:00\", \"TIPO\": \"INVOLUNTARIA\", \"Producto\": \"INDIVIDUAL\", \"cesados\": 12}, {\"CESE\": \"2019-09-01T00:00:00\", \"TIPO\": \"VOLUNTARIA\", \"Producto\": \"GRUPAL\", \"cesados\": 21}, {\"CESE\": \"2019-09-01T00:00:00\", \"TIPO\": \"VOLUNTARIA\", \"Producto\": \"INDIVIDUAL\", \"cesados\": 20}, {\"CESE\": \"2019-10-01T00:00:00\", \"TIPO\": \"INVOLUNTARIA\", \"Producto\": \"GRUPAL\", \"cesados\": 10}, {\"CESE\": \"2019-10-01T00:00:00\", \"TIPO\": \"INVOLUNTARIA\", \"Producto\": \"INDIVIDUAL\", \"cesados\": 15}, {\"CESE\": \"2019-10-01T00:00:00\", \"TIPO\": \"VOLUNTARIA\", \"Producto\": \"GRUPAL\", \"cesados\": 31}, {\"CESE\": \"2019-10-01T00:00:00\", \"TIPO\": \"VOLUNTARIA\", \"Producto\": \"INDIVIDUAL\", \"cesados\": 19}, {\"CESE\": \"2019-11-01T00:00:00\", \"TIPO\": \"INVOLUNTARIA\", \"Producto\": \"GRUPAL\", \"cesados\": 13}, {\"CESE\": \"2019-11-01T00:00:00\", \"TIPO\": \"INVOLUNTARIA\", \"Producto\": \"INDIVIDUAL\", \"cesados\": 9}, {\"CESE\": \"2019-11-01T00:00:00\", \"TIPO\": \"VOLUNTARIA\", \"Producto\": \"GRUPAL\", \"cesados\": 28}, {\"CESE\": \"2019-11-01T00:00:00\", \"TIPO\": \"VOLUNTARIA\", \"Producto\": \"INDIVIDUAL\", \"cesados\": 20}, {\"CESE\": \"2019-12-01T00:00:00\", \"TIPO\": \"INVOLUNTARIA\", \"Producto\": \"GRUPAL\", \"cesados\": 13}, {\"CESE\": \"2019-12-01T00:00:00\", \"TIPO\": \"INVOLUNTARIA\", \"Producto\": \"INDIVIDUAL\", \"cesados\": 3}, {\"CESE\": \"2019-12-01T00:00:00\", \"TIPO\": \"VOLUNTARIA\", \"Producto\": \"GRUPAL\", \"cesados\": 31}, {\"CESE\": \"2019-12-01T00:00:00\", \"TIPO\": \"VOLUNTARIA\", \"Producto\": \"INDIVIDUAL\", \"cesados\": 11}, {\"CESE\": \"2020-01-01T00:00:00\", \"TIPO\": \"INVOLUNTARIA\", \"Producto\": \"GRUPAL\", \"cesados\": 15}, {\"CESE\": \"2020-01-01T00:00:00\", \"TIPO\": \"INVOLUNTARIA\", \"Producto\": \"INDIVIDUAL\", \"cesados\": 12}, {\"CESE\": \"2020-01-01T00:00:00\", \"TIPO\": \"VOLUNTARIA\", \"Producto\": \"GRUPAL\", \"cesados\": 44}, {\"CESE\": \"2020-01-01T00:00:00\", \"TIPO\": \"VOLUNTARIA\", \"Producto\": \"INDIVIDUAL\", \"cesados\": 33}, {\"CESE\": \"2020-02-01T00:00:00\", \"TIPO\": \"INVOLUNTARIA\", \"Producto\": \"GRUPAL\", \"cesados\": 11}, {\"CESE\": \"2020-02-01T00:00:00\", \"TIPO\": \"INVOLUNTARIA\", \"Producto\": \"INDIVIDUAL\", \"cesados\": 9}, {\"CESE\": \"2020-02-01T00:00:00\", \"TIPO\": \"VOLUNTARIA\", \"Producto\": \"GRUPAL\", \"cesados\": 38}, {\"CESE\": \"2020-02-01T00:00:00\", \"TIPO\": \"VOLUNTARIA\", \"Producto\": \"INDIVIDUAL\", \"cesados\": 28}, {\"CESE\": \"2020-03-01T00:00:00\", \"TIPO\": \"INVOLUNTARIA\", \"Producto\": \"GRUPAL\", \"cesados\": 11}, {\"CESE\": \"2020-03-01T00:00:00\", \"TIPO\": \"INVOLUNTARIA\", \"Producto\": \"INDIVIDUAL\", \"cesados\": 4}, {\"CESE\": \"2020-03-01T00:00:00\", \"TIPO\": \"VOLUNTARIA\", \"Producto\": \"GRUPAL\", \"cesados\": 32}, {\"CESE\": \"2020-03-01T00:00:00\", \"TIPO\": \"VOLUNTARIA\", \"Producto\": \"INDIVIDUAL\", \"cesados\": 14}, {\"CESE\": \"2020-04-01T00:00:00\", \"TIPO\": \"INVOLUNTARIA\", \"Producto\": \"GRUPAL\", \"cesados\": 4}, {\"CESE\": \"2020-04-01T00:00:00\", \"TIPO\": \"INVOLUNTARIA\", \"Producto\": \"INDIVIDUAL\", \"cesados\": 1}, {\"CESE\": \"2020-04-01T00:00:00\", \"TIPO\": \"VOLUNTARIA\", \"Producto\": \"GRUPAL\", \"cesados\": 5}, {\"CESE\": \"2020-04-01T00:00:00\", \"TIPO\": \"VOLUNTARIA\", \"Producto\": \"INDIVIDUAL\", \"cesados\": 1}, {\"CESE\": \"2020-05-01T00:00:00\", \"TIPO\": \"INVOLUNTARIA\", \"Producto\": \"GRUPAL\", \"cesados\": 4}, {\"CESE\": \"2020-05-01T00:00:00\", \"TIPO\": \"VOLUNTARIA\", \"Producto\": \"GRUPAL\", \"cesados\": 4}, {\"CESE\": \"2020-05-01T00:00:00\", \"TIPO\": \"VOLUNTARIA\", \"Producto\": \"INDIVIDUAL\", \"cesados\": 2}, {\"CESE\": \"2020-06-01T00:00:00\", \"TIPO\": \"INVOLUNTARIA\", \"Producto\": \"GRUPAL\", \"cesados\": 16}, {\"CESE\": \"2020-06-01T00:00:00\", \"TIPO\": \"INVOLUNTARIA\", \"Producto\": \"INDIVIDUAL\", \"cesados\": 6}, {\"CESE\": \"2020-06-01T00:00:00\", \"TIPO\": \"VOLUNTARIA\", \"Producto\": \"GRUPAL\", \"cesados\": 11}, {\"CESE\": \"2020-06-01T00:00:00\", \"TIPO\": \"VOLUNTARIA\", \"Producto\": \"INDIVIDUAL\", \"cesados\": 1}, {\"CESE\": \"2020-07-01T00:00:00\", \"TIPO\": \"INVOLUNTARIA\", \"Producto\": \"GRUPAL\", \"cesados\": 4}, {\"CESE\": \"2020-07-01T00:00:00\", \"TIPO\": \"INVOLUNTARIA\", \"Producto\": \"INDIVIDUAL\", \"cesados\": 4}, {\"CESE\": \"2020-07-01T00:00:00\", \"TIPO\": \"VOLUNTARIA\", \"Producto\": \"GRUPAL\", \"cesados\": 18}, {\"CESE\": \"2020-07-01T00:00:00\", \"TIPO\": \"VOLUNTARIA\", \"Producto\": \"INDIVIDUAL\", \"cesados\": 4}, {\"CESE\": \"2020-08-01T00:00:00\", \"TIPO\": \"INVOLUNTARIA\", \"Producto\": \"GRUPAL\", \"cesados\": 7}, {\"CESE\": \"2020-08-01T00:00:00\", \"TIPO\": \"INVOLUNTARIA\", \"Producto\": \"INDIVIDUAL\", \"cesados\": 3}, {\"CESE\": \"2020-08-01T00:00:00\", \"TIPO\": \"VOLUNTARIA\", \"Producto\": \"GRUPAL\", \"cesados\": 19}, {\"CESE\": \"2020-08-01T00:00:00\", \"TIPO\": \"VOLUNTARIA\", \"Producto\": \"INDIVIDUAL\", \"cesados\": 5}, {\"CESE\": \"2020-09-01T00:00:00\", \"TIPO\": \"INVOLUNTARIA\", \"Producto\": \"GRUPAL\", \"cesados\": 11}, {\"CESE\": \"2020-09-01T00:00:00\", \"TIPO\": \"INVOLUNTARIA\", \"Producto\": \"INDIVIDUAL\", \"cesados\": 8}, {\"CESE\": \"2020-09-01T00:00:00\", \"TIPO\": \"VOLUNTARIA\", \"Producto\": \"GRUPAL\", \"cesados\": 30}, {\"CESE\": \"2020-09-01T00:00:00\", \"TIPO\": \"VOLUNTARIA\", \"Producto\": \"INDIVIDUAL\", \"cesados\": 5}, {\"CESE\": \"2020-10-01T00:00:00\", \"TIPO\": \"INVOLUNTARIA\", \"Producto\": \"GRUPAL\", \"cesados\": 10}, {\"CESE\": \"2020-10-01T00:00:00\", \"TIPO\": \"INVOLUNTARIA\", \"Producto\": \"INDIVIDUAL\", \"cesados\": 8}, {\"CESE\": \"2020-10-01T00:00:00\", \"TIPO\": \"VOLUNTARIA\", \"Producto\": \"GRUPAL\", \"cesados\": 23}, {\"CESE\": \"2020-10-01T00:00:00\", \"TIPO\": \"VOLUNTARIA\", \"Producto\": \"INDIVIDUAL\", \"cesados\": 6}, {\"CESE\": \"2020-11-01T00:00:00\", \"TIPO\": \"INVOLUNTARIA\", \"Producto\": \"GRUPAL\", \"cesados\": 8}, {\"CESE\": \"2020-11-01T00:00:00\", \"TIPO\": \"INVOLUNTARIA\", \"Producto\": \"INDIVIDUAL\", \"cesados\": 4}, {\"CESE\": \"2020-11-01T00:00:00\", \"TIPO\": \"VOLUNTARIA\", \"Producto\": \"GRUPAL\", \"cesados\": 23}, {\"CESE\": \"2020-11-01T00:00:00\", \"TIPO\": \"VOLUNTARIA\", \"Producto\": \"INDIVIDUAL\", \"cesados\": 5}, {\"CESE\": \"2020-12-01T00:00:00\", \"TIPO\": \"INVOLUNTARIA\", \"Producto\": \"GRUPAL\", \"cesados\": 5}, {\"CESE\": \"2020-12-01T00:00:00\", \"TIPO\": \"INVOLUNTARIA\", \"Producto\": \"INDIVIDUAL\", \"cesados\": 6}, {\"CESE\": \"2020-12-01T00:00:00\", \"TIPO\": \"VOLUNTARIA\", \"Producto\": \"GRUPAL\", \"cesados\": 31}, {\"CESE\": \"2020-12-01T00:00:00\", \"TIPO\": \"VOLUNTARIA\", \"Producto\": \"INDIVIDUAL\", \"cesados\": 8}, {\"CESE\": \"2021-01-01T00:00:00\", \"TIPO\": \"INVOLUNTARIA\", \"Producto\": \"GRUPAL\", \"cesados\": 10}, {\"CESE\": \"2021-01-01T00:00:00\", \"TIPO\": \"INVOLUNTARIA\", \"Producto\": \"INDIVIDUAL\", \"cesados\": 1}, {\"CESE\": \"2021-01-01T00:00:00\", \"TIPO\": \"VOLUNTARIA\", \"Producto\": \"GRUPAL\", \"cesados\": 17}, {\"CESE\": \"2021-01-01T00:00:00\", \"TIPO\": \"VOLUNTARIA\", \"Producto\": \"INDIVIDUAL\", \"cesados\": 9}, {\"CESE\": \"2021-02-01T00:00:00\", \"TIPO\": \"INVOLUNTARIA\", \"Producto\": \"GRUPAL\", \"cesados\": 18}, {\"CESE\": \"2021-02-01T00:00:00\", \"TIPO\": \"INVOLUNTARIA\", \"Producto\": \"INDIVIDUAL\", \"cesados\": 8}, {\"CESE\": \"2021-02-01T00:00:00\", \"TIPO\": \"VOLUNTARIA\", \"Producto\": \"GRUPAL\", \"cesados\": 21}, {\"CESE\": \"2021-02-01T00:00:00\", \"TIPO\": \"VOLUNTARIA\", \"Producto\": \"INDIVIDUAL\", \"cesados\": 6}, {\"CESE\": \"2021-03-01T00:00:00\", \"TIPO\": \"INVOLUNTARIA\", \"Producto\": \"GRUPAL\", \"cesados\": 12}, {\"CESE\": \"2021-03-01T00:00:00\", \"TIPO\": \"INVOLUNTARIA\", \"Producto\": \"INDIVIDUAL\", \"cesados\": 7}, {\"CESE\": \"2021-03-01T00:00:00\", \"TIPO\": \"VOLUNTARIA\", \"Producto\": \"GRUPAL\", \"cesados\": 31}, {\"CESE\": \"2021-03-01T00:00:00\", \"TIPO\": \"VOLUNTARIA\", \"Producto\": \"INDIVIDUAL\", \"cesados\": 15}, {\"CESE\": \"2021-04-01T00:00:00\", \"TIPO\": \"INVOLUNTARIA\", \"Producto\": \"GRUPAL\", \"cesados\": 22}, {\"CESE\": \"2021-04-01T00:00:00\", \"TIPO\": \"INVOLUNTARIA\", \"Producto\": \"INDIVIDUAL\", \"cesados\": 5}, {\"CESE\": \"2021-04-01T00:00:00\", \"TIPO\": \"VOLUNTARIA\", \"Producto\": \"GRUPAL\", \"cesados\": 31}, {\"CESE\": \"2021-04-01T00:00:00\", \"TIPO\": \"VOLUNTARIA\", \"Producto\": \"INDIVIDUAL\", \"cesados\": 17}, {\"CESE\": \"2021-05-01T00:00:00\", \"TIPO\": \"INVOLUNTARIA\", \"Producto\": \"GRUPAL\", \"cesados\": 8}, {\"CESE\": \"2021-05-01T00:00:00\", \"TIPO\": \"INVOLUNTARIA\", \"Producto\": \"INDIVIDUAL\", \"cesados\": 3}, {\"CESE\": \"2021-05-01T00:00:00\", \"TIPO\": \"VOLUNTARIA\", \"Producto\": \"GRUPAL\", \"cesados\": 33}, {\"CESE\": \"2021-05-01T00:00:00\", \"TIPO\": \"VOLUNTARIA\", \"Producto\": \"INDIVIDUAL\", \"cesados\": 13}, {\"CESE\": \"2021-06-01T00:00:00\", \"TIPO\": \"INVOLUNTARIA\", \"Producto\": \"GRUPAL\", \"cesados\": 14}, {\"CESE\": \"2021-06-01T00:00:00\", \"TIPO\": \"INVOLUNTARIA\", \"Producto\": \"INDIVIDUAL\", \"cesados\": 4}, {\"CESE\": \"2021-06-01T00:00:00\", \"TIPO\": \"VOLUNTARIA\", \"Producto\": \"GRUPAL\", \"cesados\": 16}, {\"CESE\": \"2021-06-01T00:00:00\", \"TIPO\": \"VOLUNTARIA\", \"Producto\": \"INDIVIDUAL\", \"cesados\": 11}, {\"CESE\": \"2021-07-01T00:00:00\", \"TIPO\": \"INVOLUNTARIA\", \"Producto\": \"GRUPAL\", \"cesados\": 10}, {\"CESE\": \"2021-07-01T00:00:00\", \"TIPO\": \"INVOLUNTARIA\", \"Producto\": \"INDIVIDUAL\", \"cesados\": 2}, {\"CESE\": \"2021-07-01T00:00:00\", \"TIPO\": \"VOLUNTARIA\", \"Producto\": \"GRUPAL\", \"cesados\": 13}, {\"CESE\": \"2021-07-01T00:00:00\", \"TIPO\": \"VOLUNTARIA\", \"Producto\": \"INDIVIDUAL\", \"cesados\": 3}, {\"CESE\": \"2021-08-01T00:00:00\", \"TIPO\": \"INVOLUNTARIA\", \"Producto\": \"GRUPAL\", \"cesados\": 3}, {\"CESE\": \"2021-08-01T00:00:00\", \"TIPO\": \"INVOLUNTARIA\", \"Producto\": \"INDIVIDUAL\", \"cesados\": 2}, {\"CESE\": \"2021-08-01T00:00:00\", \"TIPO\": \"VOLUNTARIA\", \"Producto\": \"GRUPAL\", \"cesados\": 21}, {\"CESE\": \"2021-08-01T00:00:00\", \"TIPO\": \"VOLUNTARIA\", \"Producto\": \"INDIVIDUAL\", \"cesados\": 14}, {\"CESE\": \"2021-09-01T00:00:00\", \"TIPO\": \"INVOLUNTARIA\", \"Producto\": \"GRUPAL\", \"cesados\": 10}, {\"CESE\": \"2021-09-01T00:00:00\", \"TIPO\": \"VOLUNTARIA\", \"Producto\": \"GRUPAL\", \"cesados\": 22}, {\"CESE\": \"2021-09-01T00:00:00\", \"TIPO\": \"VOLUNTARIA\", \"Producto\": \"INDIVIDUAL\", \"cesados\": 16}, {\"CESE\": \"2021-10-01T00:00:00\", \"TIPO\": \"INVOLUNTARIA\", \"Producto\": \"GRUPAL\", \"cesados\": 3}, {\"CESE\": \"2021-10-01T00:00:00\", \"TIPO\": \"INVOLUNTARIA\", \"Producto\": \"INDIVIDUAL\", \"cesados\": 3}, {\"CESE\": \"2021-10-01T00:00:00\", \"TIPO\": \"VOLUNTARIA\", \"Producto\": \"GRUPAL\", \"cesados\": 19}, {\"CESE\": \"2021-10-01T00:00:00\", \"TIPO\": \"VOLUNTARIA\", \"Producto\": \"INDIVIDUAL\", \"cesados\": 17}, {\"CESE\": \"2021-11-01T00:00:00\", \"TIPO\": \"INVOLUNTARIA\", \"Producto\": \"GRUPAL\", \"cesados\": 8}, {\"CESE\": \"2021-11-01T00:00:00\", \"TIPO\": \"INVOLUNTARIA\", \"Producto\": \"INDIVIDUAL\", \"cesados\": 6}, {\"CESE\": \"2021-11-01T00:00:00\", \"TIPO\": \"VOLUNTARIA\", \"Producto\": \"GRUPAL\", \"cesados\": 16}, {\"CESE\": \"2021-11-01T00:00:00\", \"TIPO\": \"VOLUNTARIA\", \"Producto\": \"INDIVIDUAL\", \"cesados\": 14}, {\"CESE\": \"2021-12-01T00:00:00\", \"TIPO\": \"INVOLUNTARIA\", \"Producto\": \"GRUPAL\", \"cesados\": 9}, {\"CESE\": \"2021-12-01T00:00:00\", \"TIPO\": \"INVOLUNTARIA\", \"Producto\": \"INDIVIDUAL\", \"cesados\": 7}, {\"CESE\": \"2021-12-01T00:00:00\", \"TIPO\": \"VOLUNTARIA\", \"Producto\": \"GRUPAL\", \"cesados\": 17}, {\"CESE\": \"2021-12-01T00:00:00\", \"TIPO\": \"VOLUNTARIA\", \"Producto\": \"INDIVIDUAL\", \"cesados\": 10}]}}, {\"mode\": \"vega-lite\"});\n",
       "</script>"
      ],
      "text/plain": [
       "alt.Chart(...)"
      ]
     },
     "execution_count": 14,
     "metadata": {},
     "output_type": "execute_result"
    }
   ],
   "source": [
    "ceses_tipo = ceses[ceses['CARGO'].isin(\n",
    "    ['ASESOR NEGOCIOS CREDITO GRUPAL',\n",
    "    'ASESOR NEGOCIOS CREDITO INDIVIDUAL'])].groupby(\n",
    "    by=['CESE','TIPO', 'Producto'],\n",
    "    as_index = False\n",
    "    ).agg(\n",
    "        cesados = ('CODIGO', 'count')\n",
    "    )\n",
    "\n",
    "alt.Chart(ceses_tipo).mark_bar().encode(\n",
    "    x = 'year(CESE):N',\n",
    "    y = 'sum(cesados)',\n",
    "    color = 'TIPO',\n",
    "    column = 'Producto'\n",
    ")"
   ]
  },
  {
   "cell_type": "markdown",
   "metadata": {},
   "source": [
    "* Tambien es necesario analizar el otro tipo de CESE basado en el tiempo de parmanencia en el puesto antes de cesar\n",
    "* Con el histograma se muestra el cambio del comportamiento desde el mes 3, por lo que tomaremos la rotacion voluntaria de asesores desde el mes 3\n",
    "* En el caso de Individual, a partir del mes 21 se ve una bajada constante  de los ceses segun le tiempo. Del mes 12 al 21 aumenta segun el tiempo, pero del 3 al 12 baja segun el tiempo\n",
    "* *preguntar porque temprana esta definido desde 6 meses*"
   ]
  },
  {
   "cell_type": "code",
   "execution_count": 15,
   "metadata": {},
   "outputs": [],
   "source": [
    "ceses['INGRESO'] = ceses['INGRESO'].to_numpy().astype('datetime64[M]')\n",
    "ceses['antiguedad'] = (((ceses['CESE'] - ceses['INGRESO']).dt.days)/30).round(0)\n",
    "\n",
    "ceses_antg = ceses[(\n",
    "    ceses['CARGO'].isin(\n",
    "        ['ASESOR NEGOCIOS CREDITO GRUPAL',\n",
    "        'ASESOR NEGOCIOS CREDITO INDIVIDUAL'])) &\n",
    "    (ceses['TIPO'] == 'VOLUNTARIA')].groupby(\n",
    "    by=['Producto','antiguedad'],\n",
    "    as_index=False\n",
    ").agg(cesados = ('CODIGO', 'count'))\n",
    "\n"
   ]
  },
  {
   "cell_type": "code",
   "execution_count": 21,
   "metadata": {},
   "outputs": [
    {
     "data": {
      "text/html": [
       "\n",
       "<div id=\"altair-viz-14f8e0fb2de14e2398f4972b4ea22dc8\"></div>\n",
       "<script type=\"text/javascript\">\n",
       "  (function(spec, embedOpt){\n",
       "    let outputDiv = document.currentScript.previousElementSibling;\n",
       "    if (outputDiv.id !== \"altair-viz-14f8e0fb2de14e2398f4972b4ea22dc8\") {\n",
       "      outputDiv = document.getElementById(\"altair-viz-14f8e0fb2de14e2398f4972b4ea22dc8\");\n",
       "    }\n",
       "    const paths = {\n",
       "      \"vega\": \"https://cdn.jsdelivr.net/npm//vega@5?noext\",\n",
       "      \"vega-lib\": \"https://cdn.jsdelivr.net/npm//vega-lib?noext\",\n",
       "      \"vega-lite\": \"https://cdn.jsdelivr.net/npm//vega-lite@4.8.1?noext\",\n",
       "      \"vega-embed\": \"https://cdn.jsdelivr.net/npm//vega-embed@6?noext\",\n",
       "    };\n",
       "\n",
       "    function loadScript(lib) {\n",
       "      return new Promise(function(resolve, reject) {\n",
       "        var s = document.createElement('script');\n",
       "        s.src = paths[lib];\n",
       "        s.async = true;\n",
       "        s.onload = () => resolve(paths[lib]);\n",
       "        s.onerror = () => reject(`Error loading script: ${paths[lib]}`);\n",
       "        document.getElementsByTagName(\"head\")[0].appendChild(s);\n",
       "      });\n",
       "    }\n",
       "\n",
       "    function showError(err) {\n",
       "      outputDiv.innerHTML = `<div class=\"error\" style=\"color:red;\">${err}</div>`;\n",
       "      throw err;\n",
       "    }\n",
       "\n",
       "    function displayChart(vegaEmbed) {\n",
       "      vegaEmbed(outputDiv, spec, embedOpt)\n",
       "        .catch(err => showError(`Javascript Error: ${err.message}<br>This usually means there's a typo in your chart specification. See the javascript console for the full traceback.`));\n",
       "    }\n",
       "\n",
       "    if(typeof define === \"function\" && define.amd) {\n",
       "      requirejs.config({paths});\n",
       "      require([\"vega-embed\"], displayChart, err => showError(`Error loading script: ${err.message}`));\n",
       "    } else if (typeof vegaEmbed === \"function\") {\n",
       "      displayChart(vegaEmbed);\n",
       "    } else {\n",
       "      loadScript(\"vega\")\n",
       "        .then(() => loadScript(\"vega-lite\"))\n",
       "        .then(() => loadScript(\"vega-embed\"))\n",
       "        .catch(showError)\n",
       "        .then(() => displayChart(vegaEmbed));\n",
       "    }\n",
       "  })({\"config\": {\"view\": {\"continuousWidth\": 400, \"continuousHeight\": 300}}, \"data\": {\"name\": \"data-8dfc2f59afaab1637b8826c277a4fe24\"}, \"facet\": {\"type\": \"nominal\", \"field\": \"Producto\"}, \"spec\": {\"mark\": \"bar\", \"encoding\": {\"x\": {\"type\": \"quantitative\", \"bin\": {\"step\": 6}, \"field\": \"antiguedad\"}, \"y\": {\"type\": \"quantitative\", \"field\": \"cesados\"}}}, \"columns\": 1, \"resolve\": {\"scale\": {\"x\": \"independent\", \"y\": \"independent\"}}, \"$schema\": \"https://vega.github.io/schema/vega-lite/v4.8.1.json\", \"datasets\": {\"data-8dfc2f59afaab1637b8826c277a4fe24\": [{\"Producto\": \"GRUPAL\", \"antiguedad\": 0.0, \"cesados\": 11}, {\"Producto\": \"GRUPAL\", \"antiguedad\": 1.0, \"cesados\": 33}, {\"Producto\": \"GRUPAL\", \"antiguedad\": 2.0, \"cesados\": 33}, {\"Producto\": \"GRUPAL\", \"antiguedad\": 3.0, \"cesados\": 64}, {\"Producto\": \"GRUPAL\", \"antiguedad\": 4.0, \"cesados\": 40}, {\"Producto\": \"GRUPAL\", \"antiguedad\": 5.0, \"cesados\": 39}, {\"Producto\": \"GRUPAL\", \"antiguedad\": 6.0, \"cesados\": 49}, {\"Producto\": \"GRUPAL\", \"antiguedad\": 7.0, \"cesados\": 48}, {\"Producto\": \"GRUPAL\", \"antiguedad\": 8.0, \"cesados\": 42}, {\"Producto\": \"GRUPAL\", \"antiguedad\": 9.0, \"cesados\": 51}, {\"Producto\": \"GRUPAL\", \"antiguedad\": 10.0, \"cesados\": 44}, {\"Producto\": \"GRUPAL\", \"antiguedad\": 11.0, \"cesados\": 43}, {\"Producto\": \"GRUPAL\", \"antiguedad\": 12.0, \"cesados\": 31}, {\"Producto\": \"GRUPAL\", \"antiguedad\": 13.0, \"cesados\": 23}, {\"Producto\": \"GRUPAL\", \"antiguedad\": 14.0, \"cesados\": 35}, {\"Producto\": \"GRUPAL\", \"antiguedad\": 15.0, \"cesados\": 31}, {\"Producto\": \"GRUPAL\", \"antiguedad\": 16.0, \"cesados\": 28}, {\"Producto\": \"GRUPAL\", \"antiguedad\": 17.0, \"cesados\": 29}, {\"Producto\": \"GRUPAL\", \"antiguedad\": 18.0, \"cesados\": 25}, {\"Producto\": \"GRUPAL\", \"antiguedad\": 19.0, \"cesados\": 25}, {\"Producto\": \"GRUPAL\", \"antiguedad\": 20.0, \"cesados\": 28}, {\"Producto\": \"GRUPAL\", \"antiguedad\": 21.0, \"cesados\": 22}, {\"Producto\": \"GRUPAL\", \"antiguedad\": 22.0, \"cesados\": 18}, {\"Producto\": \"GRUPAL\", \"antiguedad\": 23.0, \"cesados\": 22}, {\"Producto\": \"GRUPAL\", \"antiguedad\": 24.0, \"cesados\": 31}, {\"Producto\": \"GRUPAL\", \"antiguedad\": 25.0, \"cesados\": 22}, {\"Producto\": \"GRUPAL\", \"antiguedad\": 26.0, \"cesados\": 10}, {\"Producto\": \"GRUPAL\", \"antiguedad\": 27.0, \"cesados\": 16}, {\"Producto\": \"GRUPAL\", \"antiguedad\": 28.0, \"cesados\": 19}, {\"Producto\": \"GRUPAL\", \"antiguedad\": 29.0, \"cesados\": 17}, {\"Producto\": \"GRUPAL\", \"antiguedad\": 30.0, \"cesados\": 14}, {\"Producto\": \"GRUPAL\", \"antiguedad\": 31.0, \"cesados\": 12}, {\"Producto\": \"GRUPAL\", \"antiguedad\": 32.0, \"cesados\": 19}, {\"Producto\": \"GRUPAL\", \"antiguedad\": 33.0, \"cesados\": 12}, {\"Producto\": \"GRUPAL\", \"antiguedad\": 34.0, \"cesados\": 18}, {\"Producto\": \"GRUPAL\", \"antiguedad\": 35.0, \"cesados\": 9}, {\"Producto\": \"GRUPAL\", \"antiguedad\": 36.0, \"cesados\": 10}, {\"Producto\": \"GRUPAL\", \"antiguedad\": 37.0, \"cesados\": 10}, {\"Producto\": \"GRUPAL\", \"antiguedad\": 38.0, \"cesados\": 9}, {\"Producto\": \"GRUPAL\", \"antiguedad\": 39.0, \"cesados\": 4}, {\"Producto\": \"GRUPAL\", \"antiguedad\": 40.0, \"cesados\": 9}, {\"Producto\": \"GRUPAL\", \"antiguedad\": 41.0, \"cesados\": 4}, {\"Producto\": \"GRUPAL\", \"antiguedad\": 42.0, \"cesados\": 12}, {\"Producto\": \"GRUPAL\", \"antiguedad\": 43.0, \"cesados\": 4}, {\"Producto\": \"GRUPAL\", \"antiguedad\": 44.0, \"cesados\": 10}, {\"Producto\": \"GRUPAL\", \"antiguedad\": 45.0, \"cesados\": 2}, {\"Producto\": \"GRUPAL\", \"antiguedad\": 46.0, \"cesados\": 1}, {\"Producto\": \"GRUPAL\", \"antiguedad\": 47.0, \"cesados\": 4}, {\"Producto\": \"GRUPAL\", \"antiguedad\": 48.0, \"cesados\": 6}, {\"Producto\": \"GRUPAL\", \"antiguedad\": 49.0, \"cesados\": 4}, {\"Producto\": \"GRUPAL\", \"antiguedad\": 50.0, \"cesados\": 6}, {\"Producto\": \"GRUPAL\", \"antiguedad\": 51.0, \"cesados\": 2}, {\"Producto\": \"GRUPAL\", \"antiguedad\": 52.0, \"cesados\": 6}, {\"Producto\": \"GRUPAL\", \"antiguedad\": 53.0, \"cesados\": 2}, {\"Producto\": \"GRUPAL\", \"antiguedad\": 54.0, \"cesados\": 5}, {\"Producto\": \"GRUPAL\", \"antiguedad\": 55.0, \"cesados\": 2}, {\"Producto\": \"GRUPAL\", \"antiguedad\": 56.0, \"cesados\": 1}, {\"Producto\": \"GRUPAL\", \"antiguedad\": 57.0, \"cesados\": 1}, {\"Producto\": \"GRUPAL\", \"antiguedad\": 58.0, \"cesados\": 5}, {\"Producto\": \"GRUPAL\", \"antiguedad\": 59.0, \"cesados\": 1}, {\"Producto\": \"GRUPAL\", \"antiguedad\": 60.0, \"cesados\": 3}, {\"Producto\": \"GRUPAL\", \"antiguedad\": 61.0, \"cesados\": 2}, {\"Producto\": \"GRUPAL\", \"antiguedad\": 62.0, \"cesados\": 3}, {\"Producto\": \"GRUPAL\", \"antiguedad\": 65.0, \"cesados\": 3}, {\"Producto\": \"GRUPAL\", \"antiguedad\": 66.0, \"cesados\": 1}, {\"Producto\": \"GRUPAL\", \"antiguedad\": 67.0, \"cesados\": 1}, {\"Producto\": \"GRUPAL\", \"antiguedad\": 69.0, \"cesados\": 2}, {\"Producto\": \"GRUPAL\", \"antiguedad\": 71.0, \"cesados\": 2}, {\"Producto\": \"GRUPAL\", \"antiguedad\": 74.0, \"cesados\": 1}, {\"Producto\": \"GRUPAL\", \"antiguedad\": 75.0, \"cesados\": 1}, {\"Producto\": \"GRUPAL\", \"antiguedad\": 76.0, \"cesados\": 3}, {\"Producto\": \"GRUPAL\", \"antiguedad\": 79.0, \"cesados\": 1}, {\"Producto\": \"GRUPAL\", \"antiguedad\": 82.0, \"cesados\": 2}, {\"Producto\": \"GRUPAL\", \"antiguedad\": 83.0, \"cesados\": 1}, {\"Producto\": \"GRUPAL\", \"antiguedad\": 87.0, \"cesados\": 1}, {\"Producto\": \"GRUPAL\", \"antiguedad\": 89.0, \"cesados\": 1}, {\"Producto\": \"INDIVIDUAL\", \"antiguedad\": 0.0, \"cesados\": 7}, {\"Producto\": \"INDIVIDUAL\", \"antiguedad\": 1.0, \"cesados\": 18}, {\"Producto\": \"INDIVIDUAL\", \"antiguedad\": 2.0, \"cesados\": 18}, {\"Producto\": \"INDIVIDUAL\", \"antiguedad\": 3.0, \"cesados\": 18}, {\"Producto\": \"INDIVIDUAL\", \"antiguedad\": 4.0, \"cesados\": 27}, {\"Producto\": \"INDIVIDUAL\", \"antiguedad\": 5.0, \"cesados\": 9}, {\"Producto\": \"INDIVIDUAL\", \"antiguedad\": 6.0, \"cesados\": 14}, {\"Producto\": \"INDIVIDUAL\", \"antiguedad\": 7.0, \"cesados\": 17}, {\"Producto\": \"INDIVIDUAL\", \"antiguedad\": 8.0, \"cesados\": 10}, {\"Producto\": \"INDIVIDUAL\", \"antiguedad\": 9.0, \"cesados\": 9}, {\"Producto\": \"INDIVIDUAL\", \"antiguedad\": 10.0, \"cesados\": 8}, {\"Producto\": \"INDIVIDUAL\", \"antiguedad\": 11.0, \"cesados\": 10}, {\"Producto\": \"INDIVIDUAL\", \"antiguedad\": 12.0, \"cesados\": 6}, {\"Producto\": \"INDIVIDUAL\", \"antiguedad\": 13.0, \"cesados\": 14}, {\"Producto\": \"INDIVIDUAL\", \"antiguedad\": 14.0, \"cesados\": 15}, {\"Producto\": \"INDIVIDUAL\", \"antiguedad\": 15.0, \"cesados\": 14}, {\"Producto\": \"INDIVIDUAL\", \"antiguedad\": 16.0, \"cesados\": 9}, {\"Producto\": \"INDIVIDUAL\", \"antiguedad\": 17.0, \"cesados\": 6}, {\"Producto\": \"INDIVIDUAL\", \"antiguedad\": 18.0, \"cesados\": 15}, {\"Producto\": \"INDIVIDUAL\", \"antiguedad\": 19.0, \"cesados\": 10}, {\"Producto\": \"INDIVIDUAL\", \"antiguedad\": 20.0, \"cesados\": 16}, {\"Producto\": \"INDIVIDUAL\", \"antiguedad\": 21.0, \"cesados\": 20}, {\"Producto\": \"INDIVIDUAL\", \"antiguedad\": 22.0, \"cesados\": 10}, {\"Producto\": \"INDIVIDUAL\", \"antiguedad\": 23.0, \"cesados\": 20}, {\"Producto\": \"INDIVIDUAL\", \"antiguedad\": 24.0, \"cesados\": 9}, {\"Producto\": \"INDIVIDUAL\", \"antiguedad\": 25.0, \"cesados\": 14}, {\"Producto\": \"INDIVIDUAL\", \"antiguedad\": 26.0, \"cesados\": 14}, {\"Producto\": \"INDIVIDUAL\", \"antiguedad\": 27.0, \"cesados\": 15}, {\"Producto\": \"INDIVIDUAL\", \"antiguedad\": 28.0, \"cesados\": 18}, {\"Producto\": \"INDIVIDUAL\", \"antiguedad\": 29.0, \"cesados\": 10}, {\"Producto\": \"INDIVIDUAL\", \"antiguedad\": 30.0, \"cesados\": 12}, {\"Producto\": \"INDIVIDUAL\", \"antiguedad\": 31.0, \"cesados\": 6}, {\"Producto\": \"INDIVIDUAL\", \"antiguedad\": 32.0, \"cesados\": 13}, {\"Producto\": \"INDIVIDUAL\", \"antiguedad\": 33.0, \"cesados\": 6}, {\"Producto\": \"INDIVIDUAL\", \"antiguedad\": 34.0, \"cesados\": 14}, {\"Producto\": \"INDIVIDUAL\", \"antiguedad\": 35.0, \"cesados\": 3}, {\"Producto\": \"INDIVIDUAL\", \"antiguedad\": 36.0, \"cesados\": 4}, {\"Producto\": \"INDIVIDUAL\", \"antiguedad\": 37.0, \"cesados\": 3}, {\"Producto\": \"INDIVIDUAL\", \"antiguedad\": 38.0, \"cesados\": 7}, {\"Producto\": \"INDIVIDUAL\", \"antiguedad\": 39.0, \"cesados\": 4}, {\"Producto\": \"INDIVIDUAL\", \"antiguedad\": 40.0, \"cesados\": 4}, {\"Producto\": \"INDIVIDUAL\", \"antiguedad\": 41.0, \"cesados\": 2}, {\"Producto\": \"INDIVIDUAL\", \"antiguedad\": 42.0, \"cesados\": 4}, {\"Producto\": \"INDIVIDUAL\", \"antiguedad\": 43.0, \"cesados\": 4}, {\"Producto\": \"INDIVIDUAL\", \"antiguedad\": 44.0, \"cesados\": 3}, {\"Producto\": \"INDIVIDUAL\", \"antiguedad\": 45.0, \"cesados\": 3}, {\"Producto\": \"INDIVIDUAL\", \"antiguedad\": 46.0, \"cesados\": 6}, {\"Producto\": \"INDIVIDUAL\", \"antiguedad\": 47.0, \"cesados\": 3}, {\"Producto\": \"INDIVIDUAL\", \"antiguedad\": 48.0, \"cesados\": 4}, {\"Producto\": \"INDIVIDUAL\", \"antiguedad\": 49.0, \"cesados\": 4}, {\"Producto\": \"INDIVIDUAL\", \"antiguedad\": 50.0, \"cesados\": 2}, {\"Producto\": \"INDIVIDUAL\", \"antiguedad\": 51.0, \"cesados\": 8}, {\"Producto\": \"INDIVIDUAL\", \"antiguedad\": 52.0, \"cesados\": 4}, {\"Producto\": \"INDIVIDUAL\", \"antiguedad\": 53.0, \"cesados\": 4}, {\"Producto\": \"INDIVIDUAL\", \"antiguedad\": 54.0, \"cesados\": 4}, {\"Producto\": \"INDIVIDUAL\", \"antiguedad\": 55.0, \"cesados\": 2}, {\"Producto\": \"INDIVIDUAL\", \"antiguedad\": 56.0, \"cesados\": 2}, {\"Producto\": \"INDIVIDUAL\", \"antiguedad\": 57.0, \"cesados\": 6}, {\"Producto\": \"INDIVIDUAL\", \"antiguedad\": 58.0, \"cesados\": 3}, {\"Producto\": \"INDIVIDUAL\", \"antiguedad\": 59.0, \"cesados\": 2}, {\"Producto\": \"INDIVIDUAL\", \"antiguedad\": 60.0, \"cesados\": 1}, {\"Producto\": \"INDIVIDUAL\", \"antiguedad\": 61.0, \"cesados\": 1}, {\"Producto\": \"INDIVIDUAL\", \"antiguedad\": 63.0, \"cesados\": 1}, {\"Producto\": \"INDIVIDUAL\", \"antiguedad\": 64.0, \"cesados\": 3}, {\"Producto\": \"INDIVIDUAL\", \"antiguedad\": 65.0, \"cesados\": 4}, {\"Producto\": \"INDIVIDUAL\", \"antiguedad\": 66.0, \"cesados\": 4}, {\"Producto\": \"INDIVIDUAL\", \"antiguedad\": 67.0, \"cesados\": 2}, {\"Producto\": \"INDIVIDUAL\", \"antiguedad\": 68.0, \"cesados\": 3}, {\"Producto\": \"INDIVIDUAL\", \"antiguedad\": 69.0, \"cesados\": 5}, {\"Producto\": \"INDIVIDUAL\", \"antiguedad\": 70.0, \"cesados\": 1}, {\"Producto\": \"INDIVIDUAL\", \"antiguedad\": 71.0, \"cesados\": 1}, {\"Producto\": \"INDIVIDUAL\", \"antiguedad\": 72.0, \"cesados\": 2}, {\"Producto\": \"INDIVIDUAL\", \"antiguedad\": 74.0, \"cesados\": 2}, {\"Producto\": \"INDIVIDUAL\", \"antiguedad\": 75.0, \"cesados\": 2}, {\"Producto\": \"INDIVIDUAL\", \"antiguedad\": 76.0, \"cesados\": 1}, {\"Producto\": \"INDIVIDUAL\", \"antiguedad\": 77.0, \"cesados\": 3}, {\"Producto\": \"INDIVIDUAL\", \"antiguedad\": 78.0, \"cesados\": 3}, {\"Producto\": \"INDIVIDUAL\", \"antiguedad\": 80.0, \"cesados\": 2}, {\"Producto\": \"INDIVIDUAL\", \"antiguedad\": 83.0, \"cesados\": 1}, {\"Producto\": \"INDIVIDUAL\", \"antiguedad\": 84.0, \"cesados\": 1}, {\"Producto\": \"INDIVIDUAL\", \"antiguedad\": 86.0, \"cesados\": 4}, {\"Producto\": \"INDIVIDUAL\", \"antiguedad\": 93.0, \"cesados\": 1}, {\"Producto\": \"INDIVIDUAL\", \"antiguedad\": 95.0, \"cesados\": 1}, {\"Producto\": \"INDIVIDUAL\", \"antiguedad\": 99.0, \"cesados\": 3}, {\"Producto\": \"INDIVIDUAL\", \"antiguedad\": 103.0, \"cesados\": 1}, {\"Producto\": \"INDIVIDUAL\", \"antiguedad\": 111.0, \"cesados\": 1}, {\"Producto\": \"INDIVIDUAL\", \"antiguedad\": 116.0, \"cesados\": 1}, {\"Producto\": \"INDIVIDUAL\", \"antiguedad\": 119.0, \"cesados\": 1}, {\"Producto\": \"INDIVIDUAL\", \"antiguedad\": 124.0, \"cesados\": 1}, {\"Producto\": \"INDIVIDUAL\", \"antiguedad\": 146.0, \"cesados\": 1}, {\"Producto\": \"INDIVIDUAL\", \"antiguedad\": 154.0, \"cesados\": 1}]}}, {\"mode\": \"vega-lite\"});\n",
       "</script>"
      ],
      "text/plain": [
       "alt.FacetChart(...)"
      ]
     },
     "execution_count": 21,
     "metadata": {},
     "output_type": "execute_result"
    }
   ],
   "source": [
    "\n",
    "# GRAFICANDO\n",
    "alt.Chart(ceses_antg).mark_bar().encode(\n",
    "    x = alt.X(\n",
    "        'antiguedad',\n",
    "        bin = alt.BinParams(step=6)\n",
    "        ),\n",
    "    y = 'cesados',\n",
    "#    color = 'Producto'\n",
    ").facet(\n",
    "    'Producto',\n",
    "    columns = 1\n",
    ").resolve_scale(\n",
    "    x='independent',\n",
    "    y='independent'\n",
    ")"
   ]
  },
  {
   "cell_type": "markdown",
   "metadata": {},
   "source": [
    "* filtro el dataset general para obtener el dataset que utilizare segun el analisis realizado"
   ]
  },
  {
   "cell_type": "code",
   "execution_count": 22,
   "metadata": {},
   "outputs": [],
   "source": [
    "ceses['INGRESO'] = ceses['INGRESO'].to_numpy().astype('datetime64[M]')\n",
    "ceses['antiguedad'] = (((ceses['CESE'] - ceses['INGRESO']).dt.days)/30).round(0)\n",
    "\n",
    "ceses_asesores = ceses[(\n",
    "    ceses['CARGO'].isin(\n",
    "        ['ASESOR NEGOCIOS CREDITO GRUPAL',\n",
    "        'ASESOR NEGOCIOS CREDITO INDIVIDUAL'])) &\n",
    "    (ceses['TIPO'] == 'VOLUNTARIA') &\n",
    "    (ceses['antiguedad'] >=3)]"
   ]
  },
  {
   "cell_type": "markdown",
   "metadata": {},
   "source": [
    "### Joins\n"
   ]
  },
  {
   "cell_type": "markdown",
   "metadata": {},
   "source": [
    "#### Jalo PAM para obtener\n",
    "* El nro de pams historico por codigo\n",
    "* al duracion el pam y aque mes del pam se van"
   ]
  },
  {
   "cell_type": "code",
   "execution_count": 26,
   "metadata": {},
   "outputs": [],
   "source": [
    "EMDT = pd.read_excel(\n",
    "    'C:/Users/Anna/Documents/1. Compartamos Financiera/Database/EMDT.xlsx',\n",
    "    usecols = 'C,Q,U,V,W',\n",
    "    converters = {'CODIGO CFIS':str}\n",
    "    ).rename(\n",
    "        columns={\n",
    "            'CODIGO CFIS':'cod',\n",
    "            'MOTIVO PRINCIPAL':'pam_motivo',\n",
    "            'FECHA DE INICIO DE EVALUACIÓN\\n(dd/mm/aa)':'pam_fi',\n",
    "            'FECHA DE CIERRE DE LA EVALUACIÓN\\n(dd/mm/aa)':'pam_fc',\n",
    "            'STATUS':'pam_status'}\n",
    "    )"
   ]
  },
  {
   "cell_type": "code",
   "execution_count": 67,
   "metadata": {},
   "outputs": [],
   "source": [
    "#Total pams por COD\n",
    "pam_nro = EMDT.groupby(\n",
    "    ['cod'],\n",
    "    as_index = False).agg(pam_total = ('cod', 'count'))"
   ]
  },
  {
   "cell_type": "code",
   "execution_count": 68,
   "metadata": {},
   "outputs": [],
   "source": [
    "# Duracion promedio PAM por COD\n",
    "EMDT['pam_duracion'] = round(((\n",
    "                        EMDT['pam_fc']-\n",
    "                        EMDT['pam_fi']).dt.days\n",
    "                        )/30,0)\n",
    "\n",
    "pam_duracion = EMDT.groupby(\n",
    "                    ['cod'],\n",
    "                    as_index=False).agg(\n",
    "                        pam_duracion = ('pam_duracion', 'mean')).round(0)"
   ]
  },
  {
   "cell_type": "code",
   "execution_count": 69,
   "metadata": {},
   "outputs": [
    {
     "name": "stderr",
     "output_type": "stream",
     "text": [
      "C:\\Users\\Anna\\AppData\\Local\\Temp/ipykernel_14292/641652520.py:8: FutureWarning: Indexing with multiple keys (implicitly converted to a tuple of keys) will be deprecated, use a list instead.\n",
      "  pam_dummy = pam_dummy.groupby([\n"
     ]
    }
   ],
   "source": [
    "# Dummies de PAM por COD\n",
    "pam_dummy = pd.get_dummies(\n",
    "    EMDT,\n",
    "    columns = [\n",
    "        'pam_motivo',\n",
    "        'pam_status'])\n",
    "        \n",
    "pam_dummy = pam_dummy.groupby([\n",
    "    'cod'],\n",
    "    as_index=False)[\n",
    "    'pam_motivo_DESEMPEÑO',\n",
    "    'pam_motivo_DISCIPLINA',\n",
    "    'pam_motivo_MIXTO',\n",
    "    'pam_status_ANULADO',\n",
    "    'pam_status_EN PROCESO',\n",
    "    'pam_status_FINALIZADO EXITOSO',\n",
    "    'pam_status_FINALIZADO NO EXITOSO',\n",
    "    'pam_status_FINALIZADO POR CESE',\n",
    "    'pam_status_NO ACEPTA INGRESAR AL PROGRAMA',\n",
    "    'pam_status_SUSPENDIDO'].sum()\n",
    "\n"
   ]
  },
  {
   "cell_type": "code",
   "execution_count": 74,
   "metadata": {},
   "outputs": [],
   "source": [
    "# uniendo todo PAM por codigo y borrando la col cod que se duplica\n",
    "pam = pd.concat([pam_nro,pam_duracion,pam_dummy], axis=1)\n",
    "pam = pam.loc[:,~pam.columns.duplicated()]"
   ]
  },
  {
   "cell_type": "markdown",
   "metadata": {},
   "source": [
    "#### Jalo Vacaciones para obtener\n",
    "* dias de vacaciones pendientes en su ultima fecha activo"
   ]
  },
  {
   "cell_type": "code",
   "execution_count": 95,
   "metadata": {},
   "outputs": [],
   "source": [
    "vacaciones = pd.read_excel(\n",
    "  'C:/Users/Anna/Documents/1. Compartamos Financiera/Database/Vacaciones.xlsx',\n",
    "  usecols='A,B,AC',\n",
    "  converters={'COD':str}).rename(\n",
    "  columns={\n",
    "    'COD':'cod',\n",
    "    'MES':'mes_vacas',\n",
    "    'SALDO TOTAL DIAS\\n(sin Negativos)':'vacas_pend'\n",
    "  }  \n",
    ") "
   ]
  },
  {
   "cell_type": "code",
   "execution_count": 118,
   "metadata": {},
   "outputs": [],
   "source": [
    "vacas_max = vacaciones.groupby(\n",
    "    by=['cod'],\n",
    "    as_index=False).agg(\n",
    "        mes_vacas = ('mes_vacas','max'))\n",
    "        \n",
    "vacas_pend = pd.merge(\n",
    "    vacas_max,\n",
    "    vacaciones,\n",
    "    left_on = ['cod','mes_vacas'],\n",
    "    right_on = ['cod','mes_vacas'])"
   ]
  },
  {
   "cell_type": "code",
   "execution_count": null,
   "metadata": {},
   "outputs": [],
   "source": [
    "# Bases que necesitare\n",
    "memos_ap = pd.read_excel(\n",
    "    'C:/Users/Anna/Documents/1. Compartamos Financiera/Database/Memos y Ceses RRLL.xlsx',\n",
    "    usecols='E,H:P,S,T,W:Z') #nro, falta, sanciones, tiempo antes de memo\n",
    "\n",
    "DM = pd.read_excel(\n",
    "    'C:/Users/Anna/Documents/1. Compartamos Financiera/Database/Descansos Medicos y Subsidios.xlsx',\n",
    "    usecols='E,H:P,S,T,W:Z') #nro, dias total dm\n",
    "\n",
    "CAP_p = pd.read_excel(\n",
    "    'C:/Users/Anna/Documents/1. Compartamos Financiera/Database/CAP y PPTO.xlsx',\n",
    "    usecols='E,H:P,S,T,W:Z') #cap de la agecia\n",
    "\n",
    "recas = pd.read_excel(\n",
    "    'C:/Users/Anna/Documents/1. Compartamos Financiera/Database/Recategorizaciones CG CI.xlsx',\n",
    "    usecols='E,H:P,S,T,W:Z') #nro recas # tiempo de reca\n",
    "\n",
    "rvci =pd.read_excel(\n",
    "    'C:/Users/Anna/Documents/1. Compartamos Financiera/Database/RV CI.xlsx',\n",
    "    usecols='E,H:P,S,T,W:Z') #monto desemb rv generado\n",
    "\n",
    "rvcg =pd.read_excel(\n",
    "    'C:/Users/Anna/Documents/1. Compartamos Financiera/Database/RV CG.xlsx',\n",
    "    usecols='E,H:P,S,T,W:Z') #monto desemb rv generado\n",
    "\n",
    "desemp =pd.read_excel(\n",
    "    'C:/Users/Anna/Documents/1. Compartamos Financiera/Database/desempeño 2021.xlsx',\n",
    "    usecols='E,H:P,S,T,W:Z') #promedio desemp\n",
    "\n",
    "reconocimiento = pd.read_excel(\n",
    "    'C:/Users/Anna/Documents/1. Compartamos Financiera/Database/Reconocimiento.xlsx',\n",
    "    usecols='E,H:P,S,T,W:Z') #nro reco, monto premio\n",
    "\n",
    "hijxs =pd.read_excel(\n",
    "    'C:/Users/Anna/Documents/1. Compartamos Financiera/Database/Hijos por colab.xlsx',\n",
    "    usecols='E,H:P,S,T,W:Z') #total hijos colab, edad prom hijxs\n",
    "    \n",
    "gptw =pd.read_excel(\n",
    "    'C:/Users/Anna/Documents/1. Compartamos Financiera/Database/GPTW detalle.xlsx',\n",
    "    usecols='E,H:P,S,T,W:Z') #prom gptw agencia \n"
   ]
  },
  {
   "cell_type": "markdown",
   "metadata": {},
   "source": [
    "### Individual"
   ]
  },
  {
   "cell_type": "code",
   "execution_count": 28,
   "metadata": {},
   "outputs": [
    {
     "data": {
      "text/plain": [
       "CODIGO                              int64\n",
       "CATEGORIA A.                       object\n",
       "CARGO                              object\n",
       "DEPARTAMENTO / GERENCIA            object\n",
       "GERENCIA CENTRAL                   object\n",
       "AGENCIA                            object\n",
       "TERRITORIO                         object\n",
       "DIVISION                           object\n",
       "INGRESO                    datetime64[ns]\n",
       "CESE                       datetime64[ns]\n",
       "Total o Temprana                   object\n",
       "Producto                           object\n",
       "TIPO                               object\n",
       "MOTIVO PRIMARIO                    object\n",
       "Desgloce                           object\n",
       "DESCRIPCION DEL CESE               object\n",
       "dtype: object"
      ]
     },
     "execution_count": 28,
     "metadata": {},
     "output_type": "execute_result"
    }
   ],
   "source": [
    "ceses.dtypes"
   ]
  },
  {
   "cell_type": "code",
   "execution_count": 27,
   "metadata": {},
   "outputs": [
    {
     "data": {
      "text/plain": [
       "CODIGO                        0\n",
       "CATEGORIA A.               2011\n",
       "CARGO                         0\n",
       "DEPARTAMENTO / GERENCIA       0\n",
       "GERENCIA CENTRAL              0\n",
       "AGENCIA                       0\n",
       "TERRITORIO                    0\n",
       "DIVISION                      0\n",
       "INGRESO                       0\n",
       "CESE                          0\n",
       "Total o Temprana              0\n",
       "Producto                      0\n",
       "TIPO                          0\n",
       "MOTIVO PRIMARIO               0\n",
       "Desgloce                      0\n",
       "DESCRIPCION DEL CESE         96\n",
       "dtype: int64"
      ]
     },
     "execution_count": 27,
     "metadata": {},
     "output_type": "execute_result"
    }
   ],
   "source": [
    "ceses.isnull().sum()"
   ]
  },
  {
   "cell_type": "code",
   "execution_count": null,
   "metadata": {},
   "outputs": [],
   "source": []
  }
 ],
 "metadata": {
  "interpreter": {
   "hash": "f1d700fa1b1b82d30cc5721a422db1239f21bfed7e745009ba7cb431de82ad6d"
  },
  "kernelspec": {
   "display_name": "Python 3.10.1 64-bit",
   "language": "python",
   "name": "python3"
  },
  "language_info": {
   "codemirror_mode": {
    "name": "ipython",
    "version": 3
   },
   "file_extension": ".py",
   "mimetype": "text/x-python",
   "name": "python",
   "nbconvert_exporter": "python",
   "pygments_lexer": "ipython3",
   "version": "3.10.1"
  },
  "orig_nbformat": 4
 },
 "nbformat": 4,
 "nbformat_minor": 2
}
