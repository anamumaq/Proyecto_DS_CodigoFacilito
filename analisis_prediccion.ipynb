{
 "cells": [
  {
   "cell_type": "code",
   "execution_count": 1,
   "metadata": {},
   "outputs": [],
   "source": [
    "import pandas as pd"
   ]
  },
  {
   "cell_type": "markdown",
   "metadata": {},
   "source": [
    "## Antecedentes - Importando Bases\n",
    "#### 1. Planilla:\n",
    "* Importancia: \n",
    "    * Base de colaboradores y el area de donde pertenecen desde el 2018 al 2021 \n",
    "    * Es el archivo madre desde donde trabajar porque tiene todos los colaboradores\n",
    "* Variables a usar:\n",
    "    * MES, COD, Cargo, Oficina, Producto, Territorio y Zona\n",
    "#### 2. Entrevistas Ceses\n",
    "* Importancia: \n",
    "    * Reporte de Encuestas hechas a cesados en el proceso de salida de la empresa\n",
    "* Variables a usar:\n",
    "    * CESE, Ingreso, COD, Cargo\n",
    "#### 3. Programa de mejora\n",
    "* Importancia: \n",
    "    * Base de colaboradores que entraron al programa de mejora y su tiempo de permanencia. si no cumple con el programa el colaborador es invitado a retirarse.\n",
    "* Variables a usar:\n",
    "    * Codigo, motivo, fecha inicio programa, status programa\n",
    "#### 4. Memorandum\n",
    "* Importancia: \n",
    "    * Lista de memorandums aplicados a los colaboradores por diferentes tipos de falta\n",
    "* Variables a usar:\n",
    "    * Codigo, Cargo, Fecha de memo, Reporte\n",
    "#### 5. Vacaciones\n",
    "* Importancia: \n",
    "    * Nro de vacaciones acumuladas por no tomarlas cuando correspondia, al ano se se deberian tomar 30 dias de vacaciones\n",
    "* Variables a usar:\n",
    "    * Codigo, cargo, Dias pendientes\n",
    "#### 6. Desacanso Medico\n",
    "* Importancia: \n",
    "    * Nro de dias otrogados a los colaboradores por descanso medico por mes\n",
    "* Variables a usar:\n",
    "    * Codigo, cargo, Dias de descanso medico\n",
    "#### 7. Bonos Venta Individual y grupal\n",
    "* Importancia: \n",
    "    * Bono otorgado por cumplir ciertas reglas y metas en las ventas del mes en individual y Grupal\n",
    "* Variables a usar:\n",
    "    * CESE, Ingreso, COD, Cargo\n",
    "#### 8. Desempeno\n",
    "* Importancia: \n",
    "    * Nro de vacaciones acumuladas por no tomarlas cuando correspondia, al ano se se deberian tomar 30 dias de vacaciones\n",
    "* Variables a usar:\n",
    "    * CESE, Ingreso, COD, Cargo\n",
    "#### 9. Reconocimientos\n",
    "* Importancia: \n",
    "    * Nro de vacaciones acumuladas por no tomarlas cuando correspondia, al ano se se deberian tomar 30 dias de vacaciones\n",
    "* Variables a usar:\n",
    "    * CESE, Ingreso, COD, Cargo\n",
    "#### 10. Hijos total\n",
    "* Importancia: \n",
    "    * Nro de vacaciones acumuladas por no tomarlas cuando correspondia, al ano se se deberian tomar 30 dias de vacaciones\n",
    "* Variables a usar:\n",
    "    * CESE, Ingreso, COD, Cargo\n",
    "#### 11. Info personal\n",
    "* Importancia: \n",
    "    * Nro de vacaciones acumuladas por no tomarlas cuando correspondia, al ano se se deberian tomar 30 dias de vacaciones\n",
    "* Variables a usar:\n",
    "    * CESE, Ingreso, COD, Cargo\n",
    "#### 12. Recategorizaciones\n",
    "* Importancia: \n",
    "    * Nro de vacaciones acumuladas por no tomarlas cuando correspondia, al ano se se deberian tomar 30 dias de vacaciones\n",
    "* Variables a usar:\n",
    "    * CESE, Ingreso, COD, Cargo\n",
    "#### 13. Cobertura Personal - Oficina\n",
    "* Importancia: \n",
    "    * Nro de vacaciones acumuladas por no tomarlas cuando correspondia, al ano se se deberian tomar 30 dias de vacaciones\n",
    "* Variables a usar:\n",
    "    * CESE, Ingreso, COD, Cargo\n",
    "#### 14. Antiguedad de Oficina\n",
    "* Importancia: \n",
    "    * Nro de vacaciones acumuladas por no tomarlas cuando correspondia, al ano se se deberian tomar 30 dias de vacaciones\n",
    "* Variables a usar:\n",
    "    * CESE, Ingreso, COD, Cargo\n",
    "#### 15. GPTW por oficina\n",
    "* Importancia: \n",
    "    * Nro de vacaciones acumuladas por no tomarlas cuando correspondia, al ano se se deberian tomar 30 dias de vacaciones\n",
    "* Variables a usar:\n",
    "    * CESE, Ingreso, COD, Cargo\n"
   ]
  },
  {
   "cell_type": "code",
   "execution_count": 34,
   "metadata": {},
   "outputs": [],
   "source": [
    "def extrae_drive(url):\n",
    "    edit = '/edit#gid='\n",
    "    export ='/export?format=csv&gid='\n",
    "    url = (url).replace(edit, export)\n",
    "    df = pd.read_csv(url)\n",
    "    return df"
   ]
  },
  {
   "cell_type": "code",
   "execution_count": 35,
   "metadata": {},
   "outputs": [],
   "source": [
    "planilla = extrae_drive('https://docs.google.com/spreadsheets/d/1L094YBwj3BvobbXb4t3ahzpmL6gBSxgs/edit#gid=648976010')\n",
    "entrevistas = extrae_drive('https://docs.google.com/spreadsheets/d/1bO_T0lAQgjcpjFFNVAwiXd2obwRjJS3K/edit#gid=2050623625')\n",
    "programa_mejora = extrae_drive('https://docs.google.com/spreadsheets/d/1CKFlLpx248yvZS0INAawAA5e8NC2qdvV/edit#gid=1510069928')\n",
    "memos = extrae_drive('https://docs.google.com/spreadsheets/d/1Q2pvICQWLAh8Rvou9FvH085KULXioDVK/edit#gid=238204385')\n",
    "vacaciones = extrae_drive('https://docs.google.com/spreadsheets/d/1riJOPN5KUwV1962wO6mjPL7PMgL2v3_s/edit#gid=800276956')\n",
    "descanso_medico = extrae_drive('https://docs.google.com/spreadsheets/d/1H_oENDjS0FyDNVmSg1199PrE6s8q6z7-/edit#gid=1138295584')\n",
    "bonos_venta_i = extrae_drive('https://docs.google.com/spreadsheets/d/1Vjh5S86c1r60L-CnuQB_m6JZPy223Z4p/edit#gid=100516943834575165411')\n",
    "bonos_venta_g = extrae_drive('https://docs.google.com/spreadsheets/d/1Vjh5S86c1r60L-CnuQB_m6JZPy223Z4p/edit#gid=100516943834575165411')\n",
    "desempeno = extrae_drive()\n",
    "reconocimientos = extrae_drive()\n",
    "hijxs = extrae_drive()\n",
    "datos_personales = extrae_drive()\n",
    "recategorizaciones = extrae_drive()\n",
    "cobertura_ofi = extrae_drive()\n",
    "antg_oficina = extrae_drive()\n",
    "gptw_oficina = extrae_drive()"
   ]
  },
  {
   "cell_type": "code",
   "execution_count": null,
   "metadata": {},
   "outputs": [],
   "source": []
  }
 ],
 "metadata": {
  "interpreter": {
   "hash": "f1d700fa1b1b82d30cc5721a422db1239f21bfed7e745009ba7cb431de82ad6d"
  },
  "kernelspec": {
   "display_name": "Python 3.10.1 64-bit",
   "language": "python",
   "name": "python3"
  },
  "language_info": {
   "codemirror_mode": {
    "name": "ipython",
    "version": 3
   },
   "file_extension": ".py",
   "mimetype": "text/x-python",
   "name": "python",
   "nbconvert_exporter": "python",
   "pygments_lexer": "ipython3",
   "version": "3.10.1"
  },
  "orig_nbformat": 4
 },
 "nbformat": 4,
 "nbformat_minor": 2
}
